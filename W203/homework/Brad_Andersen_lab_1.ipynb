{
 "cells": [
  {
   "cell_type": "markdown",
   "metadata": {},
   "source": [
    "# Lab 1: Probability Theory\n",
    "## W203: Statistics for Data Science\n",
    "\n"
   ]
  },
  {
   "cell_type": "markdown",
   "metadata": {},
   "source": [
    "## 1. Meanwhile, at the Unfair Coin Factory...\n",
    "\n",
    "You are given a bucket that contains 100 coins.  99 of these are fair coins, but one of them is a trick coin that always comes up heads.  You select one coin from this bucket at random.  Let T be the event that you select the trick coin.  This means that $P(T) = 0.01$.\n",
    "\n",
    "a. Suppose you flip the coin once and it comes up heads.  Call this event $H_1$.  If this event occurs, what is the conditional probability that you have the trick coin?  In other words, what is $P(T|H_1)$?\n",
    "\n",
    "b. Suppose instead that you flip the coin $k$ times.  Let $H_k$ be the event that the coin comes up heads all $k$ times.  If you see this occur, what is the conditional probability that you have the trick coin?  In other words, what is $P(T|H_k)$.\n",
    "\n",
    "c. How many heads in a row would you need to observe in order for the conditional probability that you have the trick coin to be higher than 99%?"
   ]
  },
  {
   "cell_type": "markdown",
   "metadata": {},
   "source": [
    "## 2.  Wise Investments \n",
    "\n",
    "You invest in two startup companies focused on data science.  Thanks to your growing expertise in this area, each company will reach unicorn status (valued at \\\\$1 billion) with probability 3/4, independent of the other company.  Let random variable $X$ be the total number of companies that reach unicorn status.  X can take on the values 0, 1, and 2.  Note: $X$ is what we call a binomial random variable with parameters $n=2$ and $p=3/4$.\n",
    "\n",
    "a. Give a complete expression for the probability mass function of $X$.\n",
    "\n",
    "b. Give a complete expression for the cumulative probability function of $X$.\n",
    "\n",
    "c. Compute $E(X)$.\n",
    "\n",
    "d. Compute $var(X)$."
   ]
  },
  {
   "cell_type": "markdown",
   "metadata": {},
   "source": [
    "## 3. A Really Bad Darts Player\n",
    "\n",
    "Let $X$ and $Y$ be independent uniform random variables on the interval $[-1,1]$.  Let $D$ be a random variable that indicates if $(X,Y)$ falls within the unit circle centered at the origin.  We can define $D$ as follows:\n",
    "\n",
    "$$ D = \\begin{cases}\n",
    "1, &X^2 + Y^2 < 1 \\\\\n",
    "0, &otherwise\n",
    "\\end{cases}\n",
    "$$\n",
    "\n",
    "Note that $D$ is a Bernoulli variable."
   ]
  },
  {
   "cell_type": "markdown",
   "metadata": {},
   "source": [
    "### Probability density functions for random variables X and Y\n",
    "\n",
    "Given that random variables $X$ and $Y$ are continuous and uniform on the interval $[-1,1]$, their probability density functions (pdf) can be represented as follows:\n",
    "\n",
    "$$\n",
    "f(x; A, B) = \\begin{cases}\n",
    "\\dfrac{1}{B - A} & A \\le x \\le B \\\\\n",
    "0 & otherwise\n",
    "\\end{cases}\n",
    "$$\n",
    "\n",
    "Substituting the bounds of the interval on which $X$ and $Y$ are defined for $A$ and $B$, their pdf and graphical representation can be defined as follows (note that because both $X$ and $Y$ share the same properties, only the pdf for $X$ is shown):\n",
    "\n",
    "$$\n",
    "f(x; -1, 1) = \\begin{cases}\n",
    "\\dfrac{1}{2} & -1 \\le x \\le 1 \\\\\n",
    "0 & otherwise\n",
    "\\end{cases}\n",
    "$$"
   ]
  },
  {
   "cell_type": "code",
   "execution_count": 22,
   "metadata": {},
   "outputs": [
    {
     "data": {
      "image/png": "[encoded data removed]",
      "text/plain": [
       "Plot with title \"stepfun(knots, heights)\""
      ]
     },
     "metadata": {},
     "output_type": "display_data"
    }
   ],
   "source": [
    "a <- -1; b <- 1; min_x <- a - 1; max_x <- b + 1; prob_x <- 1 / (b - a);\n",
    "knots <- c(a, b); heights <- c(0, prob_x, 0);\n",
    "plot(stepfun(knots, heights), verticals = FALSE, xlab=\"x\", ylab=\"f(x)\", xlim = c(-2, 2), ylim = c(0, 1.5), do.points = FALSE)\n",
    "points(c(a, b), c(0, 0), pch = 1)\n",
    "points(c(a, b), c(prob_x, prob_x), pch = 19)"
   ]
  },
  {
   "cell_type": "markdown",
   "metadata": {},
   "source": [
    "\n",
    "lo <- -5\n",
    "hi <- 5\n",
    "x <- seq(lo - 1, hi + 1, 0.01)\n",
    "pdf_of_x <- dunif(x, lo, hi)\n",
    "\n",
    "cdf_of_x <- punif(x, lo, hi)\n",
    "\n",
    "probabilities <- seq(0, 1, 0.01)\n",
    "inverse_cdf_of_x <- qunif(probabilities, lo, hi)\n",
    "\n",
    "layout(matrix(1:3))\n",
    "plot(x, pdf_of_x, type = \"l\", main = \"PDF of x\")\n",
    "\n",
    "\n",
    "a. Compute the expectation $E(D)$.  Hint: it might help to remember why we use area diagrams to represent probabilites.\n",
    "\n",
    "b. Compute the standard deviation of $D$.\n",
    "\n",
    "c. Write an R function to compute the value of $D$, given a value for $X$ and a value for $Y$.  Use R to simulate a draw for $X$ and a draw for $Y$, then compute the value of $D$."
   ]
  },
  {
   "cell_type": "markdown",
   "metadata": {},
   "source": [
    "d. Use R to simulate the previous experiment 1000 times, resulting in 1000 samples for $D$.  Compute the sample mean and sample standard deviation of your result, and compare them to the true values in parts a. and b."
   ]
  },
  {
   "cell_type": "code",
   "execution_count": null,
   "metadata": {},
   "outputs": [],
   "source": []
  },
  {
   "cell_type": "markdown",
   "metadata": {},
   "source": [
    "# 4. Relating Min and Max\n",
    "\n",
    "Continuous random variables $X$ and $Y$ have a joint distribution with probability density function,\n",
    "\n",
    "$$ f(x,y) = \\begin{cases}\n",
    "2, &0 < y < x < 1 \\\\\n",
    "0, &otherwise.\n",
    "\\end{cases} $$\n",
    "\n",
    "You may wonder where you would find such a distribution.  In fact, if $A_1$ and $A_2$ are independent random variables uniformly distributed on $[0,1]$, and you define $X = max(A_1,A_2)$, $Y = min(A_1,A_2)$, then $X$ and $Y$ will have exactly the joint distribution defined above.\n",
    "\n",
    "a. Draw a graph of the region for which $X$ and $Y$ have positive probability density.\n",
    "\n",
    "b. Derive the marginal probability density function of $X$, $f_X(x)$.  Make sure you write down a complete expression.\n",
    "\n",
    "c. Derive the unconditional expectation of $X$.\n",
    "\n",
    "d. Derive the conditional probability density function of $Y$, conditional on $X$, $f_{Y|X}(y|x)$\n",
    "\n",
    "e. Derive the conditional expectation of $Y$, conditional on $X$, $E(Y|X)$.\n",
    "\n",
    "f. Derive $E(XY)$.  Hint 1: Use the law of iterated expectations.  Hint 2: If you take an expectation conditional on $X$, $X$ is just a constant inside the expectation.  This means that $E(XY|X) = XE(Y|X)$.\n",
    "\n",
    "g. Using the previous parts, derive $cov(X,Y)$"
   ]
  },
  {
   "cell_type": "code",
   "execution_count": null,
   "metadata": {},
   "outputs": [],
   "source": []
  }
 ],
 "metadata": {
  "kernelspec": {
   "display_name": "R",
   "language": "R",
   "name": "ir"
  },
  "language_info": {
   "codemirror_mode": "r",
   "file_extension": ".r",
   "mimetype": "text/x-r-source",
   "name": "R",
   "pygments_lexer": "r",
   "version": "3.5.2"
  }
 },
 "nbformat": 4,
 "nbformat_minor": 2
}
