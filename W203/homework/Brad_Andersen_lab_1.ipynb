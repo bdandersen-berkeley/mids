{
 "cells": [
  {
   "cell_type": "markdown",
   "metadata": {},
   "source": [
    "# Lab 1: Probability Theory\n",
    "### W203, Section 4: Statistics for Data Science\n",
    "### Brad Andersen - February 20, 2019"
   ]
  },
  {
   "cell_type": "markdown",
   "metadata": {},
   "source": [
    "## 1. Meanwhile, at the Unfair Coin Factory...\n",
    "\n",
    "You are given a bucket that contains 100 coins.  99 of these are fair coins, but one of them is a trick coin that always comes up heads.  You select one coin from this bucket at random.  Let T be the event that you select the trick coin.  This means that $P(T) = 0.01$.\n",
    "\n",
    "> a. Suppose you flip the coin once and it comes up heads.  Call this event $H_1$.  If this event occurs, what is the conditional probability that you have the trick coin?  In other words, what is $P(T|H_1)$?"
   ]
  },
  {
   "attachments": {
    "lab-1_problem-1a.png": {
     "image/png": "[encoded data removed]"
    }
   },
   "cell_type": "markdown",
   "metadata": {},
   "source": [
    "Given 100 coins whose individual events (*heads and tails* or, in the case of the trick coin, *heads and heads*) are mutually exclusive, there exist 200 individual outcomes from selecting one coin at random and flipping it.  Knowing that the trick coin *always* reveals heads, of these 200 outcomes, there exist 99 tail events and 101 head events.  The probability of one outcome being heads is as follows:\n",
    "\n",
    "\\begin{equation}\n",
    "\\begin{split}\n",
    "P(H_1) & = \\frac{101}{200} \\\\ \\\\\n",
    "& = 0.505\n",
    "\\end{split}\n",
    "\\end{equation}\n",
    "\n",
    "An area diagram documenting the percentages of events is as follows:\n",
    "\n",
    "![lab-1_problem-1a.png](attachment:lab-1_problem-1a.png)\n",
    "\n",
    "Note that the area representing the intersection of heads events and the trick coin selection event is comprised of no tails events; the trick coin produces only heads events.  Rather, it is equivalent to the number of trick coin heads events (2) within the entire event sample space of 200 potential outcomes.  Therefore,\n",
    "\n",
    "\\begin{equation}\n",
    "\\begin{split}\n",
    "P(T \\cap H_1) & = \\frac{2}{200} \\\\ \\\\\n",
    "& = 0.01\n",
    "\\end{split}\n",
    "\\end{equation}\n",
    "\n",
    "Calculating the probability of selecting the trick coin conditional upon one coin flip revealing heads is as follows:\n",
    "\n",
    "\\begin{equation}\n",
    "\\begin{split}\n",
    "P(T|H_1) & = \\dfrac{P(T \\cap H_1)}{P(H_1)} \\\\ \\\\\n",
    "& = \\frac{0.01}{0.505} \\\\ \\\\\n",
    "& = 0.0198\n",
    "\\end{split}\n",
    "\\end{equation}\n",
    "\n",
    "##### Therefore, $P(T|H_1) = 0.0198$."
   ]
  },
  {
   "cell_type": "markdown",
   "metadata": {},
   "source": [
    "> b. Suppose instead that you flip the coin $k$ times.  Let $H_k$ be the event that the coin comes up heads all $k$ times.  If you see this occur, what is the conditional probability that you have the trick coin?  In other words, what is $P(T|H_k)$."
   ]
  },
  {
   "cell_type": "markdown",
   "metadata": {},
   "source": [
    "Let:\n",
    "* $P(F)$ represent the probability of selecting a fair coin, calculated as $P(F) = 1 - P(T) = 0.99$.\n",
    "* $H_F$ represent the event of revealing a head when flipping a fair coin once.\n",
    "* $H_1$ represent the event of revealing a head when flipping the trick coin once (as defined with the problem, above).\n",
    "* $N_F$ represent the event of revealing a tail when flipping a fair coin once.\n",
    "* $H_{Fk}$ represent the event of revealing $k$ consecutive heads using a fair coin.\n",
    "* $H_{k}$ represent the event of revealing $k$ consecutive heads using the trick coin.\n",
    "\n",
    "Assume:\n",
    "* Flipping a fair coin reveals a head or a tail with equal probability (i.e. $P(H_F) = 0.5$ and $P(N_F) = 1 - P(H_F) = 0.5$).\n",
    "\n",
    "Using a fair coin, the probability of revealing a head with each flip decreases exponentially due to the multiplication rule.  For example, the probability of revealing two consecutive heads can be calculated as follows:\n",
    "\n",
    "\\begin{equation}\n",
    "\\begin{split}\n",
    "P(H_{F2}) & = P(H_F) \\cdot P(H_F) \\\\\n",
    "& = 0.5 \\cdot 0.5 \\\\\n",
    "& = 0.5^2 \\\\\n",
    "& = 0.25\n",
    "\\end{split}\n",
    "\\end{equation}\n",
    "\n",
    "The same calculation holds true for the flip of the trick coin, but the probability of revealing a head is always $1$:\n",
    "\n",
    "\\begin{equation}\n",
    "\\begin{split}\n",
    "P(H_2) & = P(H_1) \\cdot P(H_1) \\\\\n",
    "& = 1 \\cdot 1 \\\\\n",
    "& = 1^2 \\\\\n",
    "& = 1\n",
    "\\end{split}\n",
    "\\end{equation}\n",
    "\n",
    "The probability of having selected the one trick coin from the collection of 100 coins remains constant at $P(T) = 0.01$.  Therefore, because the probabilty of revealing a head with the trick coin is always $1$, the probability of revealing $k$ consecutive heads remains constant:\n",
    "\n",
    "\\begin{equation}\n",
    "\\begin{split}\n",
    "P(T \\cap H_k) & = P(T) \\cdot P(H_1)^k \\\\\n",
    "& = 0.01 \\cdot 1^k \\\\\n",
    "& = 0.01\n",
    "\\end{split}\n",
    "\\end{equation}\n",
    "\n",
    "The conditional probability of having selected the trick coin given consecutive revealed heads increases, as the conditional probability of having selected a fair coin given consecutive revealed heads decreases.  Calculating the conditional probability of having selected the trick coin given $k$ consecutive revealed heads revealed can be performed as follows:\n",
    "\n",
    "\\begin{equation}\n",
    "\\begin{split}\n",
    "P(T|H_k) & = \\frac{P(T \\cap H_k)}{(P(H_{F})^k \\cdot P(F)) + (P(H_1)^k \\cdot P(T))} \\\\ \\\\\n",
    "& = \\frac{0.01}{(0.5^k \\cdot 0.99) + (1^k \\cdot 0.01)} \\\\ \\\\\n",
    "& = \\frac{0.01}{(0.5^k \\cdot 0.99) + 0.01} \\\\\n",
    "\\end{split}\n",
    "\\end{equation}\n",
    "\n",
    "##### Therefore, $P(T|H_k)$ can be calculated using the following equation: $\\dfrac{0.01}{(0.5^k \\cdot 0.99) + 0.01}$"
   ]
  },
  {
   "cell_type": "markdown",
   "metadata": {},
   "source": [
    "> c. How many heads in a row would you need to observe in order for the conditional probability that you have the trick coin to be higher than 99%?"
   ]
  },
  {
   "cell_type": "markdown",
   "metadata": {},
   "source": [
    "The following R snippet calculates the number of consecutive head events required for the conditional probability that the trick coin was selected is greater than 99%:"
   ]
  },
  {
   "cell_type": "code",
   "execution_count": 12,
   "metadata": {},
   "outputs": [
    {
     "name": "stdout",
     "output_type": "stream",
     "text": [
      "[1] \"Consecutive heads required for 99% probability: 14\"\n"
     ]
    }
   ],
   "source": [
    "# Probability definitions\n",
    "p_trick <- 0.01\n",
    "p_fair <- 0.99\n",
    "p_fairhead <- 0.5\n",
    "p_trickhead <- 1\n",
    "\n",
    "# Function calculating P(T|H_k), derived from answer to problem 1b\n",
    "p_conditional <- function(k) {\n",
    "  p_fairhead_k <- p_fairhead ^ k\n",
    "  return(p_trick / ((p_fair * p_fairhead_k) + p_trick))\n",
    "}\n",
    "\n",
    "# Iterate through coin tosses, calculating the probability accordingly.\n",
    "# Stop and print the number of tosses performed with the probability\n",
    "# exceeds 99.\n",
    "tosses <- 0\n",
    "p_incremental <- 0\n",
    "while (p_incremental <= 0.99) {\n",
    "  tosses <- tosses + 1\n",
    "  p_incremental <- p_conditional(tosses)\n",
    "}\n",
    "print(paste(\"Consecutive heads required for 99% probability:\", tosses))"
   ]
  },
  {
   "cell_type": "markdown",
   "metadata": {},
   "source": [
    "##### Therefore, the number of consecutive head events required for the conditional probability that the trick coin was selected is greater than 99% is 14."
   ]
  },
  {
   "cell_type": "markdown",
   "metadata": {},
   "source": [
    "## 2.  Wise Investments \n",
    "\n",
    "You invest in two startup companies focused on data science.  Thanks to your growing expertise in this area, each company will reach unicorn status (valued at \\\\$1 billion) with probability 3/4, independent of the other company.  Let random variable $X$ be the total number of companies that reach unicorn status.  X can take on the values 0, 1, and 2.  Note: $X$ is what we call a binomial random variable with parameters $n=2$ and $p=3/4$.\n",
    "\n",
    "> a. Give a complete expression for the probability mass function of $X$."
   ]
  },
  {
   "cell_type": "markdown",
   "metadata": {},
   "source": [
    "Given binomial random variable $X$ with the following properties:\n",
    "* Values $x$ can assume: 0, 1 and 2\n",
    "* $n$ (number of trials): 2\n",
    "* $p$ (probability): 0.75\n",
    "\n",
    "Let:\n",
    "* $F$ represent trial failures\n",
    "* $S$ represent trial successes\n",
    "\n",
    "To compute the probability mass function for binomial random variables $X$, we will use the following theorem:\n",
    "\n",
    "\\begin{equation}\n",
    "b(x; n, p) = \n",
    "\\begin{cases}\n",
    "\\pmatrix{n\\\\x}p^x(1 - p)^{n - x} & x = 0, 1, 2, ..., n \\\\ \\\\\n",
    "0 & \\text{otherwise}\n",
    "\\end{cases}\n",
    "\\end{equation}\n",
    "\n",
    "Knowing the properties of $X$ and the means with which its pmf can be calculated, probabilities associated with the results of all possible trials are represented as follows:\n",
    "\n",
    "\\begin{matrix}\n",
    "\\hline\n",
    "\\textbf{Outcome} & \\textbf{x} & \\textbf{Probability Equation} & \\textbf{Probability} \\\\\n",
    "\\hline\n",
    "FF & 0 & (1 - p)^2 & 0.0625 \\\\\n",
    "FS & 1 & p\\cdot(1 - p) & 0.1875 \\\\\n",
    "SF & 1 & p\\cdot(1 - p) & 0.1875 \\\\\n",
    "SS & 2 & p^2 & 0.5625 \\\\\n",
    "\\end{matrix}\n",
    "\n",
    "##### The pmf for $X$ is therefore represented as follows:\n",
    "\n",
    "\\begin{equation}\n",
    "b(x; 2, 0.75) = \n",
    "\\begin{cases}\n",
    "\\pmatrix{2\\\\x}0.75^x\\cdot(1 - 0.75)^{2 - x} & x = 0, 1, 2 \\\\ \\\\\n",
    "0 & \\text{otherwise}\n",
    "\\end{cases}\n",
    "\\end{equation}"
   ]
  },
  {
   "cell_type": "markdown",
   "metadata": {},
   "source": [
    "> b. Give a complete expression for the cumulative probability function of $X$."
   ]
  },
  {
   "cell_type": "markdown",
   "metadata": {},
   "source": [
    "##### Substituting probability values calculated above, the cumulative probability function of $X$ is therefore represented as follows:\n",
    "\n",
    "\\begin{equation}\n",
    "F(x) = \n",
    "\\begin{cases}\n",
    "0 & x < 0 \\\\\n",
    "0.0625 & 0 \\le x < 1 \\\\\n",
    "0.4375 & 1 \\le x < 2 \\\\\n",
    "1 & 2 \\le x\n",
    "\\end{cases}\n",
    "\\end{equation}"
   ]
  },
  {
   "cell_type": "markdown",
   "metadata": {},
   "source": [
    "> c. Compute $E(X)$."
   ]
  },
  {
   "cell_type": "markdown",
   "metadata": {},
   "source": [
    "Substituting probability values calculated above, the expected value of $X$ can be calculated as follows:\n",
    "\n",
    "\\begin{equation}\n",
    "\\begin{split}\n",
    "E(X) & = \\sum_{x \\in [0, 1, 2]}x \\cdot p(x) \\\\\n",
    "& = 0 \\cdot p(0.0625) + 1 \\cdot p(0.375) + 2 \\cdot p(0.5625) \\\\\n",
    "& = 0 + 0.375 + 1.125 \\\\\n",
    "& = 1.5\n",
    "\\end{split}\n",
    "\\end{equation}\n",
    "\n",
    "Results are the same when the expected value of $X$ is calculated without summation:\n",
    "\n",
    "\\begin{equation}\n",
    "\\begin{split}\n",
    "E(X) & = n \\cdot p \\\\\n",
    "& = 2 \\cdot 0.75 \\\\\n",
    "& = 1.5\n",
    "\\end{split}\n",
    "\\end{equation}\n",
    "\n",
    "##### The expected value of $X$ (i.e. $E(X)$) is $1.5$."
   ]
  },
  {
   "cell_type": "markdown",
   "metadata": {},
   "source": [
    "> d. Compute $var(X)$."
   ]
  },
  {
   "cell_type": "markdown",
   "metadata": {},
   "source": [
    "Substituting probability values calculated above, the variance of $X$ can be calculated as follows:\n",
    "\n",
    "\\begin{equation}\n",
    "\\begin{split}\n",
    "var(X) & = \\sum_{x \\in [0, 1, 2]}(x - \\mu)^2 \\cdot p(x) \\\\\n",
    "& = (0 - 1.5)^2 \\cdot 0.0625 + (1 - 1.5)^2 \\cdot 0.375 + (2 - 1.5)^2 \\cdot 0.5625 \\\\\n",
    "& = 2.25 \\cdot 0.0625 + 0.25 \\cdot 0.375 +  0.25 \\cdot 0.5625 \\\\\n",
    "& = 0.375\n",
    "\\end{split}\n",
    "\\end{equation}\n",
    "\n",
    "Results are the same when the variance of $X$ is calculated without summation:\n",
    "\n",
    "\\begin{equation}\n",
    "\\begin{split}\n",
    "var(X) & = np(1 - p) \\\\\n",
    "& = 1.5 \\cdot 0.25 \\\\\n",
    "& = 0.375\n",
    "\\end{split}\n",
    "\\end{equation}\n",
    "\n",
    "##### The variance of $X$ (i.e. $var(X)$) is $0.375$."
   ]
  },
  {
   "cell_type": "markdown",
   "metadata": {},
   "source": [
    "## 3. A Really Bad Darts Player\n",
    "\n",
    "Let $X$ and $Y$ be independent uniform random variables on the interval $[-1,1]$.  Let $D$ be a random variable that indicates if $(X,Y)$ falls within the unit circle centered at the origin.  We can define $D$ as follows:\n",
    "\n",
    "$$ D = \\begin{cases}\n",
    "1, &X^2 + Y^2 < 1 \\\\\n",
    "0, &otherwise\n",
    "\\end{cases}\n",
    "$$\n",
    "\n",
    "Note that $D$ is a Bernoulli variable."
   ]
  },
  {
   "cell_type": "markdown",
   "metadata": {},
   "source": [
    "> a. Compute the expectation $E(D)$.  Hint: it might help to remember why we use area diagrams to represent probabilites."
   ]
  },
  {
   "cell_type": "markdown",
   "metadata": {},
   "source": [
    "#### Probability density functions for random variables X and Y\n",
    "\n",
    "Given that random variables $X$ and $Y$ are continuous and uniform on the interval $[-1,1]$, their probability density functions (pdf) can be represented as follows:\n",
    "\n",
    "$$\n",
    "f(x; A, B) = \\begin{cases}\n",
    "\\dfrac{1}{B - A} & A \\le x \\le B \\\\\n",
    "0 & otherwise\n",
    "\\end{cases}\n",
    "$$\n",
    "\n",
    "Substituting the bounds of the interval on which $X$ and $Y$ are defined for $A$ and $B$, their pdf and graphical representation can be defined as follows (note that because both $X$ and $Y$ share the same properties, only the pdf for $X$ is shown):\n",
    "\n",
    "$$\n",
    "f(x; -1, 1) = \\begin{cases}\n",
    "\\dfrac{1}{2} & -1 \\le x \\le 1 \\\\\n",
    "0 & otherwise\n",
    "\\end{cases}\n",
    "$$"
   ]
  },
  {
   "cell_type": "code",
   "execution_count": 13,
   "metadata": {},
   "outputs": [
    {
     "data": {
      "image/png": "[encoded data removed]",
      "text/plain": [
       "Plot with title \"pdf of Random Variables X and Y\""
      ]
     },
     "metadata": {},
     "output_type": "display_data"
    }
   ],
   "source": [
    "options(repr.plot.width=4, repr.plot.height=4)\n",
    "par(ps = 10, cex = 1, cex.main = 1)\n",
    "a <- -1; b <- 1; min_x <- a - 1; max_x <- b + 1; prob_x <- 1 / (b - a);\n",
    "knots <- c(a, b); heights <- c(0, prob_x, 0);\n",
    "plot(\n",
    "    stepfun(knots, heights), \n",
    "    verticals = FALSE, \n",
    "    xlab=\"x\", \n",
    "    ylab=\"f(x)\", \n",
    "    xlim = c(-2, 2), \n",
    "    ylim = c(0, 1.5), \n",
    "    do.points = FALSE, \n",
    "    main = \"pdf of Random Variables X and Y\"\n",
    ")\n",
    "points(c(a, b), c(0, 0), pch = 1)\n",
    "points(c(a, b), c(prob_x, prob_x), pch = 19)"
   ]
  },
  {
   "attachments": {
    "lab-1_problem-3a-1.png": {
     "image/png": "[encoded data removed]"
    },
    "lab-1_problem-3a-2.png": {
     "image/png": "[encoded data removed]"
    }
   },
   "cell_type": "markdown",
   "metadata": {},
   "source": [
    "#### Sample space and \"target\" geometries\n",
    "\n",
    "The intervals of random variables $X$ and $Y$ define a sample space that is square, has a width and length of 2, and is centered on the origin $(0, 0)$.  On a Cartesian plane, this sample space is represented as follows:\n",
    "\n",
    "![lab-1_problem-3a-1.png](attachment:lab-1_problem-3a-1.png)\n",
    "\n",
    "Values of these random variables can be represented as $(x, y)$ coordinates on this plane.\n",
    "\n",
    "The \"target\" area for which we are calculating probabilities is a unit circle, also centered on the origin $(0, 0)$ of a Cartesian plane.  $D$, a random Bernoulli variable, is defined with its value being assigned $1$ when $X^2 + Y^2 < 1$.  Given the Pythagorean theorem, with adjacent and opposite lengths of a right triangle represented by $a$ and $b$:\n",
    "\n",
    "$$\n",
    "a^2 + b^2 = c^2\n",
    "$$\n",
    "\n",
    "a likeness with the definition of $D$ is apparent; random variables $X$ and $Y$ can be associated with the legs of a right triangle whose hypotenuse is less than $1$.  On the Cartesian plane, points where $x^2 + y^2 = 1$ can be visualized as a circle whose radius is the maximum length of the hypotenuse, or $1$:\n",
    "\n",
    "![lab-1_problem-3a-2.png](attachment:lab-1_problem-3a-2.png)\n",
    "\n",
    "The areas of the square representing the sample space, and the circle representing the area of the sample space when $D = 1$ can be calculated as follows:\n",
    "\n",
    "$$\n",
    "\\begin{equation}\n",
    "\\begin{split}\n",
    "\\text{Sample space area} & = width \\times height \\\\\n",
    "& = 2 \\times 2 \\\\\n",
    "& = 4 \\text{ square units} \\\\\n",
    "\\end{split}\n",
    "\\end{equation}\n",
    "$$\n",
    "\n",
    "$$\n",
    "\\begin{equation}\n",
    "\\begin{split}\n",
    "\\text{Target area} & = \\pi \\times radius^2 \\\\\n",
    "& = \\pi \\times 1^2 \\\\\n",
    "& = \\pi \\text{ square units} \\\\\n",
    "\\end{split}\n",
    "\\end{equation}\n",
    "$$\n",
    "\n",
    "The ratio of target area to sample space area is $\\dfrac{\\pi}{4}$ or approximately $0.7854$.  This value represents the probability that the $(x, y)$ coordinates will fall within the area of the target circle.  It also represents the probability that the value of random variable $D$ will equal $1$."
   ]
  },
  {
   "cell_type": "markdown",
   "metadata": {},
   "source": [
    "The expected value of a Bernoulli random variable is equal to the probability that the random variable will assume the value of $1$.\n",
    "\n",
    "##### Therefore, the expected value of $D$ is as follows:\n",
    "\n",
    "$$\n",
    "\\begin{equation}\n",
    "\\begin{split}\n",
    "E(D) & = p \\\\\n",
    "& = 0.7854 \\\\\n",
    "\\end{split}\n",
    "\\end{equation}\n",
    "$$"
   ]
  },
  {
   "cell_type": "markdown",
   "metadata": {},
   "source": [
    "> b. Compute the standard deviation of $D$."
   ]
  },
  {
   "cell_type": "markdown",
   "metadata": {},
   "source": [
    "The variance of $D$ can be calculated as follows:\n",
    "\n",
    "$$\n",
    "\\begin{equation}\n",
    "\\begin{split}\n",
    "\\sigma^{2}_{D} & = p \\cdot (1 - p) \\\\\n",
    "& = 0.7854 \\cdot (1 - 0.7854) \\\\\n",
    "& = 0.7854 \\cdot 0.2146 \\\\\n",
    "& = 0.1685\n",
    "\\end{split}\n",
    "\\end{equation}\n",
    "$$\n",
    "\n",
    "The standard deviation is the square root of the variance.\n",
    "\n",
    "##### Therefore, the standard deviation of $D$ is as follows:\n",
    "\n",
    "$$\n",
    "\\begin{equation}\n",
    "\\begin{split}\n",
    "\\sigma_{D} & = \\sqrt{p \\cdot (1 - p)}\\\\\n",
    "& = \\sqrt{0.7854 \\cdot (1 - 0.7854)} \\\\\n",
    "& = \\sqrt{0.7854 \\cdot 0.2146} \\\\\n",
    "& = \\sqrt{0.1685} \\\\\n",
    "& = 0.4105 \\\\\n",
    "\\end{split}\n",
    "\\end{equation}\n",
    "$$"
   ]
  },
  {
   "cell_type": "markdown",
   "metadata": {},
   "source": [
    "> c. Write an R function to compute the value of $D$, given a value for $X$ and a value for $Y$.  Use R to simulate a draw for $X$ and a draw for $Y$, then compute the value of $D$."
   ]
  },
  {
   "cell_type": "code",
   "execution_count": 14,
   "metadata": {},
   "outputs": [
    {
     "name": "stdout",
     "output_type": "stream",
     "text": [
      "[1] 1\n"
     ]
    }
   ],
   "source": [
    "# Returns the value of random variable D given x and y coordinates\n",
    "# in the range [-1:1].\n",
    "# Note that no validation of input coordinate is performed.\n",
    "compute_D <- function(coordinate) {\n",
    "  if (coordinate[1] ^ 2 + coordinate[2] ^ 2 < 1) {\n",
    "    return(1)\n",
    "  }\n",
    "  return(0)\n",
    "}\n",
    "\n",
    "# Compute the value of D for x and y values retrieved at random from\n",
    "# a uniform distribution\n",
    "print(compute_D(runif(2, -1, 1)))"
   ]
  },
  {
   "cell_type": "markdown",
   "metadata": {},
   "source": [
    "> d. Use R to simulate the previous experiment 1000 times, resulting in 1000 samples for $D$.  Compute the sample mean and sample standard deviation of your result, and compare them to the true values in parts a. and b."
   ]
  },
  {
   "cell_type": "code",
   "execution_count": 15,
   "metadata": {},
   "outputs": [
    {
     "data": {
      "text/html": [
       "'rv D - Expected values: Lab 1: 0.7854, Computed: 0.7810'"
      ],
      "text/latex": [
       "'rv D - Expected values: Lab 1: 0.7854, Computed: 0.7810'"
      ],
      "text/markdown": [
       "'rv D - Expected values: Lab 1: 0.7854, Computed: 0.7810'"
      ],
      "text/plain": [
       "[1] \"rv D - Expected values: Lab 1: 0.7854, Computed: 0.7810\""
      ]
     },
     "metadata": {},
     "output_type": "display_data"
    },
    {
     "data": {
      "text/html": [
       "'rv D - Standard deviations: Lab 1: 0.4105, Computed: 0.4136'"
      ],
      "text/latex": [
       "'rv D - Standard deviations: Lab 1: 0.4105, Computed: 0.4136'"
      ],
      "text/markdown": [
       "'rv D - Standard deviations: Lab 1: 0.4105, Computed: 0.4136'"
      ],
      "text/plain": [
       "[1] \"rv D - Standard deviations: Lab 1: 0.4105, Computed: 0.4136\""
      ]
     },
     "metadata": {},
     "output_type": "display_data"
    }
   ],
   "source": [
    "# Define the expected value and standard deviation of random variable\n",
    "# D from computations in Lab 1 (see question 4, a and b)\n",
    "D_mean_lab <- 0.7854\n",
    "D_stdv_lab <- 0.4105\n",
    "\n",
    "# Invoke compute_D 1,000 times, and retain the values (i.e. 0 or 1)\n",
    "ones <- 0; zeros <- 0;\n",
    "for (i in c(1:1000)) {\n",
    "\n",
    "  D_current <- compute_D((runif(2, -1, 1)))\n",
    "  if (D_current == 0) {\n",
    "    zeros <- zeros + 1\n",
    "  }\n",
    "  if (D_current == 1) {\n",
    "    ones <- ones + 1\n",
    "  }\n",
    "}\n",
    "\n",
    "# Compute the expected value and standard deviation from the 1,000\n",
    "# invocations of the experiment\n",
    "D_mean_computed <- ones * 0.001\n",
    "D_stdv_computed <- sqrt(D_mean_computed * (1 - D_mean_computed))\n",
    "\n",
    "# Print the laboratory and computed expected values and standard\n",
    "# deviations of D\n",
    "sprintf(\"rv D - Expected values: Lab 1: %1.4f, Computed: %1.4f\", D_mean_lab, D_mean_computed)\n",
    "sprintf(\"rv D - Standard deviations: Lab 1: %1.4f, Computed: %1.4f\", D_stdv_lab, D_stdv_computed)"
   ]
  },
  {
   "cell_type": "markdown",
   "metadata": {},
   "source": [
    "# 4. Relating Min and Max\n",
    "\n",
    "Continuous random variables $X$ and $Y$ have a joint distribution with probability density function,\n",
    "\n",
    "$$ f(x,y) = \\begin{cases}\n",
    "2, &0 < y < x < 1 \\\\\n",
    "0, &otherwise.\n",
    "\\end{cases} $$\n",
    "\n",
    "You may wonder where you would find such a distribution.  In fact, if $A_1$ and $A_2$ are independent random variables uniformly distributed on $[0,1]$, and you define $X = max(A_1,A_2)$, $Y = min(A_1,A_2)$, then $X$ and $Y$ will have exactly the joint distribution defined above.\n",
    "\n",
    "> a. Draw a graph of the region for which $X$ and $Y$ have positive probability density."
   ]
  },
  {
   "attachments": {
    "lab-1_problem-4a.png": {
     "image/png": "[encoded data removed]"
    }
   },
   "cell_type": "markdown",
   "metadata": {},
   "source": [
    "Continuous random variables $X$ and $Y$ have positive probability density as represented by the following graph:\n",
    "\n",
    "![lab-1_problem-4a.png](attachment:lab-1_problem-4a.png)\n",
    "\n",
    "where $0 < y < x < 1$."
   ]
  },
  {
   "cell_type": "markdown",
   "metadata": {},
   "source": [
    "> b. Derive the marginal probability density function of $X$, $f_X(x)$.  Make sure you write down a complete expression."
   ]
  },
  {
   "cell_type": "markdown",
   "metadata": {},
   "source": [
    "The marginal probability density function of $X$, $f_X(x)$ may be derived as follows:\n",
    "\n",
    "\\begin{equation}\n",
    "\\begin{split}\n",
    "g(x) & = \\int_{-\\infty}^{\\infty}f(x, y)\\;dy \\\\\n",
    "& = \\int_{0}^{x}f(x, y)\\;dy \\\\\n",
    "& = \\int_{0}^{x}2\\;dy \\\\\n",
    "& = \\begin{bmatrix}2y\\end{bmatrix}_0^x \\\\\n",
    "& = 2(x) - 2(0) \\\\\n",
    "& = 2x\n",
    "\\end{split}\n",
    "\\end{equation}\n",
    "\n",
    "##### The marginal probability density function of $X$, $f_X(x)$ is $2x$ when  $0 < y < x < 1$."
   ]
  },
  {
   "cell_type": "markdown",
   "metadata": {},
   "source": [
    "> c. Derive the unconditional expectation of $X$."
   ]
  },
  {
   "cell_type": "markdown",
   "metadata": {},
   "source": [
    "The unconditional expectation of $X$ may be derived as follows:\n",
    "\n",
    "\\begin{equation}\n",
    "\\begin{split}\n",
    "E(X) & = \\int_{-\\infty}^{\\infty}x \\cdot f(x)\\;dx \\\\\n",
    "& = \\int_{0}^{1}x \\cdot 2\\;dx \\\\\n",
    "& = \\int_{0}^{1}2x\\;dx \\\\\n",
    "& = \\begin{bmatrix}x^2\\end{bmatrix}_0^1 \\\\\n",
    "& = 1^2 - 0^2 \\\\\n",
    "& = 1\n",
    "\\end{split}\n",
    "\\end{equation}\n",
    "\n",
    "##### The unconditional expectation of $X$ is $1$ when  $0 < y < x < 1$."
   ]
  },
  {
   "cell_type": "markdown",
   "metadata": {},
   "source": [
    "> d. Derive the conditional probability density function of $Y$, conditional on $X$, $f_{Y|X}(y|x)$"
   ]
  },
  {
   "cell_type": "markdown",
   "metadata": {},
   "source": [
    "Using values derived above, the conditional probability density function of $Y$, conditional on $X$, $f_{Y|X}(y|x)$ may be derived as follows:\n",
    "\n",
    "\\begin{equation}\n",
    "\\begin{split}\n",
    "f_{Y|X}(y|x) & = \\dfrac{f(x, y)}{f_X(x)} \\\\ \\\\\n",
    "& = \\dfrac{2}{2x} \\\\ \\\\\n",
    "& = \\dfrac{1}{x} \\quad \\text{when } 0 < y < x < 1\n",
    "\\end{split}\n",
    "\\end{equation}\n",
    "\n",
    "##### The conditional probability density function of $Y$, conditional on $X$, $f_{Y|X}(y|x)$ is $\\dfrac{1}{x}$ when  $0 < y < x < 1$."
   ]
  },
  {
   "cell_type": "markdown",
   "metadata": {},
   "source": [
    "> e. Derive the conditional expectation of $Y$, conditional on $X$, $E(Y|X)$."
   ]
  },
  {
   "cell_type": "markdown",
   "metadata": {},
   "source": [
    "Using values derived above, the conditional expectation of $Y$, conditional on $X$, $E(Y|X)$ may be derived as follows:\n",
    "\n",
    "\\begin{equation}\n",
    "\\begin{split}\n",
    "E(Y|X) & = \\int_{-\\infty}^{\\infty}y \\cdot f_{Y|X}(y|x)\\;dy \\\\ \\\\\n",
    "& = \\int_{0}^{x}y \\cdot \\dfrac{1}{x}\\;dy \\\\ \\\\\n",
    "& = \\int_{0}^{x}\\dfrac{y}{x}\\;dy \\\\ \\\\\n",
    "& = \\begin{bmatrix}\\dfrac{y^2}{2x}\\end{bmatrix}_0^x \\\\ \\\\\n",
    "& = \\dfrac{x}{2} - 0 \\\\ \\\\\n",
    "& = \\dfrac{x}{2}\n",
    "\\end{split}\n",
    "\\end{equation}\n",
    "\n",
    "##### The conditional expectation of $Y$, conditional on $X$, $E(Y|X)$ is $\\dfrac{x}{2}$ when  $0 < y < x < 1$."
   ]
  },
  {
   "cell_type": "markdown",
   "metadata": {},
   "source": [
    "> f. Derive $E(XY)$.  Hint 1: Use the law of iterated expectations.  Hint 2: If you take an expectation conditional on $X$, $X$ is just a constant inside the expectation.  This means that $E(XY|X) = XE(Y|X)$."
   ]
  },
  {
   "cell_type": "markdown",
   "metadata": {},
   "source": [
    "$E(XY)$ can be derived by integrating $xy$ on probability density function $f(x, y)$ as follows:\n",
    "\n",
    "\\begin{equation}\n",
    "\\begin{split}\n",
    "E(XY) & = \\int_{-\\infty}^{\\infty}\\int_{-\\infty}^{\\infty}xy \\cdot f(x, y)\\;dx\\;dy \\\\ \\\\\n",
    "& = \\int_{0}^{x}\\int_{y}^{1}xy \\cdot f(x, y)\\;dx\\;dy \\\\ \\\\\n",
    "& = \\int_{0}^{x}\\int_{y}^{1}xy \\cdot 2\\;dx\\;dy \\\\ \\\\\n",
    "\\end{split}\n",
    "\\end{equation}\n",
    "\n",
    "Calculating the inner integral:\n",
    "\n",
    "\\begin{equation}\n",
    "\\begin{split}\n",
    "& = \\int_{y}^{1}2xy\\;dx \\\\ \\\\\n",
    "& = \\begin{bmatrix}x^2y\\end{bmatrix}_y^1 \\\\ \\\\\n",
    "& = y - y^3 \\\\ \\\\\n",
    "\\end{split}\n",
    "\\end{equation}\n",
    "\n",
    "Continuing, calculating the outer integral:\n",
    "\n",
    "\\begin{equation}\n",
    "\\begin{split}\n",
    "E(XY) & = \\int_{0}^{x}y - y^3\\;dy \\\\ \\\\\n",
    "& = \\begin{bmatrix}\\dfrac{y^2}{2} - \\dfrac{y^4}{4}\\end{bmatrix}_0^x \\\\ \\\\\n",
    "& = \\dfrac{x^2}{2} - \\dfrac{x^4}{4}\n",
    "\\end{split}\n",
    "\\end{equation}\n",
    "\n",
    "##### Expectation $E(XY)$ is $\\dfrac{x^2}{2} - \\dfrac{x^4}{4}$ when $0 < y < x < 1$."
   ]
  },
  {
   "cell_type": "markdown",
   "metadata": {},
   "source": [
    "> g. Using the previous parts, derive $cov(X,Y)$"
   ]
  },
  {
   "cell_type": "markdown",
   "metadata": {},
   "source": [
    "Using values derived above in association with the simplified formula for calculating covariances, $cov(X,Y)$ can be derived as follows:\n",
    "\n",
    "\\begin{equation}\n",
    "\\begin{split}\n",
    "cov(X, Y) & = E(XY) - \\mu_x \\cdot \\mu_y \\\\\n",
    "& = \\dfrac{x^2}{2} - \\dfrac{x^4}{4} - 1 \\cdot \\dfrac{x}{2} \\\\ \\\\\n",
    "& = \\dfrac{x^2}{2} - \\dfrac{x^4}{4} - \\dfrac{x}{2} \\\\ \\\\\n",
    "& = \\dfrac{x^2 - x}{2} - \\dfrac{x^4}{4} \\\\ \\\\\n",
    "\\end{split}\n",
    "\\end{equation}\n",
    "\n",
    "##### The covariance of random variables X and Y, $cov(X, Y)$ is $\\dfrac{x^2 - x}{2} - \\dfrac{x^4}{4}$."
   ]
  },
  {
   "cell_type": "code",
   "execution_count": null,
   "metadata": {},
   "outputs": [],
   "source": []
  }
 ],
 "metadata": {
  "kernelspec": {
   "display_name": "R",
   "language": "R",
   "name": "ir"
  },
  "language_info": {
   "codemirror_mode": "r",
   "file_extension": ".r",
   "mimetype": "text/x-r-source",
   "name": "R",
   "pygments_lexer": "r",
   "version": "3.5.2"
  }
 },
 "nbformat": 4,
 "nbformat_minor": 2
}
