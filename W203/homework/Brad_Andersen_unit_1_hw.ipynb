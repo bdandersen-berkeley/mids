{
 "cells": [
  {
   "cell_type": "markdown",
   "metadata": {},
   "source": [
    "<h1> Unit 1 Homework </h1>\n",
    "<h3> W203 Statistics for Data Science </h3>"
   ]
  },
  {
   "cell_type": "markdown",
   "metadata": {},
   "source": [
    "Student Name: Brad Andersen\n",
    "\n",
    "Section Number: W203.4"
   ]
  },
  {
   "cell_type": "markdown",
   "metadata": {},
   "source": [
    "<h3> Exercises </h3>"
   ]
  },
  {
   "cell_type": "markdown",
   "metadata": {},
   "source": [
    "**1.0:** Load the dataset found in the file, cars.csv.\n"
   ]
  },
  {
   "cell_type": "code",
   "execution_count": 29,
   "metadata": {},
   "outputs": [],
   "source": [
    "carsData <- read.csv(\"cars.csv\", header = TRUE)"
   ]
  },
  {
   "cell_type": "markdown",
   "metadata": {},
   "source": [
    "**2.0:** What are the variables in the file?"
   ]
  },
  {
   "cell_type": "code",
   "execution_count": 30,
   "metadata": {},
   "outputs": [
    {
     "data": {
      "text/html": [
       "<ol class=list-inline>\n",
       "\t<li>'am'</li>\n",
       "\t<li>'carb'</li>\n",
       "\t<li>'cyl'</li>\n",
       "\t<li>'disp'</li>\n",
       "\t<li>'drat'</li>\n",
       "\t<li>'gear'</li>\n",
       "\t<li>'hp'</li>\n",
       "\t<li>'mpg'</li>\n",
       "\t<li>'qsec'</li>\n",
       "\t<li>'vs'</li>\n",
       "\t<li>'wt'</li>\n",
       "</ol>\n"
      ],
      "text/latex": [
       "\\begin{enumerate*}\n",
       "\\item 'am'\n",
       "\\item 'carb'\n",
       "\\item 'cyl'\n",
       "\\item 'disp'\n",
       "\\item 'drat'\n",
       "\\item 'gear'\n",
       "\\item 'hp'\n",
       "\\item 'mpg'\n",
       "\\item 'qsec'\n",
       "\\item 'vs'\n",
       "\\item 'wt'\n",
       "\\end{enumerate*}\n"
      ],
      "text/markdown": [
       "1. 'am'\n",
       "2. 'carb'\n",
       "3. 'cyl'\n",
       "4. 'disp'\n",
       "5. 'drat'\n",
       "6. 'gear'\n",
       "7. 'hp'\n",
       "8. 'mpg'\n",
       "9. 'qsec'\n",
       "10. 'vs'\n",
       "11. 'wt'\n",
       "\n",
       "\n"
      ],
      "text/plain": [
       " [1] \"am\"   \"carb\" \"cyl\"  \"disp\" \"drat\" \"gear\" \"hp\"   \"mpg\"  \"qsec\" \"vs\"  \n",
       "[11] \"wt\"  "
      ]
     },
     "metadata": {},
     "output_type": "display_data"
    }
   ],
   "source": [
    "ls(carsData)"
   ]
  },
  {
   "cell_type": "markdown",
   "metadata": {},
   "source": [
    "**3.0** Find the mean, median, minimum, maximum, 1st quartile and 3rd quartile for the mpg variable."
   ]
  },
  {
   "cell_type": "code",
   "execution_count": 31,
   "metadata": {},
   "outputs": [
    {
     "data": {
      "text/plain": [
       "   Min. 1st Qu.  Median    Mean 3rd Qu.    Max. \n",
       "  10.40   15.20   18.70   19.49   21.50   33.90 "
      ]
     },
     "metadata": {},
     "output_type": "display_data"
    }
   ],
   "source": [
    "carsMpg <- carsData[, \"mpg\"]\n",
    "summary(carsMpg)"
   ]
  },
  {
   "cell_type": "markdown",
   "metadata": {},
   "source": [
    "**4.0:** Create a histogram of the mpg variable."
   ]
  },
  {
   "cell_type": "code",
   "execution_count": 40,
   "metadata": {},
   "outputs": [
    {
     "data": {
      "image/png": "[encoded data removed]",
      "text/plain": [
       "Plot with title \"cars.csv Histogram: MPG\""
      ]
     },
     "metadata": {},
     "output_type": "display_data"
    }
   ],
   "source": [
    "hist(carsMpg, main = \"cars.csv Histogram: MPG\", xlab = \"MPG\", ylab = \"Frequency of cars\")"
   ]
  },
  {
   "cell_type": "markdown",
   "metadata": {},
   "source": [
    "**5.0:** What is the standard deviation of mpg variable?"
   ]
  },
  {
   "cell_type": "code",
   "execution_count": 33,
   "metadata": {},
   "outputs": [
    {
     "data": {
      "text/html": [
       "6.04744574179876"
      ],
      "text/latex": [
       "6.04744574179876"
      ],
      "text/markdown": [
       "6.04744574179876"
      ],
      "text/plain": [
       "[1] 6.047446"
      ]
     },
     "metadata": {},
     "output_type": "display_data"
    }
   ],
   "source": [
    "sd(carsMpg)"
   ]
  },
  {
   "cell_type": "markdown",
   "metadata": {},
   "source": [
    "**6.0:** What is the variance of mpg variable?"
   ]
  },
  {
   "cell_type": "code",
   "execution_count": 34,
   "metadata": {},
   "outputs": [
    {
     "data": {
      "text/html": [
       "36.5716"
      ],
      "text/latex": [
       "36.5716"
      ],
      "text/markdown": [
       "36.5716"
      ],
      "text/plain": [
       "[1] 36.5716"
      ]
     },
     "metadata": {},
     "output_type": "display_data"
    }
   ],
   "source": [
    "var(carsMpg)"
   ]
  },
  {
   "cell_type": "markdown",
   "metadata": {},
   "source": [
    "**7.0:** What is the relationship of the standard deviation to the variance? Why does the standard deviation and variance of the mpg variable differ? "
   ]
  },
  {
   "cell_type": "markdown",
   "metadata": {},
   "source": [
    "The **variance** represents how spread out the individual data are from the mean.  The **standard deviation** is the square root of the variance.\n",
    "\n",
    "Both the standard deviation and the variance offer a numeric representation of the spread of data.  However, they are represented using different numeric units.  The **standard deviation** is expressed using the same units of measurement as the data, while the **variance** is expressed using the square of the units of measurement. "
   ]
  },
  {
   "cell_type": "markdown",
   "metadata": {},
   "source": [
    "**8.0** How many data points are there for the cyl variable? "
   ]
  },
  {
   "cell_type": "code",
   "execution_count": 35,
   "metadata": {},
   "outputs": [
    {
     "data": {
      "text/html": [
       "23"
      ],
      "text/latex": [
       "23"
      ],
      "text/markdown": [
       "23"
      ],
      "text/plain": [
       "[1] 23"
      ]
     },
     "metadata": {},
     "output_type": "display_data"
    }
   ],
   "source": [
    "carsCyl <- carsData[, \"cyl\"]\n",
    "length(carsCyl[!is.na(carsCyl)])"
   ]
  },
  {
   "cell_type": "markdown",
   "metadata": {},
   "source": [
    "**9.0** What is the mean of the cyl variable?"
   ]
  },
  {
   "cell_type": "code",
   "execution_count": 36,
   "metadata": {},
   "outputs": [
    {
     "data": {
      "text/html": [
       "6.26086956521739"
      ],
      "text/latex": [
       "6.26086956521739"
      ],
      "text/markdown": [
       "6.26086956521739"
      ],
      "text/plain": [
       "[1] 6.26087"
      ]
     },
     "metadata": {},
     "output_type": "display_data"
    }
   ],
   "source": [
    "mean(carsCyl[!is.na(carsCyl)])"
   ]
  }
 ],
 "metadata": {
  "kernelspec": {
   "display_name": "R",
   "language": "R",
   "name": "ir"
  },
  "language_info": {
   "codemirror_mode": "r",
   "file_extension": ".r",
   "mimetype": "text/x-r-source",
   "name": "R",
   "pygments_lexer": "r",
   "version": "3.5.1"
  }
 },
 "nbformat": 4,
 "nbformat_minor": 2
}
