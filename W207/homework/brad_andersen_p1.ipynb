{
  "nbformat": 4,
  "nbformat_minor": 0,
  "metadata": {
    "colab": {
      "name": "brad_andersen_p1.ipynb",
      "version": "0.3.2",
      "provenance": [],
      "include_colab_link": true
    },
    "kernelspec": {
      "name": "python2",
      "display_name": "Python 2"
    }
  },
  "cells": [
    {
      "cell_type": "markdown",
      "metadata": {
        "id": "view-in-github",
        "colab_type": "text"
      },
      "source": [
        "<a href=\"https://colab.research.google.com/github/bdandersen-berkeley/mids/blob/master/W207/homework/brad_andersen_p1.ipynb\" target=\"_parent\"><img src=\"https://colab.research.google.com/assets/colab-badge.svg\" alt=\"Open In Colab\"/></a>"
      ]
    },
    {
      "cell_type": "markdown",
      "metadata": {
        "id": "CjUJGz_wLkTk",
        "colab_type": "text"
      },
      "source": [
        "# Project 1: Digit Classification with KNN and Naive Bayes"
      ]
    },
    {
      "cell_type": "markdown",
      "metadata": {
        "id": "o9noHi1SLkTm",
        "colab_type": "text"
      },
      "source": [
        "In this project, you'll implement your own image recognition system for classifying digits. Read through the code and the instructions carefully and add your own code where indicated. Each problem can be addressed succinctly with the included packages -- please don't add any more. Grading will be based on writing clean, commented code, along with a few short answers.\n",
        "\n",
        "As always, you're welcome to work on the project in groups and discuss ideas on the course wall, but <b> please prepare your own write-up (with your own code). </b>\n",
        "\n",
        "If you're interested, check out these links related to digit recognition:\n",
        "\n",
        "Yann Lecun's MNIST benchmarks: http://yann.lecun.com/exdb/mnist/\n",
        "\n",
        "Stanford Streetview research and data: http://ufldl.stanford.edu/housenumbers/"
      ]
    },
    {
      "cell_type": "code",
      "metadata": {
        "id": "CG1rsda4LkTn",
        "colab_type": "code",
        "colab": {}
      },
      "source": [
        "# This tells matplotlib not to try opening a new window for each plot.\n",
        "%matplotlib inline\n",
        "\n",
        "# Import a bunch of libraries.\n",
        "import time\n",
        "import numpy as np\n",
        "import matplotlib.pyplot as plt\n",
        "from matplotlib.ticker import MultipleLocator\n",
        "from sklearn.pipeline import Pipeline\n",
        "from sklearn.datasets import fetch_openml\n",
        "from sklearn.neighbors import KNeighborsClassifier\n",
        "from sklearn.metrics import confusion_matrix\n",
        "from sklearn.linear_model import LinearRegression\n",
        "from sklearn.naive_bayes import BernoulliNB\n",
        "from sklearn.naive_bayes import MultinomialNB\n",
        "from sklearn.naive_bayes import GaussianNB\n",
        "from sklearn.model_selection import GridSearchCV\n",
        "from sklearn.metrics import classification_report\n",
        "\n",
        "# Set the randomizer seed so results are the same each time.\n",
        "np.random.seed(0)"
      ],
      "execution_count": 0,
      "outputs": []
    },
    {
      "cell_type": "markdown",
      "metadata": {
        "id": "X9M9bvyjLkTq",
        "colab_type": "text"
      },
      "source": [
        "Load the data. Notice that we are splitting the data into training, development, and test. We also have a small subset of the training data called mini_train_data and mini_train_labels that you should use in all the experiments below, unless otherwise noted."
      ]
    },
    {
      "cell_type": "code",
      "metadata": {
        "id": "Zf1UoZcOLkTr",
        "colab_type": "code",
        "outputId": "c1adfad0-00ed-4c29-c8e5-f7764a81a692",
        "colab": {
          "base_uri": "https://localhost:8080/",
          "height": 51
        }
      },
      "source": [
        "# Load the digit data from https://www.openml.org/d/554 or from default local location '~/scikit_learn_data/...'\n",
        "X, Y = fetch_openml(name='mnist_784', return_X_y=True, cache=False)\n",
        "\n",
        "\n",
        "# Rescale grayscale values to [0,1].\n",
        "X = X / 255.0\n",
        "\n",
        "# Shuffle the input: create a random permutation of the integers between 0 and the number of data points and apply this\n",
        "# permutation to X and Y.\n",
        "# NOTE: Each time you run this cell, you'll re-shuffle the data, resulting in a different ordering.\n",
        "shuffle = np.random.permutation(np.arange(X.shape[0]))\n",
        "X, Y = X[shuffle], Y[shuffle]\n",
        "\n",
        "print 'data shape: ', X.shape\n",
        "print 'label shape:', Y.shape\n",
        "\n",
        "# Set some variables to hold test, dev, and training data.\n",
        "test_data, test_labels = X[61000:], Y[61000:]\n",
        "dev_data, dev_labels = X[60000:61000], Y[60000:61000]\n",
        "train_data, train_labels = X[:60000], Y[:60000]\n",
        "mini_train_data, mini_train_labels = X[:1000], Y[:1000]"
      ],
      "execution_count": 0,
      "outputs": [
        {
          "output_type": "stream",
          "text": [
            "data shape:  (70000, 784)\n",
            "label shape: (70000,)\n"
          ],
          "name": "stdout"
        }
      ]
    },
    {
      "cell_type": "markdown",
      "metadata": {
        "id": "LBMg6pp2LkTw",
        "colab_type": "text"
      },
      "source": [
        "(1) Create a 10x10 grid to visualize 10 examples of each digit. Python hints:\n",
        "\n",
        "- plt.rc() for setting the colormap, for example to black and white\n",
        "- plt.subplot() for creating subplots\n",
        "- plt.imshow() for rendering a matrix\n",
        "- np.array.reshape() for reshaping a 1D feature vector into a 2D matrix (for rendering)"
      ]
    },
    {
      "cell_type": "code",
      "metadata": {
        "id": "NAcNPV-PLkTx",
        "colab_type": "code",
        "outputId": "939ec23f-118b-4e39-8179-733bdc690cb3",
        "colab": {
          "base_uri": "https://localhost:8080/",
          "height": 269
        }
      },
      "source": [
        "def get_example_digit_indices(digit_list, num_examples = 10):\n",
        "    \"\"\"\n",
        "    Retrieves randomly-selected indices within MNIST data identifying digits 0 through 9.\n",
        "\n",
        "    Indices are returned as a list of lists: the former list of length 10, one list per digit in\n",
        "    zero-indexed numeric order; the latter lists being indices within specified MNIST data \n",
        "    classified as a digit associated with the list (e.g. indices of 0s in one list, indices\n",
        "    of 1s in the next, etc.)\n",
        "\n",
        "    Arguments\n",
        "    ---------\n",
        "    digit_list: list\n",
        "    \n",
        "    List of numbers whose values identify digit classifications (e.g. '3', '5') and\n",
        "    whose indices map to the digit's data within the MNIST image data (required)\n",
        "\n",
        "    num_examples: int\n",
        "    \n",
        "    Number of examples of each digit to identify and whose indices to retrieve\n",
        "    (default: 10)\n",
        "\n",
        "    Returns\n",
        "    -------\n",
        "    List of lists.  Specifically, 10 lists (one for each digit 0 through 9) of indices within \n",
        "    MNIST digit image data.  Each index is associated with image data for a digit of the\n",
        "    associated classification (i.e. the first list contains a list of indices identifying images\n",
        "    classified as 0s, the second list contains a list of indices identifying images classified as\n",
        "    1s, etc.)\n",
        "    \"\"\"\n",
        "\n",
        "    assert (type(digit_list) is np.ndarray), \"digit_list must be of type NumPy ndarray\"\n",
        "    assert (digit_list.size > 0), \"digit_list must not be empty\"\n",
        "    assert (type(num_examples) is int), \"num_examples must be of type int\"\n",
        "    assert (0 < num_examples & num_examples <= 10), \"num_examples must be an int between 1 and 10\"\n",
        "\n",
        "    # Create the list of lists to populate with image indices\n",
        "    digit_indices = [[] for i in range(10)]\n",
        "\n",
        "    # How many lists we have filled with the requisite number of digit indices\n",
        "    complete_index_lists = 0\n",
        "\n",
        "    # Randomly select an index from which to be sourcing image data.  Because we iterate through\n",
        "    # the data and loop to the beginning should we reach the end of the data without completing \n",
        "    # all 10 lists, also identify the index at which to stop.\n",
        "    current_digit_list_idx = np.random.randint(1, digit_list.size)\n",
        "    final_digit_list_idx = current_digit_list_idx - 1\n",
        "\n",
        "    # Iterate through the digit data, exiting only if we've filled all 10 lists with the requisite\n",
        "    # number of digit indices, or if we've sourced/examined all digit data\n",
        "    while (complete_index_lists < 10 and current_digit_list_idx != final_digit_list_idx):\n",
        "\n",
        "        # Get the element, ensuring it is a string representing a single digit (e.g. '3', '5')\n",
        "        example_digit = digit_list[current_digit_list_idx]\n",
        "        if (type(example_digit) is str and example_digit.isdigit() and len(example_digit) == 1):\n",
        "\n",
        "            # Convert digit string to integer value\n",
        "            example_digit = int(example_digit)\n",
        "            \n",
        "            # If the list of indices associated with this digit is not filled to the requisite\n",
        "            # number, append it to the list\n",
        "            if (len(digit_indices[example_digit]) < num_examples):\n",
        "                digit_indices[example_digit].append(current_digit_list_idx)\n",
        "\n",
        "                # If the list of indices is now filled, increment the number of completed lists\n",
        "                if (len(digit_indices[example_digit]) == num_examples):\n",
        "                    complete_index_lists += 1\n",
        "\n",
        "        # Move to the next element in the digit data\n",
        "        current_digit_list_idx += 1\n",
        "        if (current_digit_list_idx == digit_list.size):\n",
        "            current_digit_list_idx = 0\n",
        "\n",
        "    return digit_indices\n",
        "\n",
        "def P1(num_examples = 10):\n",
        "    \"\"\"\n",
        "    Creates a 10 x 10 grid to visualize 10 MNIST examples of each digit.\n",
        "    \n",
        "    Arguments\n",
        "    ---------\n",
        "    num_examples: int\n",
        "    \n",
        "    Number of examples of each digit to identify and whose indices to retrieve\n",
        "    (default: 10)\n",
        "    \"\"\"\n",
        "\n",
        "    assert (type(num_examples) is int), \"num_examples must be of type int\"\n",
        "    assert (0 < num_examples & num_examples <= 10), \"num_examples must be an int between 1 and 10\"\n",
        "    \n",
        "    # Retrieve the lists of indices identifying digits' image data within the MNIST data\n",
        "    digit_indices = get_example_digit_indices(Y, num_examples)\n",
        "\n",
        "    # Create the 10 x 10 grid of axes (i.e. subplots for each digit image)\n",
        "    fig, ax = plt.subplots(nrows = 10, ncols = num_examples)\n",
        "\n",
        "    # Iterate through the list of lists, rendering each digit image associated with the current\n",
        "    # index.  An assumption is made that each image is represented using 784 values (a matrix of\n",
        "    # 28 x 28) between 0 and 1, inclusive.\n",
        "    for i in range(0, 10):\n",
        "        for j in range(0, num_examples):\n",
        "            ax[i][j].axis(\"off\")\n",
        "            ax[i][j].imshow(\n",
        "                X = np.reshape(X[digit_indices[i][j]], (28, 28)),\n",
        "                aspect = \"auto\",\n",
        "                cmap = plt.get_cmap(\"Greys\")\n",
        "            )\n",
        "\n",
        "    plt.show()\n",
        "\n",
        "P1(10)"
      ],
      "execution_count": 0,
      "outputs": [
        {
          "output_type": "display_data",
          "data": {
            "image/png": "[encoded data removed]",
            "text/plain": [
              "<Figure size 432x288 with 100 Axes>"
            ]
          },
          "metadata": {
            "tags": []
          }
        }
      ]
    },
    {
      "cell_type": "markdown",
      "metadata": {
        "id": "AhcEgB5BLkTz",
        "colab_type": "text"
      },
      "source": [
        "(2) Evaluate a K-Nearest-Neighbors model with k = [1,3,5,7,9] using the mini training set. Report accuracy on the dev set. For k=1, show precision, recall, and F1 for each label. Which is the most difficult digit?\n",
        "\n",
        "- KNeighborsClassifier() for fitting and predicting\n",
        "- classification_report() for producing precision, recall, F1 results"
      ]
    },
    {
      "cell_type": "code",
      "metadata": {
        "id": "EVEn_N1uLkT0",
        "colab_type": "code",
        "outputId": "9e2967a1-16b4-4974-ab00-24c82bd8f310",
        "colab": {
          "base_uri": "https://localhost:8080/",
          "height": 599
        }
      },
      "source": [
        "def P2(k_values):\n",
        "    \"\"\"\n",
        "    Evaluates KNearestNeighbor classifier accuracy using models trained on \"mini\" data set.\n",
        "\n",
        "    Arguments\n",
        "    ---------\n",
        "    k_values: list\n",
        "\n",
        "    List of k values with which to create and evaluate KNearestNeighbor classifiers\n",
        "    \"\"\"\n",
        "\n",
        "    assert (type(k_values) is list), \"k_values must be of type list\"\n",
        "    assert (len(k_values) > 0), \"k_values list must not be empty\"\n",
        "\n",
        "    # Iterate over the list of k values, creating and evaluating the accuracy of \n",
        "    # K-nearest-neighbor classifiers for each value of k\n",
        "    k_list = list()\n",
        "    accuracy_list = list()\n",
        "    k1_predicted = None\n",
        "    for k in k_values:\n",
        "        classifier = KNeighborsClassifier(n_neighbors = k)\n",
        "        classifier.fit(X = mini_train_data, y = mini_train_labels)\n",
        "        k_list.append(str(k))\n",
        "        accuracy_list.append(classifier.score(X = dev_data, y = dev_labels))\n",
        "        if (k == 1):\n",
        "            k1_predicted = classifier.predict(X = dev_data)\n",
        "\n",
        "    # Plot the data using a horizontal histogram\n",
        "    fig, ax = plt.subplots()\n",
        "    xlim_minimum = min(accuracy_list) * 0.99\n",
        "    ax.set(\n",
        "        xlim = [xlim_minimum, max(accuracy_list) * 1.01],\n",
        "        title = \"KNearest Neighbor Classifier Accuracy\\n(Train: mini, Test: dev)\",\n",
        "        xlabel = \"Mean Accuracy\",\n",
        "        ylabel = \"Neighbors (k)\"\n",
        "    )\n",
        "    for i, accuracy in enumerate(accuracy_list):\n",
        "        ax.text(xlim_minimum + (accuracy - xlim_minimum) / 2, y = i, s = accuracy, color = \"white\")\n",
        "    ax.barh(k_list, accuracy_list)\n",
        "    plt.show()\n",
        "\n",
        "    # Print the classification report showing the performance of the k=1 classifier for each digit\n",
        "    # represented in the development data set    \n",
        "    print(classification_report(dev_labels, k1_predicted))\n",
        "\n",
        "k_values = [1, 3, 5, 7, 9]\n",
        "P2(k_values)"
      ],
      "execution_count": 0,
      "outputs": [
        {
          "output_type": "display_data",
          "data": {
            "image/png": "[encoded data removed]",
            "text/plain": [
              "<Figure size 432x288 with 1 Axes>"
            ]
          },
          "metadata": {
            "tags": []
          }
        },
        {
          "output_type": "stream",
          "text": [
            "              precision    recall  f1-score   support\n",
            "\n",
            "           0       0.95      0.95      0.95       106\n",
            "           1       0.89      0.98      0.93       118\n",
            "           2       0.90      0.79      0.84       106\n",
            "           3       0.93      0.87      0.90        97\n",
            "           4       0.91      0.85      0.88        92\n",
            "           5       0.86      0.88      0.87        88\n",
            "           6       0.92      0.92      0.92       102\n",
            "           7       0.85      0.94      0.89       102\n",
            "           8       0.83      0.77      0.80        94\n",
            "           9       0.80      0.86      0.83        95\n",
            "\n",
            "   micro avg       0.88      0.88      0.88      1000\n",
            "   macro avg       0.88      0.88      0.88      1000\n",
            "weighted avg       0.89      0.88      0.88      1000\n",
            "\n"
          ],
          "name": "stdout"
        }
      ]
    },
    {
      "cell_type": "markdown",
      "metadata": {
        "id": "VFAIEZi9LkT2",
        "colab_type": "text"
      },
      "source": [
        "ANSWER:\n",
        "\n",
        "Two digits stand out in the *k*=1 classifier's classification report:\n",
        "\n",
        "*   **8** - Digit \"8\" has the lowest *recall* value among the ten digits; i.e. the lowest ratio of correctly-identified digits to the number of relevant values that should have been returned.\n",
        "*   **9** - Digit \"9\" has the lowest *precision* value among the ten digits; i.e. the lowest ratio of correctly-identified digits to the total number of values that should have been returned.\n",
        "\n",
        "However, if \"difficulty\" is defined as the lowest mean value among digits -- (*precision* + *recall*) / 2 -- in other words the *f1 score* -- digit 8 has the lowest f1 score.\n",
        "\n",
        "\n"
      ]
    },
    {
      "cell_type": "markdown",
      "metadata": {
        "id": "hFukiUp5LkT3",
        "colab_type": "text"
      },
      "source": [
        "(3) Using k=1, report dev set accuracy for the training set sizes below. Also, measure the amount of time needed for prediction with each training size.\n",
        "\n",
        "- time.time() gives a wall clock value you can use for timing operations"
      ]
    },
    {
      "cell_type": "code",
      "metadata": {
        "id": "KtaIb60LLkT4",
        "colab_type": "code",
        "colab": {}
      },
      "source": [
        "def P3(train_sizes, accuracies):\n",
        "    \"\"\"\n",
        "    Trains, evaluates accuracy, and performs MNIST data predictions using specified training set\n",
        "    sizes.\n",
        "\n",
        "    A KNearestNeighbor classifier with k = 1 is used for each training set size.\n",
        "\n",
        "    Arguments\n",
        "    ---------\n",
        "    train_sizes: list\n",
        "\n",
        "    Integer list of sizes of various training data sets with which to train that classifier\n",
        "\n",
        "    accuracies: list\n",
        "\n",
        "    List with no elements.  P3 returns classifier accuracy and elapsed time for predictions in the\n",
        "    form of a two-element tuple -- one tuple per training set size evaluated.  Elements of each\n",
        "    tuple are classifier accuracy and elapsed time of prediction in seconds.\n",
        "    \"\"\"\n",
        "\n",
        "    assert (type(train_sizes) is list), \"train_sizes must be of type list\"\n",
        "    assert (len(train_sizes) > 0), \"train_sizes must not be empty\"\n",
        "    assert (all(isinstance(train_size, int) for train_size in train_sizes)), \"train_sizes list must contain only integers\"\n",
        "    assert (type(accuracies) is list), \"accuracies must be of type list\"\n",
        "    assert (len(accuracies) == 0), \"accuracies must be empty\"\n",
        "\n",
        "    # Iterate through the list of training data sizes, building and evaluating KNearestNeighbor\n",
        "    # classifiers of the specified sizes\n",
        "    for train_size in train_sizes:\n",
        "\n",
        "        # Identify the training data set\n",
        "        cur_train_data, cur_train_labels = X[:train_size], Y[:train_size]\n",
        "\n",
        "        # Create and train/fit the KNearestNeighbor classifier using k = 1\n",
        "        cur_classifier = KNeighborsClassifier(n_neighbors = 1)\n",
        "        cur_classifier.fit(X = cur_train_data, y = cur_train_labels)\n",
        "\n",
        "        # Calculate the classifier's accuracy\n",
        "        cur_accuracy = cur_classifier.score(X = dev_data, y = dev_labels)\n",
        "\n",
        "        # Perform predictions using test data, and calculate each prediction's elapsed time\n",
        "        time_begin = time.time()\n",
        "        cur_classifier.predict(X = dev_data)\n",
        "        seconds_elapsed = time.time() - time_begin\n",
        "\n",
        "        # Append the accuracy-elapsed time tuple to the specified \"accuracies\" list\n",
        "        accuracies.append((cur_accuracy, seconds_elapsed))\n",
        "\n",
        "train_sizes = [100, 200, 400, 800, 1600, 3200, 6400, 12800, 25000]\n",
        "accuracies = []\n",
        "P3(train_sizes, accuracies)\n",
        "\n",
        "# Create lists from each tuple returned by P3\n",
        "accuracy_list = [accuracy[0] for accuracy in accuracies]\n",
        "elapsed_time_list = [round(accuracy[1], 3) for accuracy in accuracies]\n",
        "\n",
        "# Create and render the horizontal histogram for classifier accuracies\n",
        "fig, ax = plt.subplots()\n",
        "xlim_minimum = min(accuracy_list) * 0.9\n",
        "ax.set(\n",
        "    xlim = [xlim_minimum, max(accuracy_list) * 1.01],\n",
        "    title = \"KNearest Neighbor Classifier Accuracy\\n(Train: <variable>, Test: dev)\",\n",
        "    xlabel = \"Mean Accuracy\",\n",
        "    ylabel = \"Training Size\"\n",
        ")\n",
        "for i, accuracy in enumerate(accuracy_list):\n",
        "    ax.text(xlim_minimum + (accuracy - xlim_minimum) / 2, y = i, s = accuracy)\n",
        "ax.barh([str(train_size) for train_size in train_sizes], accuracy_list)\n",
        "plt.show()\n",
        "\n",
        "# Create and render the horizontal histogram for classifiers' prediction's elapsed times\n",
        "fig, ax = plt.subplots()\n",
        "ax.set(\n",
        "    xlim = [0, max(elapsed_time_list) * 1.01],\n",
        "    title = \"KNearest Neighbor Predictions - Elapsed Times\\n(Train: <variable>, Test: dev)\",\n",
        "    xlabel = \"Elapsed Time (Seconds)\",\n",
        "    ylabel = \"Training Size\"\n",
        ")\n",
        "for i, elapsed_time in enumerate(elapsed_time_list):\n",
        "    if (elapsed_time < 5):\n",
        "        ax.text(elapsed_time + 1, y = i, s = elapsed_time)\n",
        "    else:\n",
        "        ax.text(xlim_minimum + (elapsed_time - xlim_minimum) / 2, y = i, s = elapsed_time)\n",
        "ax.barh([str(train_size) for train_size in train_sizes], elapsed_time_list)\n",
        "plt.show()\n"
      ],
      "execution_count": 0,
      "outputs": []
    },
    {
      "cell_type": "markdown",
      "metadata": {
        "id": "oSOuTEQYLkT6",
        "colab_type": "text"
      },
      "source": [
        "(4) Fit a regression model that predicts accuracy from training size. What does it predict for n=60000? What's wrong with using regression here? Can you apply a transformation that makes the predictions more reasonable?\n",
        "\n",
        "- Remember that the sklearn fit() functions take an input matrix X and output vector Y. So each input example in X is a vector, even if it contains only a single value."
      ]
    },
    {
      "cell_type": "code",
      "metadata": {
        "id": "a9ASg8RBLkT7",
        "colab_type": "code",
        "colab": {}
      },
      "source": [
        "#def P4():\n",
        "\n",
        "### STUDENT START ###\n",
        "    \n",
        "\n",
        "### STUDENT END ###\n",
        "\n",
        "#P4()"
      ],
      "execution_count": 0,
      "outputs": []
    },
    {
      "cell_type": "markdown",
      "metadata": {
        "id": "6n2wYXxkLkT9",
        "colab_type": "text"
      },
      "source": [
        "ANSWER:"
      ]
    },
    {
      "cell_type": "markdown",
      "metadata": {
        "id": "yGk9dilqLkT_",
        "colab_type": "text"
      },
      "source": [
        "Fit a 1-NN and output a confusion matrix for the dev data. Use the confusion matrix to identify the most confused pair of digits, and display a few example mistakes.\n",
        "\n",
        "- confusion_matrix() produces a confusion matrix"
      ]
    },
    {
      "cell_type": "code",
      "metadata": {
        "id": "lZBenYQDLkUA",
        "colab_type": "code",
        "colab": {}
      },
      "source": [
        "#def P5():\n",
        "\n",
        "### STUDENT START ###\n",
        "\n",
        "    \n",
        "### STUDENT END ###\n",
        "\n",
        "#P5()"
      ],
      "execution_count": 0,
      "outputs": []
    },
    {
      "cell_type": "markdown",
      "metadata": {
        "id": "4nixfswpLkUC",
        "colab_type": "text"
      },
      "source": [
        "(6) A common image processing technique is to smooth an image by blurring. The idea is that the value of a particular pixel is estimated as the weighted combination of the original value and the values around it. Typically, the blurring is Gaussian -- that is, the weight of a pixel's influence is determined by a Gaussian function over the distance to the relevant pixel.\n",
        "\n",
        "Implement a simplified Gaussian blur by just using the 8 neighboring pixels: the smoothed value of a pixel is a weighted combination of the original value and the 8 neighboring values. Try applying your blur filter in 3 ways:\n",
        "- preprocess the training data but not the dev data\n",
        "- preprocess the dev data but not the training data\n",
        "- preprocess both training and dev data\n",
        "\n",
        "Note that there are Guassian blur filters available, for example in scipy.ndimage.filters. You're welcome to experiment with those, but you are likely to get the best results with the simplified version I described above."
      ]
    },
    {
      "cell_type": "code",
      "metadata": {
        "id": "dQQXcH8YLkUD",
        "colab_type": "code",
        "colab": {}
      },
      "source": [
        "#def P6():\n",
        "    \n",
        "### STUDENT START ###\n",
        "\n",
        "\n",
        "### STUDENT END ###\n",
        "\n",
        "#P6()"
      ],
      "execution_count": 0,
      "outputs": []
    },
    {
      "cell_type": "markdown",
      "metadata": {
        "id": "5d8F0JgvLkUF",
        "colab_type": "text"
      },
      "source": [
        "ANSWER:"
      ]
    },
    {
      "cell_type": "markdown",
      "metadata": {
        "id": "W1z-ZaYoLkUF",
        "colab_type": "text"
      },
      "source": [
        "(7) Fit a Naive Bayes classifier and report accuracy on the dev data. Remember that Naive Bayes estimates P(feature|label). While sklearn can handle real-valued features, let's start by mapping the pixel values to either 0 or 1. You can do this as a preprocessing step, or with the binarize argument. With binary-valued features, you can use BernoulliNB. Next try mapping the pixel values to 0, 1, or 2, representing white, grey, or black. This mapping requires MultinomialNB. Does the multi-class version improve the results? Why or why not?"
      ]
    },
    {
      "cell_type": "code",
      "metadata": {
        "id": "gFr5Q97TLkUG",
        "colab_type": "code",
        "colab": {}
      },
      "source": [
        "#def P7():\n",
        "\n",
        "### STUDENT START ###\n",
        "\n",
        "\n",
        "    \n",
        "### STUDENT END ###\n",
        "\n",
        "#P7()"
      ],
      "execution_count": 0,
      "outputs": []
    },
    {
      "cell_type": "markdown",
      "metadata": {
        "id": "qH_-xsd4LkUI",
        "colab_type": "text"
      },
      "source": [
        "ANSWER:"
      ]
    },
    {
      "cell_type": "markdown",
      "metadata": {
        "id": "tnLL2tC_LkUI",
        "colab_type": "text"
      },
      "source": [
        "(8) Use GridSearchCV to perform a search over values of alpha (the Laplace smoothing parameter) in a Bernoulli NB model. What is the best value for alpha? What is the accuracy when alpha=0? Is this what you'd expect?\n",
        "\n",
        "- Note that GridSearchCV partitions the training data so the results will be a bit different than if you used the dev data for evaluation."
      ]
    },
    {
      "cell_type": "code",
      "metadata": {
        "id": "slANjobgLkUJ",
        "colab_type": "code",
        "colab": {}
      },
      "source": [
        "#def P8(alphas):\n",
        "\n",
        "### STUDENT START ###\n",
        "\n",
        "\n",
        "\n",
        "### STUDENT END ###\n",
        "\n",
        "#alphas = {'alpha': [0.0, 0.0001, 0.001, 0.01, 0.1, 0.5, 1.0, 2.0, 10.0]}\n",
        "#nb = P8(alphas)"
      ],
      "execution_count": 0,
      "outputs": []
    },
    {
      "cell_type": "code",
      "metadata": {
        "id": "xp-jbVd-LkUL",
        "colab_type": "code",
        "colab": {}
      },
      "source": [
        "#print nb.best_params_"
      ],
      "execution_count": 0,
      "outputs": []
    },
    {
      "cell_type": "markdown",
      "metadata": {
        "id": "cY4gNiuNLkUO",
        "colab_type": "text"
      },
      "source": [
        "ANSWER:"
      ]
    },
    {
      "cell_type": "markdown",
      "metadata": {
        "id": "PNCf7eEKLkUP",
        "colab_type": "text"
      },
      "source": [
        "(9) Try training a model using GuassianNB, which is intended for real-valued features, and evaluate on the dev data. You'll notice that it doesn't work so well. Try to diagnose the problem. You should be able to find a simple fix that returns the accuracy to around the same rate as BernoulliNB. Explain your solution.\n",
        "\n",
        "Hint: examine the parameters estimated by the fit() method, theta\\_ and sigma\\_."
      ]
    },
    {
      "cell_type": "code",
      "metadata": {
        "id": "7mvGktkrLkUP",
        "colab_type": "code",
        "colab": {}
      },
      "source": [
        "#def P9():\n",
        "\n",
        "### STUDENT END ###\n",
        "\n",
        "\n",
        "### STUDENT END ###\n",
        "\n",
        "#gnb = P9()"
      ],
      "execution_count": 0,
      "outputs": []
    },
    {
      "cell_type": "markdown",
      "metadata": {
        "id": "-JBR4VJ6LkUR",
        "colab_type": "text"
      },
      "source": [
        "ANSWER:"
      ]
    },
    {
      "cell_type": "markdown",
      "metadata": {
        "id": "VPRMFt9lLkUS",
        "colab_type": "text"
      },
      "source": [
        "(10) Because Naive Bayes is a generative model, we can use the trained model to generate digits. Train a BernoulliNB model and then generate a 10x20 grid with 20 examples of each digit. Because you're using a Bernoulli model, each pixel output will be either 0 or 1. How do the generated digits compare to the training digits?\n",
        "\n",
        "- You can use np.random.rand() to generate random numbers from a uniform distribution\n",
        "- The estimated probability of each pixel is stored in feature\\_log\\_prob\\_. You'll need to use np.exp() to convert a log probability back to a probability."
      ]
    },
    {
      "cell_type": "code",
      "metadata": {
        "id": "ToJgTdxsLkUS",
        "colab_type": "code",
        "colab": {}
      },
      "source": [
        "#def P10(num_examples):\n",
        "\n",
        "### STUDENT START ###\n",
        "\n",
        "\n",
        "### STUDENT END ###\n",
        "\n",
        "#P10(20)"
      ],
      "execution_count": 0,
      "outputs": []
    },
    {
      "cell_type": "markdown",
      "metadata": {
        "id": "ipiQxRdCLkUV",
        "colab_type": "text"
      },
      "source": [
        "ANSWER:"
      ]
    },
    {
      "cell_type": "markdown",
      "metadata": {
        "id": "ZU2voLvILkUX",
        "colab_type": "text"
      },
      "source": [
        "(11) Remember that a strongly calibrated classifier is rougly 90% accurate when the posterior probability of the predicted class is 0.9. A weakly calibrated classifier is more accurate when the posterior is 90% than when it is 80%. A poorly calibrated classifier has no positive correlation between posterior and accuracy.\n",
        "\n",
        "Train a BernoulliNB model with a reasonable alpha value. For each posterior bucket (think of a bin in a histogram), you want to estimate the classifier's accuracy. So for each prediction, find the bucket the maximum posterior belongs to and update the \"correct\" and \"total\" counters.\n",
        "\n",
        "How would you characterize the calibration for the Naive Bayes model?"
      ]
    },
    {
      "cell_type": "code",
      "metadata": {
        "id": "0dsdaxrYLkUX",
        "colab_type": "code",
        "colab": {}
      },
      "source": [
        "#def P11(buckets, correct, total):\n",
        "    \n",
        "### STUDENT START ###\n",
        "\n",
        "\n",
        "                \n",
        "### STUDENT END ###\n",
        "\n",
        "#buckets = [0.5, 0.9, 0.999, 0.99999, 0.9999999, 0.999999999, 0.99999999999, 0.9999999999999, 1.0]\n",
        "#correct = [0 for i in buckets]\n",
        "#total = [0 for i in buckets]\n",
        "\n",
        "#P11(buckets, correct, total)\n",
        "\n",
        "#for i in range(len(buckets)):\n",
        "#    accuracy = 0.0\n",
        "#    if (total[i] > 0): accuracy = correct[i] / total[i]\n",
        "#    print 'p(pred) <= %.13f    total = %3d    accuracy = %.3f' %(buckets[i], total[i], accuracy)"
      ],
      "execution_count": 0,
      "outputs": []
    },
    {
      "cell_type": "markdown",
      "metadata": {
        "id": "x44WGcXfLkUa",
        "colab_type": "text"
      },
      "source": [
        "ANSWER:"
      ]
    },
    {
      "cell_type": "markdown",
      "metadata": {
        "id": "NPCGFg_yLkUa",
        "colab_type": "text"
      },
      "source": [
        "(12) EXTRA CREDIT\n",
        "\n",
        "Try designing extra features to see if you can improve the performance of Naive Bayes on the dev set. Here are a few ideas to get you started:\n",
        "- Try summing the pixel values in each row and each column.\n",
        "- Try counting the number of enclosed regions; 8 usually has 2 enclosed regions, 9 usually has 1, and 7 usually has 0.\n",
        "\n",
        "Make sure you comment your code well!"
      ]
    },
    {
      "cell_type": "code",
      "metadata": {
        "id": "xjEcU7SULkUb",
        "colab_type": "code",
        "colab": {}
      },
      "source": [
        "#def P12():\n",
        "\n",
        "### STUDENT START ###\n",
        "\n",
        "\n",
        "### STUDENT END ###\n",
        "\n",
        "#P12()"
      ],
      "execution_count": 0,
      "outputs": []
    }
  ]
}