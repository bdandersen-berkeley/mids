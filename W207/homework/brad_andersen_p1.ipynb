{
  "nbformat": 4,
  "nbformat_minor": 0,
  "metadata": {
    "colab": {
      "name": "Copy of brad_andersen_p1.ipynb",
      "version": "0.3.2",
      "provenance": [],
      "toc_visible": true
    },
    "kernelspec": {
      "name": "python2",
      "display_name": "Python 2"
    }
  },
  "cells": [
    {
      "cell_type": "markdown",
      "metadata": {
        "id": "CjUJGz_wLkTk",
        "colab_type": "text"
      },
      "source": [
        "# Project 1: Digit Classification with KNN and Naive Bayes\n",
        "\n",
        "**Brad Andersen**\n",
        "\n",
        "**MIDS W207**\n",
        "\n",
        "**June 10, 2019**"
      ]
    },
    {
      "cell_type": "markdown",
      "metadata": {
        "id": "o9noHi1SLkTm",
        "colab_type": "text"
      },
      "source": [
        "In this project, you'll implement your own image recognition system for classifying digits. Read through the code and the instructions carefully and add your own code where indicated. Each problem can be addressed succinctly with the included packages -- please don't add any more. Grading will be based on writing clean, commented code, along with a few short answers.\n",
        "\n",
        "As always, you're welcome to work on the project in groups and discuss ideas on the course wall, but <b> please prepare your own write-up (with your own code). </b>\n",
        "\n",
        "If you're interested, check out these links related to digit recognition:\n",
        "\n",
        "Yann Lecun's MNIST benchmarks: http://yann.lecun.com/exdb/mnist/\n",
        "\n",
        "Stanford Streetview research and data: http://ufldl.stanford.edu/housenumbers/"
      ]
    },
    {
      "cell_type": "code",
      "metadata": {
        "id": "CG1rsda4LkTn",
        "colab_type": "code",
        "colab": {}
      },
      "source": [
        "# This tells matplotlib not to try opening a new window for each plot.\n",
        "%matplotlib inline\n",
        "\n",
        "# Import a bunch of libraries.\n",
        "import time\n",
        "import numpy as np\n",
        "import matplotlib.pyplot as plt\n",
        "from matplotlib.ticker import MultipleLocator\n",
        "from sklearn.pipeline import Pipeline\n",
        "from sklearn.datasets import fetch_openml\n",
        "from sklearn.neighbors import KNeighborsClassifier\n",
        "from sklearn.metrics import confusion_matrix\n",
        "from sklearn.linear_model import LinearRegression\n",
        "from sklearn.naive_bayes import BernoulliNB\n",
        "from sklearn.naive_bayes import MultinomialNB\n",
        "from sklearn.naive_bayes import GaussianNB\n",
        "from sklearn.model_selection import GridSearchCV\n",
        "from sklearn.metrics import classification_report\n",
        "\n",
        "# Set the randomizer seed so results are the same each time.\n",
        "np.random.seed(0)"
      ],
      "execution_count": 0,
      "outputs": []
    },
    {
      "cell_type": "markdown",
      "metadata": {
        "id": "X9M9bvyjLkTq",
        "colab_type": "text"
      },
      "source": [
        "Load the data. Notice that we are splitting the data into training, development, and test. We also have a small subset of the training data called mini_train_data and mini_train_labels that you should use in all the experiments below, unless otherwise noted."
      ]
    },
    {
      "cell_type": "code",
      "metadata": {
        "id": "Zf1UoZcOLkTr",
        "colab_type": "code",
        "outputId": "e7ff936d-0721-45a6-d8ab-f8ad51fdea53",
        "colab": {
          "base_uri": "https://localhost:8080/",
          "height": 51
        }
      },
      "source": [
        "# Load the digit data from https://www.openml.org/d/554 or from default local location '~/scikit_learn_data/...'\n",
        "X, Y = fetch_openml(name='mnist_784', return_X_y=True, cache=False)\n",
        "\n",
        "\n",
        "# Rescale grayscale values to [0,1].\n",
        "X = X / 255.0\n",
        "\n",
        "# Shuffle the input: create a random permutation of the integers between 0 and the number of data points and apply this\n",
        "# permutation to X and Y.\n",
        "# NOTE: Each time you run this cell, you'll re-shuffle the data, resulting in a different ordering.\n",
        "shuffle = np.random.permutation(np.arange(X.shape[0]))\n",
        "X, Y = X[shuffle], Y[shuffle]\n",
        "\n",
        "print 'data shape: ', X.shape\n",
        "print 'label shape:', Y.shape\n",
        "\n",
        "# Set some variables to hold test, dev, and training data.\n",
        "test_data, test_labels = X[61000:], Y[61000:]\n",
        "dev_data, dev_labels = X[60000:61000], Y[60000:61000]\n",
        "train_data, train_labels = X[:60000], Y[:60000]\n",
        "mini_train_data, mini_train_labels = X[:1000], Y[:1000]"
      ],
      "execution_count": 0,
      "outputs": [
        {
          "output_type": "stream",
          "text": [
            "data shape:  (70000, 784)\n",
            "label shape: (70000,)\n"
          ],
          "name": "stdout"
        }
      ]
    },
    {
      "cell_type": "markdown",
      "metadata": {
        "id": "LBMg6pp2LkTw",
        "colab_type": "text"
      },
      "source": [
        "## Question 1\n",
        "\n",
        "(1) Create a 10x10 grid to visualize 10 examples of each digit. Python hints:\n",
        "\n",
        "- plt.rc() for setting the colormap, for example to black and white\n",
        "- plt.subplot() for creating subplots\n",
        "- plt.imshow() for rendering a matrix\n",
        "- np.array.reshape() for reshaping a 1D feature vector into a 2D matrix (for rendering)"
      ]
    },
    {
      "cell_type": "code",
      "metadata": {
        "id": "NAcNPV-PLkTx",
        "colab_type": "code",
        "outputId": "f277f6e3-9154-401b-c43c-3840344d9631",
        "colab": {
          "base_uri": "https://localhost:8080/",
          "height": 269
        }
      },
      "source": [
        "def get_example_digit_indices(digit_list, num_examples = 10):\n",
        "    \"\"\"\n",
        "    Retrieves randomly-selected indices within MNIST data identifying digits 0 through 9.\n",
        "\n",
        "    Indices are returned as a list of lists: the former list of length 10, one list per digit in\n",
        "    zero-indexed numeric order; the latter lists being indices within specified MNIST data \n",
        "    classified as a digit associated with the list (e.g. indices of 0s in one list, indices\n",
        "    of 1s in the next, etc.)\n",
        "\n",
        "    Arguments\n",
        "    ---------\n",
        "    digit_list: list\n",
        "    \n",
        "    List of numbers whose values identify digit classifications (e.g. '3', '5') and\n",
        "    whose indices map to the digit's data within the MNIST image data (required)\n",
        "\n",
        "    num_examples: int\n",
        "    \n",
        "    Number of examples of each digit to identify and whose indices to retrieve\n",
        "    (default: 10)\n",
        "\n",
        "    Returns\n",
        "    -------\n",
        "    List of lists.  Specifically, 10 lists (one for each digit 0 through 9) of indices within \n",
        "    MNIST digit image data.  Each index is associated with image data for a digit of the\n",
        "    associated classification (i.e. the first list contains a list of indices identifying images\n",
        "    classified as 0s, the second list contains a list of indices identifying images classified as\n",
        "    1s, etc.)\n",
        "    \"\"\"\n",
        "\n",
        "    assert (type(digit_list) is np.ndarray), \"digit_list must be of type NumPy ndarray\"\n",
        "    assert (digit_list.size > 0), \"digit_list must not be empty\"\n",
        "    assert (type(num_examples) is int), \"num_examples must be of type int\"\n",
        "    assert (0 < num_examples & num_examples <= 20), \"num_examples must be an int between 1 and 10\"\n",
        "\n",
        "    # Create the list of lists to populate with image indices\n",
        "    digit_indices = [[] for i in range(10)]\n",
        "\n",
        "    # How many lists we have filled with the requisite number of digit indices\n",
        "    complete_index_lists = 0\n",
        "\n",
        "    # Randomly select an index from which to be sourcing image data.  Because we iterate through\n",
        "    # the data and loop to the beginning should we reach the end of the data without completing \n",
        "    # all 10 lists, also identify the index at which to stop.\n",
        "    current_digit_list_idx = np.random.randint(1, digit_list.size)\n",
        "    final_digit_list_idx = current_digit_list_idx - 1\n",
        "\n",
        "    # Iterate through the digit data, exiting only if we've filled all 10 lists with the requisite\n",
        "    # number of digit indices, or if we've sourced/examined all digit data\n",
        "    while (complete_index_lists < 10 and current_digit_list_idx != final_digit_list_idx):\n",
        "\n",
        "        # Get the element, ensuring it is a string representing a single digit (e.g. '3', '5')\n",
        "        example_digit = digit_list[current_digit_list_idx]\n",
        "        if (type(example_digit) is str and example_digit.isdigit() and len(example_digit) == 1):\n",
        "\n",
        "            # Convert digit string to integer value\n",
        "            example_digit = int(example_digit)\n",
        "            \n",
        "            # If the list of indices associated with this digit is not filled to the requisite\n",
        "            # number, append it to the list\n",
        "            if (len(digit_indices[example_digit]) < num_examples):\n",
        "                digit_indices[example_digit].append(current_digit_list_idx)\n",
        "\n",
        "                # If the list of indices is now filled, increment the number of completed lists\n",
        "                if (len(digit_indices[example_digit]) == num_examples):\n",
        "                    complete_index_lists += 1\n",
        "\n",
        "        # Move to the next element in the digit data\n",
        "        current_digit_list_idx += 1\n",
        "        if (current_digit_list_idx == digit_list.size):\n",
        "            current_digit_list_idx = 0\n",
        "\n",
        "    return digit_indices\n",
        "\n",
        "def P1(num_examples = 10):\n",
        "    \"\"\"\n",
        "    Creates a 10 x 10 grid to visualize 10 MNIST examples of each digit.\n",
        "    \n",
        "    Arguments\n",
        "    ---------\n",
        "    num_examples: int\n",
        "    \n",
        "    Number of examples of each digit to identify and whose indices to retrieve\n",
        "    (default: 10)\n",
        "    \"\"\"\n",
        "\n",
        "    assert (type(num_examples) is int), \"num_examples must be of type int\"\n",
        "    assert (0 < num_examples & num_examples <= 10), \"num_examples must be an int between 1 and 10\"\n",
        "    \n",
        "    # Retrieve the lists of indices identifying digits' image data within the MNIST data\n",
        "    digit_indices = get_example_digit_indices(Y, num_examples)\n",
        "\n",
        "    # Create the 10 x 10 grid of axes (i.e. subplots for each digit image)\n",
        "    fig, ax = plt.subplots(nrows = 10, ncols = num_examples)\n",
        "\n",
        "    # Iterate through the list of lists, rendering each digit image associated with the current\n",
        "    # index.  An assumption is made that each image is represented using 784 values (a matrix of\n",
        "    # 28 x 28) between 0 and 1, inclusive.\n",
        "    for i in range(0, 10):\n",
        "        for j in range(0, num_examples):\n",
        "            ax[i][j].axis(\"off\")\n",
        "            ax[i][j].imshow(\n",
        "                X = np.reshape(X[digit_indices[i][j]], (28, 28)),\n",
        "                aspect = \"auto\",\n",
        "                cmap = plt.get_cmap(\"Greys\")\n",
        "            )\n",
        "\n",
        "    plt.show()\n",
        "\n",
        "P1(10)"
      ],
      "execution_count": 0,
      "outputs": [
        {
          "output_type": "display_data",
          "data": {
            "image/png": "[encoded data removed]",
            "text/plain": [
              "<Figure size 432x288 with 100 Axes>"
            ]
          },
          "metadata": {
            "tags": []
          }
        }
      ]
    },
    {
      "cell_type": "markdown",
      "metadata": {
        "id": "AhcEgB5BLkTz",
        "colab_type": "text"
      },
      "source": [
        "## Question 2\n",
        "\n",
        "(2) Evaluate a K-Nearest-Neighbors model with k = [1,3,5,7,9] using the mini training set. Report accuracy on the dev set. For k=1, show precision, recall, and F1 for each label. Which is the most difficult digit?\n",
        "\n",
        "- KNeighborsClassifier() for fitting and predicting\n",
        "- classification_report() for producing precision, recall, F1 results"
      ]
    },
    {
      "cell_type": "code",
      "metadata": {
        "id": "EVEn_N1uLkT0",
        "colab_type": "code",
        "outputId": "e07b0825-21fe-4828-c80e-639ea9d1f47d",
        "colab": {
          "base_uri": "https://localhost:8080/",
          "height": 599
        }
      },
      "source": [
        "def P2(k_values):\n",
        "    \"\"\"\n",
        "    Evaluates KNearestNeighbor classifier accuracy using models trained on \"mini\" data set.\n",
        "\n",
        "    Arguments\n",
        "    ---------\n",
        "    k_values: list\n",
        "\n",
        "    List of k values with which to create and evaluate KNearestNeighbor classifiers\n",
        "    \"\"\"\n",
        "\n",
        "    assert (type(k_values) is list), \"k_values must be of type list\"\n",
        "    assert (len(k_values) > 0), \"k_values list must not be empty\"\n",
        "\n",
        "    # Iterate over the list of k values, creating and evaluating the accuracy of \n",
        "    # K-nearest-neighbor classifiers for each value of k\n",
        "    k_list = list()\n",
        "    accuracy_list = list()\n",
        "    k1_predicted = None\n",
        "    for k in k_values:\n",
        "        classifier = KNeighborsClassifier(n_neighbors = k)\n",
        "        classifier.fit(X = mini_train_data, y = mini_train_labels)\n",
        "        k_list.append(str(k))\n",
        "        accuracy_list.append(classifier.score(X = dev_data, y = dev_labels))\n",
        "        if (k == 1):\n",
        "            k1_predicted = classifier.predict(X = dev_data)\n",
        "\n",
        "    # Plot the data using a horizontal histogram\n",
        "    fig, ax = plt.subplots()\n",
        "    xlim_minimum = min(accuracy_list) * 0.99\n",
        "    ax.set(\n",
        "        xlim = [xlim_minimum, max(accuracy_list) * 1.01],\n",
        "        title = \"KNearest Neighbor Classifier Accuracy\\n(Train: mini, Test: dev)\",\n",
        "        xlabel = \"Mean Accuracy\",\n",
        "        ylabel = \"Neighbors (k)\"\n",
        "    )\n",
        "    for i, accuracy in enumerate(accuracy_list):\n",
        "        ax.text(xlim_minimum + (accuracy - xlim_minimum) / 2, y = i, s = accuracy, color = \"white\")\n",
        "    ax.barh(k_list, accuracy_list)\n",
        "    plt.show()\n",
        "\n",
        "    # Print the classification report showing the performance of the k=1 classifier for each digit\n",
        "    # represented in the development data set    \n",
        "    print(classification_report(dev_labels, k1_predicted))\n",
        "\n",
        "k_values = [1, 3, 5, 7, 9]\n",
        "P2(k_values)"
      ],
      "execution_count": 0,
      "outputs": [
        {
          "output_type": "display_data",
          "data": {
            "image/png": "[encoded data removed]",
            "text/plain": [
              "<Figure size 432x288 with 1 Axes>"
            ]
          },
          "metadata": {
            "tags": []
          }
        },
        {
          "output_type": "stream",
          "text": [
            "              precision    recall  f1-score   support\n",
            "\n",
            "           0       0.95      0.95      0.95       106\n",
            "           1       0.89      0.98      0.93       118\n",
            "           2       0.90      0.79      0.84       106\n",
            "           3       0.93      0.87      0.90        97\n",
            "           4       0.91      0.85      0.88        92\n",
            "           5       0.86      0.88      0.87        88\n",
            "           6       0.92      0.92      0.92       102\n",
            "           7       0.85      0.94      0.89       102\n",
            "           8       0.83      0.77      0.80        94\n",
            "           9       0.80      0.86      0.83        95\n",
            "\n",
            "   micro avg       0.88      0.88      0.88      1000\n",
            "   macro avg       0.88      0.88      0.88      1000\n",
            "weighted avg       0.89      0.88      0.88      1000\n",
            "\n"
          ],
          "name": "stdout"
        }
      ]
    },
    {
      "cell_type": "markdown",
      "metadata": {
        "id": "VFAIEZi9LkT2",
        "colab_type": "text"
      },
      "source": [
        "### Answer\n",
        "\n",
        "Two digits stand out in the *k*=1 classifier's classification report:\n",
        "\n",
        "*   **8** - Digit \"8\" has the lowest *recall* value among the ten digits; i.e. the lowest ratio of correctly-identified digits to the number of relevant values that should have been returned.\n",
        "*   **9** - Digit \"9\" has the lowest *precision* value among the ten digits; i.e. the lowest ratio of correctly-identified digits to the total number of values that should have been returned.\n",
        "\n",
        "However, if \"difficulty\" is defined as the lowest mean value among digits -- (*precision* + *recall*) / 2 -- in other words the *f1 score* -- digit 8 has the lowest f1 score.\n",
        "\n",
        "\n"
      ]
    },
    {
      "cell_type": "markdown",
      "metadata": {
        "id": "hFukiUp5LkT3",
        "colab_type": "text"
      },
      "source": [
        "## Question 3\n",
        "\n",
        "(3) Using k=1, report dev set accuracy for the training set sizes below. Also, measure the amount of time needed for prediction with each training size.\n",
        "\n",
        "- time.time() gives a wall clock value you can use for timing operations"
      ]
    },
    {
      "cell_type": "markdown",
      "metadata": {
        "id": "LFNmc4OYufg5",
        "colab_type": "text"
      },
      "source": [
        "### Answer\n",
        "\n",
        "See histograms below the code cell."
      ]
    },
    {
      "cell_type": "code",
      "metadata": {
        "id": "KtaIb60LLkT4",
        "colab_type": "code",
        "outputId": "f016f5cf-a285-41b0-95cd-6e9916d77517",
        "colab": {
          "base_uri": "https://localhost:8080/",
          "height": 603
        }
      },
      "source": [
        "def calculate_training_accuracy(train_size, k = 1):\n",
        "    \"\"\"\n",
        "    Calculates the accuracy of a KNearestNeighbor classifier using a specified training data set \n",
        "    size and nearest neighbor count.\n",
        "    \n",
        "    This method relies upon values defined in the notebook's initial code cells, where data is\n",
        "    loaded from the MNIST data set, and divided into initial training and test data sets.\n",
        "    \n",
        "    \n",
        "    Arguments\n",
        "    ---------\n",
        "    \n",
        "    train_size: int\n",
        "    \n",
        "    Size of training set with which to train the classifier\n",
        "    \n",
        "    classifier: object\n",
        "    \n",
        "    Method parameter in which the KNearestNeighbor classifier will be returned\n",
        "    \n",
        "    k: int \n",
        "    \n",
        "    Nearest neighbor count with which to define the classifier (default: 1)\n",
        "    \n",
        "    Return\n",
        "    ------\n",
        "    \n",
        "    Two-item tuple containing the KNearestNeighbor classifier and its calculated accuracy using \n",
        "    test data identified in the notebook's initial cells.\n",
        "    \"\"\"\n",
        "    \n",
        "    assert (type(train_size) is int), \"train_size must be of type int\"\n",
        "    assert (type(k) is int), \"k must be of type int\"\n",
        "    assert (k > 0), \"k must be greater than 0\"\n",
        "    \n",
        "    # Identify the training data set\n",
        "    cur_train_data, cur_train_labels = X[:train_size], Y[:train_size]\n",
        "\n",
        "    # Create and train/fit the KNearestNeighbor classifier\n",
        "    classifier = KNeighborsClassifier(n_neighbors = k)\n",
        "    classifier.fit(X = cur_train_data, y = cur_train_labels)\n",
        "\n",
        "    # Return the classifier and its calculated accuracy \n",
        "    return classifier, classifier.score(X = dev_data, y = dev_labels)\n",
        "\n",
        "def P3(train_sizes, accuracies):\n",
        "    \"\"\"\n",
        "    Trains, evaluates accuracy, and performs MNIST data predictions using specified training set\n",
        "    sizes.\n",
        "\n",
        "    A KNearestNeighbor classifier with k = 1 is used for each training set size.\n",
        "\n",
        "    Arguments\n",
        "    ---------\n",
        "    train_sizes: list\n",
        "\n",
        "    Integer list of sizes of various training data sets with which to train that classifier\n",
        "\n",
        "    accuracies: list\n",
        "\n",
        "    List with no elements.  P3 returns classifier accuracy and elapsed time for predictions in the\n",
        "    form of a two-element tuple -- one tuple per training set size evaluated.  Elements of each\n",
        "    tuple are classifier accuracy and elapsed time of prediction in seconds.\n",
        "    \"\"\"\n",
        "\n",
        "    assert (type(train_sizes) is list), \"train_sizes must be of type list\"\n",
        "    assert (len(train_sizes) > 0), \"train_sizes must not be empty\"\n",
        "    assert (all(isinstance(train_size, int) for train_size in train_sizes)), \"train_sizes list must contain only integers\"\n",
        "    assert (type(accuracies) is list), \"accuracies must be of type list\"\n",
        "    assert (len(accuracies) == 0), \"accuracies must be empty\"\n",
        "\n",
        "    # Iterate through the list of training data sizes, building and evaluating KNearestNeighbor\n",
        "    # classifiers of the specified sizes\n",
        "    for train_size in train_sizes:\n",
        "\n",
        "        # Create the classifier and evaluate its accuracy\n",
        "        classifier, accuracy = calculate_training_accuracy(train_size)\n",
        "\n",
        "        # Perform predictions using test data, and calculate each prediction's elapsed time\n",
        "        time_begin = time.time()\n",
        "        classifier.predict(X = dev_data)\n",
        "        seconds_elapsed = time.time() - time_begin\n",
        "\n",
        "        # Append the accuracy-elapsed time tuple to the specified \"accuracies\" list\n",
        "        accuracies.append((accuracy, seconds_elapsed))\n",
        "\n",
        "train_sizes = [100, 200, 400, 800, 1600, 3200, 6400, 12800, 25000]\n",
        "accuracies = []\n",
        "P3(train_sizes, accuracies)\n",
        "\n",
        "# Create lists from each tuple returned by P3\n",
        "accuracy_list = [accuracy[0] for accuracy in accuracies]\n",
        "elapsed_time_list = [round(accuracy[1], 3) for accuracy in accuracies]\n",
        "\n",
        "# Create and render the horizontal histogram for classifier accuracies\n",
        "fig, ax = plt.subplots()\n",
        "xlim_minimum = min(accuracy_list) * 0.9\n",
        "ax.set(\n",
        "    xlim = [xlim_minimum, max(accuracy_list) * 1.01],\n",
        "    title = \"KNearest Neighbor Classifier Accuracy\\n(Train: <variable>, Test: dev)\",\n",
        "    xlabel = \"Mean Accuracy\",\n",
        "    ylabel = \"Training Size\"\n",
        ")\n",
        "for i, accuracy in enumerate(accuracy_list):\n",
        "    ax.text(xlim_minimum + (accuracy - xlim_minimum) / 2, y = i, s = accuracy, color = \"white\")\n",
        "ax.barh([str(train_size) for train_size in train_sizes], accuracy_list)\n",
        "plt.show()\n",
        "\n",
        "# Create and render the horizontal histogram for classifiers' prediction's elapsed times\n",
        "fig, ax = plt.subplots()\n",
        "ax.set(\n",
        "    xlim = [0, max(elapsed_time_list) * 1.01],\n",
        "    title = \"KNearest Neighbor Predictions - Elapsed Times\\n(Train: <variable>, Test: dev)\",\n",
        "    xlabel = \"Elapsed Time (Seconds)\",\n",
        "    ylabel = \"Training Size\"\n",
        ")\n",
        "for i, elapsed_time in enumerate(elapsed_time_list):\n",
        "    if (elapsed_time < 10):\n",
        "        ax.text(elapsed_time + 1, y = i, s = elapsed_time)\n",
        "    else:\n",
        "        ax.text(\n",
        "            xlim_minimum + (elapsed_time - xlim_minimum) / 2, \n",
        "            y = i, \n",
        "            s = elapsed_time,\n",
        "            color = \"white\"\n",
        "        )\n",
        "ax.barh([str(train_size) for train_size in train_sizes], elapsed_time_list)\n",
        "plt.show()\n"
      ],
      "execution_count": 0,
      "outputs": [
        {
          "output_type": "display_data",
          "data": {
            "image/png": "[encoded data removed]",
            "text/plain": [
              "<Figure size 432x288 with 1 Axes>"
            ]
          },
          "metadata": {
            "tags": []
          }
        },
        {
          "output_type": "display_data",
          "data": {
            "image/png": "[encoded data removed]",
            "text/plain": [
              "<Figure size 432x288 with 1 Axes>"
            ]
          },
          "metadata": {
            "tags": []
          }
        }
      ]
    },
    {
      "cell_type": "markdown",
      "metadata": {
        "id": "oSOuTEQYLkT6",
        "colab_type": "text"
      },
      "source": [
        "## Question 4\n",
        "\n",
        "(4) Fit a regression model that predicts accuracy from training size. What does it predict for n=60000? What's wrong with using regression here? Can you apply a transformation that makes the predictions more reasonable?\n",
        "\n",
        "- Remember that the sklearn fit() functions take an input matrix X and output vector Y. So each input example in X is a vector, even if it contains only a single value."
      ]
    },
    {
      "cell_type": "markdown",
      "metadata": {
        "id": "B5IcBS9FP4Vm",
        "colab_type": "text"
      },
      "source": [
        "### Out Of Band Classifier Analysys\n",
        "\n",
        "To better understand the growth of the accuracy of a KNearest Neighbor classifier, I trained classifiers using the MNIST dataset, different sizes of training data (in increments of 100), and two values for *k* (1 and 2).  Training set size, classifier accuracy, and the time to score the accuracy were recorded in two comma-separated lists (see  *k1_data.csv* and *k2_data.csv* beneath the *data* directory).\n",
        "\n",
        "Note that the actual values recorded for n = 60000 in both data sets were as follows:\n",
        "\n",
        "| k | Training Size | Accuracy | Elapsed Time |\n",
        "| - | ------------- | -------- | ------------ |\n",
        "| 1 | 60,000 | 0.971 | 46.8913 |\n",
        "| 2 | 60,000 | 0.970 | 46.9841 |\n",
        "\n",
        "Accuracy values will be used for comparison later when examining the linear regression model trained on the same data.\n",
        "\n",
        "Plotting the growth of classifier accuracy with this data revealed the following:"
      ]
    },
    {
      "cell_type": "code",
      "metadata": {
        "id": "a9ASg8RBLkT7",
        "colab_type": "code",
        "outputId": "cce38018-8b8a-4c40-e3cf-3e53b6e4fb04",
        "colab": {
          "base_uri": "https://localhost:8080/",
          "height": 295
        }
      },
      "source": [
        "# Retrieve CSV data from classifier accuracy files\n",
        "k1_data_url = \"https://raw.githubusercontent.com/bdandersen-berkeley/mids/master/W207/homework/data/k1_data.csv\"\n",
        "k2_data_url = \"https://raw.githubusercontent.com/bdandersen-berkeley/mids/master/W207/homework/data/k2_data.csv\"\n",
        "k1_accuracy_data = np.loadtxt(k1_data_url, delimiter = \",\", skiprows = 1)\n",
        "k2_accuracy_data = np.loadtxt(k2_data_url, delimiter = \",\", skiprows = 1)\n",
        "\n",
        "assert (k1_accuracy_data.shape == (600, 3))\n",
        "assert (k2_accuracy_data.shape == (600, 3))\n",
        "\n",
        "# Plot the data\n",
        "fig, ax = plt.subplots()\n",
        "ax.set(\n",
        "    title = \"KNearest Neighbor Classifier Accuracy\",\n",
        "    xlabel = \"Accuracy\",\n",
        "    ylabel = \"Training Size\"\n",
        ")\n",
        "plt.plot(np.array(k1_accuracy_data[:, 0]), np.array(k1_accuracy_data[:, 1]), label = 'k = 1', linewidth = 2)\n",
        "plt.plot(np.array(k2_accuracy_data[:, 0]), np.array(k2_accuracy_data[:, 1]), \"red\", label = 'k = 2', linewidth = 2)\n",
        "ax.legend()\n",
        "plt.show()\n",
        "\n",
        "np.random.seed(0)\n",
        "k1_shuffle = np.random.permutation(np.arange(k1_accuracy_data.shape[0]))\n",
        "k2_shuffle = np.random.permutation(np.arange(k2_accuracy_data.shape[0]))\n"
      ],
      "execution_count": 0,
      "outputs": [
        {
          "output_type": "display_data",
          "data": {
            "image/png": "[encoded data removed]",
            "text/plain": [
              "<Figure size 432x288 with 1 Axes>"
            ]
          },
          "metadata": {
            "tags": []
          }
        }
      ]
    },
    {
      "cell_type": "markdown",
      "metadata": {
        "id": "WxKd7tNFS-CA",
        "colab_type": "text"
      },
      "source": [
        "Clearly, accuracy growth is not linear.  Instead, it resembles a reciprocal function.\n",
        "\n",
        "I next trained a linear regression model on a randomized sample of data retrieved from *k1_data.csv*, and used it to predict the accuracy of a KNearest Neighbor classifier trained with 60,000 elements:"
      ]
    },
    {
      "cell_type": "code",
      "metadata": {
        "id": "yhiO3sHoUKrC",
        "colab_type": "code",
        "outputId": "66cdfe96-5dec-4283-c3e8-942dd4641664",
        "colab": {
          "base_uri": "https://localhost:8080/",
          "height": 344
        }
      },
      "source": [
        "shuffle = np.random.permutation(np.arange(k1_accuracy_data.shape[0]))\n",
        "X, y = [k1_accuracy_data[row][0] for row in shuffle], [k1_accuracy_data[row][1] for row in shuffle]\n",
        "\n",
        "training_max_idx = int(np.trunc(k1_accuracy_data.shape[0] * 0.8))\n",
        "testing_max_idx = k1_accuracy_data.shape[0] - 1\n",
        "\n",
        "x_train_data = list()\n",
        "for i, elem in enumerate(X[:training_max_idx]):\n",
        "  x_train_data.append([elem])\n",
        "x_test_data = list()\n",
        "for i, elem in enumerate(X[training_max_idx + 1:testing_max_idx]):\n",
        "  x_test_data.append([elem])\n",
        "y_train_data = list()\n",
        "for i, elem in enumerate(y[:training_max_idx]):\n",
        "  y_train_data.append([elem])\n",
        "y_test_data = list()\n",
        "for i, elem in enumerate(y[training_max_idx + 1:testing_max_idx]):\n",
        "  y_test_data.append([elem])\n",
        "print \"Training set size:\", len(x_train_data), \", Test set size:\", len(x_test_data)\n",
        "  \n",
        "regression = LinearRegression().fit(np.array(x_train_data), np.array(y_train_data))\n",
        "y_predicted_data = regression.predict(x_test_data)\n",
        "predicted_n_60000 = regression.predict([[60000]])\n",
        "print \"Predicted classifier accuracy on training size of 60,000:\", predicted_n_60000[0]\n",
        "\n",
        "# Plot the data\n",
        "fig, ax = plt.subplots()\n",
        "ax.set(\n",
        "    title = \"KNearest Neighbor Classifier Accuracy\\nRandom k1_data.csv Sample\",\n",
        "    ylabel = \"Accuracy\",\n",
        "    xlabel = \"Training Size\"\n",
        ")\n",
        "plt.plot(np.array(x_train_data), np.array(y_train_data), \"b.\", label = \"Sample\")\n",
        "plt.plot(np.array(x_test_data), np.array(y_predicted_data), \"g.\", label = \"Predicted\")\n",
        "ax.legend()\n",
        "plt.show()"
      ],
      "execution_count": 0,
      "outputs": [
        {
          "output_type": "stream",
          "text": [
            "Training set size: 480 , Test set size: 118\n",
            "Predicted classifier accuracy on training size of 60,000: [0.98454743]\n"
          ],
          "name": "stdout"
        },
        {
          "output_type": "display_data",
          "data": {
            "image/png": "[encoded data removed]",
            "text/plain": [
              "<Figure size 432x288 with 1 Axes>"
            ]
          },
          "metadata": {
            "tags": []
          }
        }
      ]
    },
    {
      "cell_type": "markdown",
      "metadata": {
        "id": "Itb1PD9wpmVa",
        "colab_type": "text"
      },
      "source": [
        "If the regression model was accurate, plotting test values versus predicted values should result in a line that is generally straight, and along a line drawn at 45 degrees from the plot's origin.  This is not the case:\n"
      ]
    },
    {
      "cell_type": "code",
      "metadata": {
        "id": "9eQH-3YAppWO",
        "colab_type": "code",
        "outputId": "2bb65964-4de8-4ff7-ab3d-4366b451fa85",
        "colab": {
          "base_uri": "https://localhost:8080/",
          "height": 310
        }
      },
      "source": [
        "fig, ax = plt.subplots()\n",
        "ax.set(\n",
        "    title = \"Test vs. Predicted Accuracy\\ny vs. y'\",\n",
        "    xlabel = \"Test (y)\",\n",
        "    ylabel = \"Predicted (y')\"\n",
        ")\n",
        "ax.set_xlim(0.75, 1.0)\n",
        "ax.set_ylim(0.75, 1.0)\n",
        "plt.plot(np.array(y_test_data), np.array(y_predicted_data), \"b.\")\n",
        "plt.show()"
      ],
      "execution_count": 0,
      "outputs": [
        {
          "output_type": "display_data",
          "data": {
            "image/png": "[encoded data removed]",
            "text/plain": [
              "<Figure size 432x288 with 1 Axes>"
            ]
          },
          "metadata": {
            "tags": []
          }
        }
      ]
    },
    {
      "cell_type": "markdown",
      "metadata": {
        "id": "glKQBjIHllXo",
        "colab_type": "text"
      },
      "source": [
        "### Achieving Linearity with Data Transformation\n",
        "\n",
        "Given the reciprocal nature of the KNearest Neighbor accuracy distribution, we can transform values as follows to achieve linearity in the regression:"
      ]
    },
    {
      "cell_type": "code",
      "metadata": {
        "id": "3O2xuItNmC0N",
        "colab_type": "code",
        "outputId": "59357046-0df7-4509-f145-10ca2818c8a1",
        "colab": {
          "base_uri": "https://localhost:8080/",
          "height": 344
        }
      },
      "source": [
        "x_train_data_transformed = list()\n",
        "for i, elem in enumerate(X[:training_max_idx]):\n",
        "  x_train_data_transformed.append([1 - 1 / elem])\n",
        "x_test_data_transformed = list()\n",
        "for i, elem in enumerate(X[training_max_idx + 1:testing_max_idx]):\n",
        "  x_test_data_transformed.append([1 - 1 / elem])\n",
        "  \n",
        "regression = LinearRegression().fit(np.array(x_train_data_transformed), np.array(y_train_data))\n",
        "y_predicted_data = regression.predict(x_test_data_transformed)\n",
        "predicted_n_60000 = regression.predict([[1 - 1 / 60000]])\n",
        "print \"Predicted classifier accuracy on training size of 60,000:\", predicted_n_60000[0]\n",
        "\n",
        "# Plot the data\n",
        "fig, ax = plt.subplots()\n",
        "ax.set(\n",
        "    title = \"KNearest Neighbor Classifier Accuracy\\nRandom k1_data.csv Sample\",\n",
        "    ylabel = \"Accuracy\",\n",
        "    xlabel = \"Training Size\"\n",
        ")\n",
        "plt.plot(np.array(x_train_data_transformed), np.array(y_train_data), \"b.\", label = \"Sample\")\n",
        "plt.plot(np.array(x_test_data_transformed), np.array(y_predicted_data), \"g.\", label = \"Predicted\")\n",
        "ax.legend()\n",
        "plt.show()\n",
        "\n",
        "print ax.get_xlim()"
      ],
      "execution_count": 0,
      "outputs": [
        {
          "output_type": "stream",
          "text": [
            "Predicted classifier accuracy on training size of 60,000: [0.96079219]\n"
          ],
          "name": "stdout"
        },
        {
          "output_type": "display_data",
          "data": {
            "image/png": "[encoded data removed]",
            "text/plain": [
              "<Figure size 432x288 with 1 Axes>"
            ]
          },
          "metadata": {
            "tags": []
          }
        },
        {
          "output_type": "stream",
          "text": [
            "(0.9895008333333333, 1.0004825)\n"
          ],
          "name": "stdout"
        }
      ]
    },
    {
      "cell_type": "code",
      "metadata": {
        "id": "TMAie7Tc5rLA",
        "colab_type": "code",
        "outputId": "74d6e147-337b-43a5-e3d9-22d8d73d93d7",
        "colab": {
          "base_uri": "https://localhost:8080/",
          "height": 310
        }
      },
      "source": [
        "fig, ax = plt.subplots()\n",
        "ax.set(\n",
        "    title = \"Test vs. Predicted Accuracy\\ny vs. y'\",\n",
        "    xlabel = \"Test (y)\",\n",
        "    ylabel = \"Predicted (y')\"\n",
        ")\n",
        "ax.set_xlim(0.75, 1.0)\n",
        "ax.set_ylim(0.75, 1.0)\n",
        "plt.plot(np.array(y_test_data), np.array(y_predicted_data), \"b.\")\n",
        "plt.show()"
      ],
      "execution_count": 0,
      "outputs": [
        {
          "output_type": "display_data",
          "data": {
            "image/png": "[encoded data removed]",
            "text/plain": [
              "<Figure size 432x288 with 1 Axes>"
            ]
          },
          "metadata": {
            "tags": []
          }
        }
      ]
    },
    {
      "cell_type": "markdown",
      "metadata": {
        "id": "yGk9dilqLkT_",
        "colab_type": "text"
      },
      "source": [
        "## Question 5\n",
        "\n",
        "Fit a 1-NN and output a confusion matrix for the dev data. Use the confusion matrix to identify the most confused pair of digits, and display a few example mistakes.\n",
        "\n",
        "- confusion_matrix() produces a confusion matrix"
      ]
    },
    {
      "cell_type": "markdown",
      "metadata": {
        "id": "96zc_e4rvAkd",
        "colab_type": "text"
      },
      "source": [
        "### Answer\n",
        "\n",
        "See matrices below the code cell."
      ]
    },
    {
      "cell_type": "code",
      "metadata": {
        "id": "lZBenYQDLkUA",
        "colab_type": "code",
        "outputId": "36b22f05-510a-42f2-9506-76a27a6ed99d",
        "colab": {
          "base_uri": "https://localhost:8080/",
          "height": 779
        }
      },
      "source": [
        "def P5():\n",
        "  \"\"\"\n",
        "  \"\"\"\n",
        "\n",
        "  # Create and train/fit the KNearestNeighbor classifier using k = 1\n",
        "  classifier = KNeighborsClassifier(n_neighbors = 1)\n",
        "  classifier.fit(X = train_data, y = train_labels)\n",
        "  predicted = classifier.predict(X = dev_data)\n",
        "\n",
        "  # Create the confusion matrix, comparing development data to that predicted by the\n",
        "  # classifier\n",
        "  confusion_mx = confusion_matrix(\n",
        "    dev_labels, \n",
        "    predicted,\n",
        "    labels = ['0', '1', '2', '3', '4', '5', '6', '7', '8', '9']\n",
        "  )\n",
        "\n",
        "  print(\"Classifier accuracy:\")\n",
        "  print(classification_report(dev_labels, predicted))\n",
        "  print(\"Confusion matrix:\")\n",
        "  print(confusion_mx)\n",
        "  \n",
        "  # Iterate through the development data comparing true labels to those predicted by\n",
        "  # the classifier.  Maintain the index of those whose prediction was incorrect.\n",
        "  incorrect_image_indices = list()\n",
        "  for i in range(len(dev_labels)):\n",
        "    if (dev_labels[i] != predicted[i]):\n",
        "      incorrect_image_indices.append(i)\n",
        "      \n",
        "  # Render example digit images that were predicted incorrectly\n",
        "  assert (len(incorrect_image_indices) >= 9), \"Fewer than 9 incorrect predictions\"\n",
        "  figure_dim = 4 if len(incorrect_image_indices) >= 16 else 3\n",
        "  \n",
        "  image_index = 0\n",
        "  fig, ax = plt.subplots(figure_dim, figure_dim)\n",
        "  for i in range(0, figure_dim):\n",
        "    for j in range(0, figure_dim):\n",
        "      ax[i][j].axis(\"off\")\n",
        "      ax[i][j].imshow(\n",
        "        X = np.reshape(dev_data[incorrect_image_indices[image_index]], (28, 28)),\n",
        "        aspect = \"auto\",\n",
        "        cmap = plt.get_cmap(\"Greys\")\n",
        "      )\n",
        "      image_index += 1\n",
        "    \n",
        "  print(\"Examples of incorrectly-predicted digits:\")\n",
        "  plt.show()\n",
        "  \n",
        "P5()\n"
      ],
      "execution_count": 0,
      "outputs": [
        {
          "output_type": "stream",
          "text": [
            "Classifier accuracy:\n",
            "              precision    recall  f1-score   support\n",
            "\n",
            "           0       0.97      0.99      0.98       106\n",
            "           1       0.97      0.99      0.98       118\n",
            "           2       0.97      0.96      0.97       106\n",
            "           3       0.96      0.95      0.95        97\n",
            "           4       0.98      1.00      0.99        92\n",
            "           5       0.97      0.94      0.95        88\n",
            "           6       0.97      0.98      0.98       102\n",
            "           7       0.97      0.99      0.98       102\n",
            "           8       0.96      0.90      0.93        94\n",
            "           9       0.99      0.99      0.99        95\n",
            "\n",
            "   micro avg       0.97      0.97      0.97      1000\n",
            "   macro avg       0.97      0.97      0.97      1000\n",
            "weighted avg       0.97      0.97      0.97      1000\n",
            "\n",
            "Confusion matrix:\n",
            "[[105   1   0   0   0   0   0   0   0   0]\n",
            " [  0 117   0   0   0   0   0   0   1   0]\n",
            " [  1   0 102   0   0   0   0   2   1   0]\n",
            " [  0   1   0  92   0   2   0   1   1   0]\n",
            " [  0   0   0   0  92   0   0   0   0   0]\n",
            " [  1   0   0   2   0  83   1   0   0   1]\n",
            " [  0   0   0   0   0   1 100   0   1   0]\n",
            " [  0   0   1   0   0   0   0 101   0   0]\n",
            " [  1   1   2   2   1   0   2   0  85   0]\n",
            " [  0   0   0   0   1   0   0   0   0  94]]\n",
            "Examples of incorrectly-predicted digits:\n"
          ],
          "name": "stdout"
        },
        {
          "output_type": "display_data",
          "data": {
            "image/png": "[encoded data removed]",
            "text/plain": [
              "<Figure size 432x288 with 16 Axes>"
            ]
          },
          "metadata": {
            "tags": []
          }
        }
      ]
    },
    {
      "cell_type": "markdown",
      "metadata": {
        "id": "4nixfswpLkUC",
        "colab_type": "text"
      },
      "source": [
        "## Question 6\n",
        "\n",
        "(6) A common image processing technique is to smooth an image by blurring. The idea is that the value of a particular pixel is estimated as the weighted combination of the original value and the values around it. Typically, the blurring is Gaussian -- that is, the weight of a pixel's influence is determined by a Gaussian function over the distance to the relevant pixel.\n",
        "\n",
        "*   List item\n",
        "*   List item\n",
        "\n",
        "\n",
        "\n",
        "Implement a simplified Gaussian blur by just using the 8 neighboring pixels: the smoothed value of a pixel is a weighted combination of the original value and the 8 neighboring values. Try applying your blur filter in 3 ways:\n",
        "- preprocess the training data but not the dev data\n",
        "- preprocess the dev data but not the training data\n",
        "- preprocess both training and dev data\n",
        "\n",
        "Note that there are Guassian blur filters available, for example in scipy.ndimage.filters. You're welcome to experiment with those, but you are likely to get the best results with the simplified version I described above."
      ]
    },
    {
      "cell_type": "code",
      "metadata": {
        "id": "dQQXcH8YLkUD",
        "colab_type": "code",
        "colab": {}
      },
      "source": [
        "def get_valid_neighbor_coordinates(pixel, dimension = (28, 28)):\n",
        "    \"\"\"\n",
        "    Retrieves a list of coordinates adjacent to the specified pixel.\n",
        "    \n",
        "    Arguments\n",
        "    ---------\n",
        "    \n",
        "    pixel: tuple with ints as values \n",
        "    \n",
        "    Coordinates of the pixel whose valid neighbor coordinates to return (required)\n",
        "    \n",
        "    dimension: tuple with ints as values \n",
        "    \n",
        "    Dimensions of the matrix in which the pixel's coordinates apply (default: (28, 28))\n",
        "    \n",
        "    Return\n",
        "    ------\n",
        "    List of tuples representing the coordinates of valid neighbor pixels surrounding the specified\n",
        "    pixel\n",
        "    \n",
        "    \"\"\"\n",
        "    \n",
        "    assert (type(pixel) == tuple), \"pixel must be of type tuple\"\n",
        "    assert (type(pixel[0]) == int and type(pixel[1]) == int), \"pixel coordinates must be integers\"\n",
        "    assert (pixel[0] >= 0 and pixel[1] >= 0), \"pixel coordinates must be greater than 0\"\n",
        "    \n",
        "    assert (type(dimension) == tuple), \"dimension must be of type tuple\"\n",
        "    assert (type(dimension[0]) == int and type(dimension[1]) == int), \"dimension coordinates must be integers\"\n",
        "    assert (dimension[0] >= 0 and dimension[1] >= 0), \"dimension coordinates must be greater than 0\"\n",
        "    \n",
        "    assert (pixel[0] < dimension[0] and pixel[1] < dimension[1]), \"pixel coordinates must be within dimension bounds\"\n",
        "\n",
        "    # Calculate the potentially-invalid pixel coordinate values of neighbor pixels\n",
        "    col_neighbors = [pixel[0] - 1, pixel[0], pixel[0] + 1]\n",
        "    row_neighbors = [pixel[1] - 1, pixel[1], pixel[1] + 1]\n",
        "    \n",
        "    # Remove column values outside the bounds of the specified dimensions\n",
        "    if (col_neighbors[2] > dimension[0] - 1):\n",
        "        del col_neighbors[2]\n",
        "    if (col_neighbors[0] < 0):\n",
        "        del col_neighbors[0]\n",
        "        \n",
        "    # Remove row values outside the bounds of the specified dimensions\n",
        "    if (row_neighbors[2] > dimension[1] - 1):\n",
        "        del row_neighbors[2]\n",
        "    if (row_neighbors[0] < 0):\n",
        "        del row_neighbors[0]\n",
        "    \n",
        "    # Build and return the list of valid neighbor pixel coordinates (including the coordinates of\n",
        "    # the pixel whose neighbors we're identifying)\n",
        "    neighbors = list()\n",
        "    for row in row_neighbors:\n",
        "        for col in col_neighbors:\n",
        "            neighbors.append((col, row))\n",
        "            \n",
        "    return neighbors\n",
        "\n",
        "def blur(image, dimension = (28, 28)):\n",
        "    \"\"\"\n",
        "    Blur an image by calculating a weighted average using each pixel's immediate neighbor pixels\n",
        "    \n",
        "    Arguments\n",
        "    ---------\n",
        "    \n",
        "    image: ndarray\n",
        "    \n",
        "    Array of normalized values representing pixel depths/intensities (i.e. the image we're to\n",
        "    blur) (required)\n",
        "    \n",
        "    dimension: tuple with ints as values \n",
        "    \n",
        "    Dimensions of the matrix with which to identify pixel coordinates when blurring the image\n",
        "    (default: (28, 28))\n",
        "    \n",
        "    Return\n",
        "    ------\n",
        "    \n",
        "    Blurred image.  The image is an array of pixel values, the same dimensions as those specified.\n",
        "    \n",
        "    \"\"\"\n",
        "\n",
        "    assert (type(image) == np.ndarray), \"image must be of type np.ndarray\"\n",
        "\n",
        "    assert (type(dimension) == tuple), \"dimension must be of type tuple\"\n",
        "    assert (type(dimension[0]) == int and type(dimension[1]) == int), \"dimension coordinates must be integers\"\n",
        "    assert (dimension[0] >= 0 and dimension[1] >= 0), \"dimension coordinates must be greater than 0\"\n",
        "\n",
        "    # Reshape the original image into a matrix with the specified dimensions\n",
        "    image = np.reshape(image, dimension)\n",
        "\n",
        "    # Create and initialize (with zeros) a matrix of the specified dimensions in which to create\n",
        "    # the blurred image\n",
        "    blurred_image = [[0.0 for i in range(dimension[0])] for j in range(dimension[1])]\n",
        "\n",
        "    # Walk the pixels in the reshaped original image\n",
        "    for i in range(dimension[0]):\n",
        "        for j in range(dimension[1]):\n",
        "\n",
        "            # Retrieve a list of tuples representing the coordinates of the pixels neighboring the\n",
        "            # current pixel.  Only valid coordinates (i.e. those within the image's dimensions)\n",
        "            # will be returned.\n",
        "            neighbors = get_valid_neighbor_coordinates((i, j))\n",
        "\n",
        "            # Sum the values of the neighboring pixels, then divide by the number of valid\n",
        "            # neighbors, thereby creating a weighted average value for the current pixel\n",
        "            sum_of_neighbors = 0.0\n",
        "            for neighbor in neighbors:\n",
        "                sum_of_neighbors += image[neighbor[0]][neighbor[1]]\n",
        "            blurred_image[i][j] = sum_of_neighbors / len(neighbors)\n",
        "\n",
        "    # Return the blurred image\n",
        "    return blurred_image"
      ],
      "execution_count": 0,
      "outputs": []
    },
    {
      "cell_type": "markdown",
      "metadata": {
        "id": "5LiARDxLF5vE",
        "colab_type": "text"
      },
      "source": [
        "### Blur Test\n",
        "\n",
        "The following are a sampling of MNIST images and their blurred counterparts to demonstrate that the blurring mechanism is working as expected:"
      ]
    },
    {
      "cell_type": "code",
      "metadata": {
        "id": "-Ez_R5RkGSpN",
        "colab_type": "code",
        "outputId": "c0c09749-814e-4157-e71b-ca1e7a3b5f31",
        "colab": {
          "base_uri": "https://localhost:8080/",
          "height": 228
        }
      },
      "source": [
        "BLURRED_IMAGE_COUNT = 5\n",
        "fix, ax = plt.subplots(2, BLURRED_IMAGE_COUNT)\n",
        "for i in range(BLURRED_IMAGE_COUNT):\n",
        "    ax[0][i].axis(\"off\")\n",
        "    ax[0][i].imshow(\n",
        "        np.reshape(dev_data[i], (28, 28)),\n",
        "        cmap = plt.get_cmap(\"Greys\")\n",
        "    )\n",
        "    ax[1][i].axis(\"off\")\n",
        "    ax[1][i].imshow(\n",
        "        blur(dev_data[i]),\n",
        "        cmap = plt.get_cmap(\"Greys\")\n",
        "    )\n",
        "plt.show()"
      ],
      "execution_count": 0,
      "outputs": [
        {
          "output_type": "display_data",
          "data": {
            "image/png": "[encoded data removed]",
            "text/plain": [
              "<Figure size 432x288 with 10 Axes>"
            ]
          },
          "metadata": {
            "tags": []
          }
        }
      ]
    },
    {
      "cell_type": "markdown",
      "metadata": {
        "id": "PGr8bdhu3Bdx",
        "colab_type": "text"
      },
      "source": [
        "### Blurring Test and Development Data\n",
        "\n",
        "Blur test and development image data for use when training and testing the KNearest Neighbor classifier.  Output images from within the blurred data to help understand that the blurring was successful."
      ]
    },
    {
      "cell_type": "code",
      "metadata": {
        "id": "O_NwHtOeNPnn",
        "colab_type": "code",
        "outputId": "47891ad8-9b2a-422b-defa-54347ccfe440",
        "colab": {
          "base_uri": "https://localhost:8080/",
          "height": 269
        }
      },
      "source": [
        "# Walk the development and training data, and create lists of blurred representations of\n",
        "# the associated images\n",
        "blurred_dev_data = list()\n",
        "blurred_train_data = list()\n",
        "\n",
        "for image in dev_data:\n",
        "    blurred_dev_data.append(blur(image))\n",
        "for image in train_data:\n",
        "    blurred_train_data.append(blur(image))\n",
        "\n",
        "# Render images to ensure that our blurring efforts worked\n",
        "TEST_IMAGE_INDEX = 51\n",
        "fix, ax = plt.subplots(2, 2)\n",
        "\n",
        "ax[0][0].axis(\"off\")\n",
        "ax[0][0].imshow(\n",
        "    np.reshape(dev_data[TEST_IMAGE_INDEX], (28, 28)),\n",
        "    cmap = plt.get_cmap(\"Greys\")\n",
        ")\n",
        "ax[1][0].axis(\"off\")\n",
        "ax[1][0].imshow(\n",
        "    blurred_dev_data[TEST_IMAGE_INDEX],\n",
        "    cmap = plt.get_cmap(\"Greys\")\n",
        ")\n",
        "ax[0][1].axis(\"off\")\n",
        "ax[0][1].imshow(\n",
        "    np.reshape(train_data[TEST_IMAGE_INDEX], (28, 28)),\n",
        "    cmap = plt.get_cmap(\"Greys\")\n",
        ")\n",
        "ax[1][1].axis(\"off\")\n",
        "ax[1][1].imshow(\n",
        "    blurred_train_data[TEST_IMAGE_INDEX],\n",
        "    cmap = plt.get_cmap(\"Greys\")\n",
        ")\n",
        "plt.show()"
      ],
      "execution_count": 0,
      "outputs": [
        {
          "output_type": "display_data",
          "data": {
            "image/png": "[encoded data removed]",
            "text/plain": [
              "<Figure size 432x288 with 4 Axes>"
            ]
          },
          "metadata": {
            "tags": []
          }
        }
      ]
    },
    {
      "cell_type": "code",
      "metadata": {
        "id": "Ht8rT1oMU2jj",
        "colab_type": "code",
        "colab": {}
      },
      "source": [
        "def demonstrate_blurred_immage_classifier_accuracy(train_data, test_data):\n",
        "    \n",
        "    classifier = KNeighborsClassifier(n_neighbors = 1)\n",
        "    classifier.fit(X = train_data, y = train_labels)\n",
        "    print \"Classifier accuracy:\", classifier.score(X = test_data, y = dev_labels)\n",
        "    print classification_report(dev_labels, classifier.predict(X = test_data))"
      ],
      "execution_count": 0,
      "outputs": []
    },
    {
      "cell_type": "markdown",
      "metadata": {
        "id": "nuD_M-BmXoxl",
        "colab_type": "text"
      },
      "source": [
        "### KNearest Neighbor classifier accuracy (k = 1): **Unprocessed**  training data, **unprocessed** test data\n",
        "\n",
        "The following classifier, while not required, is trained and tested as a benchmark or point of reference."
      ]
    },
    {
      "cell_type": "code",
      "metadata": {
        "id": "IBiIxbRUYAMg",
        "colab_type": "code",
        "outputId": "3ce696eb-5e92-4fcc-e60f-210798309a74",
        "colab": {
          "base_uri": "https://localhost:8080/",
          "height": 323
        }
      },
      "source": [
        "demonstrate_blurred_immage_classifier_accuracy(train_data, dev_data)"
      ],
      "execution_count": 0,
      "outputs": [
        {
          "output_type": "stream",
          "text": [
            "Classifier accuracy: 0.971\n",
            "              precision    recall  f1-score   support\n",
            "\n",
            "           0       0.97      0.99      0.98       106\n",
            "           1       0.97      0.99      0.98       118\n",
            "           2       0.97      0.96      0.97       106\n",
            "           3       0.96      0.95      0.95        97\n",
            "           4       0.98      1.00      0.99        92\n",
            "           5       0.97      0.94      0.95        88\n",
            "           6       0.97      0.98      0.98       102\n",
            "           7       0.97      0.99      0.98       102\n",
            "           8       0.96      0.90      0.93        94\n",
            "           9       0.99      0.99      0.99        95\n",
            "\n",
            "   micro avg       0.97      0.97      0.97      1000\n",
            "   macro avg       0.97      0.97      0.97      1000\n",
            "weighted avg       0.97      0.97      0.97      1000\n",
            "\n"
          ],
          "name": "stdout"
        }
      ]
    },
    {
      "cell_type": "markdown",
      "metadata": {
        "id": "xVvNfVK8TxFj",
        "colab_type": "text"
      },
      "source": [
        "### KNearest Neighbor classifier accuracy: **Blurred** training data, **unprocessed** test data\n",
        "\n"
      ]
    },
    {
      "cell_type": "code",
      "metadata": {
        "id": "7gDHL13vTzcM",
        "colab_type": "code",
        "outputId": "3a78a961-b039-4890-9d86-c14070bdf46d",
        "colab": {
          "base_uri": "https://localhost:8080/",
          "height": 323
        }
      },
      "source": [
        "flattened_blurred_train_data = np.empty(shape = (len(blurred_train_data), 784))\n",
        "for i in range(len(blurred_train_data)):\n",
        "    flattened_blurred_train_data[i:] = np.reshape(blurred_train_data[i], (1, 784))\n",
        "demonstrate_blurred_immage_classifier_accuracy(flattened_blurred_train_data, dev_data)"
      ],
      "execution_count": 0,
      "outputs": [
        {
          "output_type": "stream",
          "text": [
            "Classifier accuracy: 0.976\n",
            "              precision    recall  f1-score   support\n",
            "\n",
            "           0       0.98      0.99      0.99       106\n",
            "           1       0.98      0.99      0.99       118\n",
            "           2       0.97      0.96      0.97       106\n",
            "           3       0.95      0.98      0.96        97\n",
            "           4       0.98      1.00      0.99        92\n",
            "           5       0.99      0.93      0.96        88\n",
            "           6       0.98      0.99      0.99       102\n",
            "           7       0.98      0.98      0.98       102\n",
            "           8       0.96      0.94      0.95        94\n",
            "           9       0.99      0.99      0.99        95\n",
            "\n",
            "   micro avg       0.98      0.98      0.98      1000\n",
            "   macro avg       0.98      0.98      0.98      1000\n",
            "weighted avg       0.98      0.98      0.98      1000\n",
            "\n"
          ],
          "name": "stdout"
        }
      ]
    },
    {
      "cell_type": "markdown",
      "metadata": {
        "id": "Z5W-J5eMYVOs",
        "colab_type": "text"
      },
      "source": [
        "### KNearest Neighbor classifier accuracy: **Unprocessed** training data, **blurred**  test data"
      ]
    },
    {
      "cell_type": "code",
      "metadata": {
        "id": "0FppyJgmYWXK",
        "colab_type": "code",
        "outputId": "1a91a653-fb74-430f-c1e8-740a3d17d5c7",
        "colab": {
          "base_uri": "https://localhost:8080/",
          "height": 323
        }
      },
      "source": [
        "flattened_blurred_dev_data = np.empty(shape = (len(blurred_dev_data), 784))\n",
        "for i in range(len(blurred_dev_data)):\n",
        "    flattened_blurred_dev_data[i:] = np.reshape(blurred_dev_data[i], (1, 784))\n",
        "demonstrate_blurred_immage_classifier_accuracy(train_data, flattened_blurred_dev_data)"
      ],
      "execution_count": 0,
      "outputs": [
        {
          "output_type": "stream",
          "text": [
            "Classifier accuracy: 0.971\n",
            "              precision    recall  f1-score   support\n",
            "\n",
            "           0       0.99      0.99      0.99       106\n",
            "           1       0.95      0.99      0.97       118\n",
            "           2       0.98      0.96      0.97       106\n",
            "           3       0.97      0.96      0.96        97\n",
            "           4       0.95      1.00      0.97        92\n",
            "           5       0.97      0.95      0.96        88\n",
            "           6       0.97      0.96      0.97       102\n",
            "           7       0.97      0.99      0.98       102\n",
            "           8       0.98      0.93      0.95        94\n",
            "           9       0.99      0.97      0.98        95\n",
            "\n",
            "   micro avg       0.97      0.97      0.97      1000\n",
            "   macro avg       0.97      0.97      0.97      1000\n",
            "weighted avg       0.97      0.97      0.97      1000\n",
            "\n"
          ],
          "name": "stdout"
        }
      ]
    },
    {
      "cell_type": "markdown",
      "metadata": {
        "id": "wz5_15FRYXSC",
        "colab_type": "text"
      },
      "source": [
        "### KNearest Neighbor classifier accuracy: **Blurred** training data, **blurred** test data\n",
        "\n"
      ]
    },
    {
      "cell_type": "code",
      "metadata": {
        "id": "8dGC8QhjYYaj",
        "colab_type": "code",
        "outputId": "975062d4-3887-4e5d-8424-81d5f1c36d5f",
        "colab": {
          "base_uri": "https://localhost:8080/",
          "height": 323
        }
      },
      "source": [
        "demonstrate_blurred_immage_classifier_accuracy(flattened_blurred_train_data, flattened_blurred_dev_data)"
      ],
      "execution_count": 0,
      "outputs": [
        {
          "output_type": "stream",
          "text": [
            "Classifier accuracy: 0.977\n",
            "              precision    recall  f1-score   support\n",
            "\n",
            "           0       0.99      0.99      0.99       106\n",
            "           1       0.98      0.99      0.99       118\n",
            "           2       0.99      0.97      0.98       106\n",
            "           3       0.95      0.97      0.96        97\n",
            "           4       0.98      0.98      0.98        92\n",
            "           5       0.99      0.93      0.96        88\n",
            "           6       0.98      0.99      0.99       102\n",
            "           7       0.98      0.98      0.98       102\n",
            "           8       0.96      0.97      0.96        94\n",
            "           9       0.97      0.99      0.98        95\n",
            "\n",
            "   micro avg       0.98      0.98      0.98      1000\n",
            "   macro avg       0.98      0.98      0.98      1000\n",
            "weighted avg       0.98      0.98      0.98      1000\n",
            "\n"
          ],
          "name": "stdout"
        }
      ]
    },
    {
      "cell_type": "markdown",
      "metadata": {
        "id": "5d8F0JgvLkUF",
        "colab_type": "text"
      },
      "source": [
        "### Answer\n",
        "\n",
        "Considering both precision and recall, it appears that the classifiers trained on the blurred image data are slightly more accurate than those trained on the unprocessed image data."
      ]
    },
    {
      "cell_type": "markdown",
      "metadata": {
        "id": "W1z-ZaYoLkUF",
        "colab_type": "text"
      },
      "source": [
        "## Question 7\n",
        "\n",
        "(7) Fit a Naive Bayes classifier and report accuracy on the dev data. Remember that Naive Bayes estimates P(feature|label). While sklearn can handle real-valued features, let's start by mapping the pixel values to either 0 or 1. You can do this as a preprocessing step, or with the binarize argument. With binary-valued features, you can use BernoulliNB. Next try mapping the pixel values to 0, 1, or 2, representing white, grey, or black. This mapping requires MultinomialNB. Does the multi-class version improve the results? Why or why not?"
      ]
    },
    {
      "cell_type": "markdown",
      "metadata": {
        "id": "NhNLOU4nVr8d",
        "colab_type": "text"
      },
      "source": [
        "### Gaussian Naive Bayes - Unaltered Training Data"
      ]
    },
    {
      "cell_type": "code",
      "metadata": {
        "id": "1Wv1hlNyWOom",
        "colab_type": "code",
        "outputId": "a18b7594-4c46-4cc7-8024-af5cc4ac70d2",
        "colab": {
          "base_uri": "https://localhost:8080/",
          "height": 68
        }
      },
      "source": [
        "gnb_classifier = GaussianNB()\n",
        "gnb_classifier.fit(X = train_data, y = train_labels)\n",
        "gnb_predicted_labels = gnb_classifier.predict(dev_data)\n",
        "\n",
        "gnb_incorrect_count = 0.0\n",
        "for i in range(len(gnb_predicted_labels)):\n",
        "    if gnb_predicted_labels[i] != dev_labels[i]:\n",
        "        gnb_incorrect_count += 1.0\n",
        "        \n",
        "print \"Images tested:\", len(gnb_predicted_labels)\n",
        "print \"Images incorrectly predicted:\", int(gnb_incorrect_count)\n",
        "print \"Classifier accuracy:\", 1 - gnb_incorrect_count / len(gnb_predicted_labels)"
      ],
      "execution_count": 0,
      "outputs": [
        {
          "output_type": "stream",
          "text": [
            "Images tested: 1000\n",
            "Images incorrectly predicted: 414\n",
            "Classifier accuracy: 0.586\n"
          ],
          "name": "stdout"
        }
      ]
    },
    {
      "cell_type": "markdown",
      "metadata": {
        "id": "DyGHpLIoWR1O",
        "colab_type": "text"
      },
      "source": [
        "### Bernoulli Naive Bayes - Bisected Training Data (binarize Directive)"
      ]
    },
    {
      "cell_type": "code",
      "metadata": {
        "id": "xxErcQsdWSTP",
        "colab_type": "code",
        "outputId": "ecdc7c5d-53c6-4d0b-d29c-7b329bf722e9",
        "colab": {
          "base_uri": "https://localhost:8080/",
          "height": 68
        }
      },
      "source": [
        "classifier = BernoulliNB(binarize = 0.5)\n",
        "classifier.fit(X = train_data, y = train_labels)\n",
        "predicted_labels = classifier.predict(dev_data)\n",
        "\n",
        "incorrect_count = 0.0\n",
        "for i in range(len(predicted_labels)):\n",
        "    if predicted_labels[i] != dev_labels[i]:\n",
        "        incorrect_count += 1.0\n",
        "        \n",
        "print \"Images tested:\", len(predicted_labels)\n",
        "print \"Images incorrectly predicted:\", int(incorrect_count)\n",
        "print \"Classifier accuracy:\", 1 - incorrect_count / len(predicted_labels)"
      ],
      "execution_count": 0,
      "outputs": [
        {
          "output_type": "stream",
          "text": [
            "Images tested: 1000\n",
            "Images incorrectly predicted: 173\n",
            "Classifier accuracy: 0.827\n"
          ],
          "name": "stdout"
        }
      ]
    },
    {
      "cell_type": "markdown",
      "metadata": {
        "id": "IIEzlV8BWTXZ",
        "colab_type": "text"
      },
      "source": [
        "### Bernoulli Naive Bayes - Bisected Training Data (Mapped Function)"
      ]
    },
    {
      "cell_type": "code",
      "metadata": {
        "id": "SBzUHNt0WUJQ",
        "colab_type": "code",
        "outputId": "bd749593-5d83-42eb-e241-ffa6b916a1f1",
        "colab": {
          "base_uri": "https://localhost:8080/",
          "height": 357
        }
      },
      "source": [
        "BISECTION = 1.0 / 2.0\n",
        "\n",
        "def bisect(d):\n",
        "    return 0 if d < BISECTION else 1\n",
        "\n",
        "bisected_train_data = np.empty(shape = (len(train_data), 784))\n",
        "for i in range(len(train_data)):\n",
        "    bisected_train_data[i] = map(bisect, train_data[i])\n",
        "bisected_dev_data = np.empty(shape = (len(dev_data), 784))\n",
        "for i in range(len(dev_data)):\n",
        "    bisected_dev_data[i] = map(bisect, dev_data[i])\n",
        "    \n",
        "classifier = BernoulliNB()\n",
        "classifier.fit(X = bisected_train_data, y = train_labels)\n",
        "predicted_labels = classifier.predict(bisected_dev_data)\n",
        "\n",
        "incorrect_count = 0.0\n",
        "for i in range(len(predicted_labels)):\n",
        "    if predicted_labels[i] != dev_labels[i]:\n",
        "        incorrect_count += 1.0\n",
        "        \n",
        "print \"Images tested:\", len(predicted_labels)\n",
        "print \"Images incorrectly predicted:\", int(incorrect_count)\n",
        "print \"Classifier accuracy:\", 1 - incorrect_count / len(predicted_labels)\n",
        "\n",
        "print classification_report(dev_labels, classifier.predict(X = dev_data))\n"
      ],
      "execution_count": 0,
      "outputs": [
        {
          "output_type": "stream",
          "text": [
            "Images tested: 1000\n",
            "Images incorrectly predicted: 173\n",
            "Classifier accuracy: 0.827\n",
            "              precision    recall  f1-score   support\n",
            "\n",
            "           0       0.87      0.94      0.90       106\n",
            "           1       0.97      0.80      0.87       118\n",
            "           2       0.82      0.80      0.81       106\n",
            "           3       0.73      0.76      0.75        97\n",
            "           4       0.80      0.82      0.81        92\n",
            "           5       0.86      0.56      0.68        88\n",
            "           6       0.91      0.92      0.92       102\n",
            "           7       1.00      0.82      0.90       102\n",
            "           8       0.55      0.86      0.67        94\n",
            "           9       0.79      0.81      0.80        95\n",
            "\n",
            "   micro avg       0.81      0.81      0.81      1000\n",
            "   macro avg       0.83      0.81      0.81      1000\n",
            "weighted avg       0.83      0.81      0.82      1000\n",
            "\n"
          ],
          "name": "stdout"
        }
      ]
    },
    {
      "cell_type": "markdown",
      "metadata": {
        "id": "yFlvlTebWUoJ",
        "colab_type": "text"
      },
      "source": [
        "### Multinomial Naive Bayes - Trisected Training Data (Mapped Function)"
      ]
    },
    {
      "cell_type": "code",
      "metadata": {
        "id": "QKOiqa1oWVmK",
        "colab_type": "code",
        "outputId": "95466acf-d698-40a0-f49a-ac89438bf1d3",
        "colab": {
          "base_uri": "https://localhost:8080/",
          "height": 68
        }
      },
      "source": [
        "FIRST_TRISECTION = 1.0 / 3.0\n",
        "SECOND_TRISECTION = 2.0 / 3.0\n",
        "\n",
        "def trisect(d):\n",
        "    if (d <= FIRST_TRISECTION):\n",
        "        return 0\n",
        "    elif (d <= SECOND_TRISECTION):\n",
        "        return 1\n",
        "    return 2\n",
        "\n",
        "trisected_train_data = np.empty(shape = (len(train_data), 784))\n",
        "for i in range(len(train_data)):\n",
        "    trisected_train_data[i] = map(trisect, train_data[i])\n",
        "trisected_dev_data = np.empty(shape = (len(dev_data), 784))\n",
        "for i in range(len(dev_data)):\n",
        "    trisected_dev_data[i] = map(trisect, dev_data[i])\n",
        "    \n",
        "classifier = MultinomialNB()\n",
        "classifier.fit(X = trisected_train_data, y = train_labels)\n",
        "predicted_labels = classifier.predict(trisected_dev_data)\n",
        "\n",
        "incorrect_count = 0.0\n",
        "for i in range(len(predicted_labels)):\n",
        "    if predicted_labels[i] != dev_labels[i]:\n",
        "        incorrect_count += 1.0\n",
        "        \n",
        "print \"Images tested:\", len(predicted_labels)\n",
        "print \"Images incorrectly predicted:\", int(incorrect_count)\n",
        "print \"Classifier accuracy:\", 1 - incorrect_count / len(predicted_labels)"
      ],
      "execution_count": 0,
      "outputs": [
        {
          "output_type": "stream",
          "text": [
            "Images tested: 1000\n",
            "Images incorrectly predicted: 176\n",
            "Classifier accuracy: 0.824\n"
          ],
          "name": "stdout"
        }
      ]
    },
    {
      "cell_type": "markdown",
      "metadata": {
        "id": "qH_-xsd4LkUI",
        "colab_type": "text"
      },
      "source": [
        "### Answer\n",
        "\n",
        "The most accurate naive Bayes classifier trained on MNIST image data is the Bernoilli classifier, separating image density into binary values.  Of interest (but not surprisingly), specifying the `binarize` threshold when initializing the classifier performs identically as when training data is divided using a custom mapped function presumably processing the training and testing data in an identical manner.\n",
        "\n",
        "Separating image density into three values -- 0, 1, and 2 -- and using a multnomial Naive Bayes classifier to predict images resulted in slightly less accuracy.  I suspect that naive Bayes classifiers would gradually decline in accuracy with an increasing variance in image density (i.e. more shades of gray).  My suspicions are based upon the following observations:\n",
        "\n",
        "* Classifiers would be 100-percent accurate if there was no variance in image density (i.e. each image pixel was of the same value).\n",
        "* The best performing classifier(s) of those tested were the Bernoulli classifiers using binary image density data.\n",
        "* The worst performing classifier of those tested was the Gaussian classifier using the unaltered, normalized image data.\n",
        "\n"
      ]
    },
    {
      "cell_type": "markdown",
      "metadata": {
        "id": "tnLL2tC_LkUI",
        "colab_type": "text"
      },
      "source": [
        "## Question 8\n",
        "\n",
        "(8) Use GridSearchCV to perform a search over values of alpha (the Laplace smoothing parameter) in a Bernoulli NB model. What is the best value for alpha? What is the accuracy when alpha=0? Is this what you'd expect?\n",
        "\n",
        "- Note that GridSearchCV partitions the training data so the results will be a bit different than if you used the dev data for evaluation."
      ]
    },
    {
      "cell_type": "markdown",
      "metadata": {
        "id": "WafTWeh_5coc",
        "colab_type": "text"
      },
      "source": [
        "### Cross Validation of Bernoulli Naive Bayes Classifier"
      ]
    },
    {
      "cell_type": "code",
      "metadata": {
        "id": "slANjobgLkUJ",
        "colab_type": "code",
        "outputId": "d225da6e-2f73-4c19-e53e-2d4014903ac1",
        "colab": {
          "base_uri": "https://localhost:8080/",
          "height": 122
        }
      },
      "source": [
        "classifier = GridSearchCV(\n",
        "    BernoulliNB(binarize = 0.5),\n",
        "    param_grid = {'alpha': [0.0, 0.0001, 0.001, 0.01, 0.1, 0.5, 1.0, 2.0, 10.0]}\n",
        ")\n",
        "classifier.fit(X = train_data, y = train_labels)\n",
        "print \"Alpha (smoothing) value of best classifier:\", classifier.best_estimator_.alpha"
      ],
      "execution_count": 0,
      "outputs": [
        {
          "output_type": "stream",
          "text": [
            "/usr/local/lib/python2.7/dist-packages/sklearn/model_selection/_split.py:2053: FutureWarning: You should specify a value for 'cv' instead of relying on the default value. The default value will change from 3 to 5 in version 0.22.\n",
            "  warnings.warn(CV_WARNING, FutureWarning)\n",
            "/usr/local/lib/python2.7/dist-packages/sklearn/naive_bayes.py:480: UserWarning: alpha too small will result in numeric errors, setting alpha = 1.0e-10\n",
            "  'setting alpha = %.1e' % _ALPHA_MIN)\n"
          ],
          "name": "stderr"
        },
        {
          "output_type": "stream",
          "text": [
            "Alpha (smoothing) value of best classifier: 0.0\n"
          ],
          "name": "stdout"
        }
      ]
    },
    {
      "cell_type": "markdown",
      "metadata": {
        "id": "pFsqhRIc6tN-",
        "colab_type": "text"
      },
      "source": [
        "The best alpha value for the Bernoulli naive Bayes classifier trained on the MNIST training data is 0.0.\n",
        "\n",
        "The classifier's accuracy on the MNIST test data is as follows:"
      ]
    },
    {
      "cell_type": "code",
      "metadata": {
        "id": "xp-jbVd-LkUL",
        "colab_type": "code",
        "outputId": "bcee5f76-3cde-48b9-dd6a-65447d255233",
        "colab": {
          "base_uri": "https://localhost:8080/",
          "height": 306
        }
      },
      "source": [
        "print classification_report(test_labels, classifier.best_estimator_.predict(X = test_data))"
      ],
      "execution_count": 0,
      "outputs": [
        {
          "output_type": "stream",
          "text": [
            "              precision    recall  f1-score   support\n",
            "\n",
            "           0       0.92      0.90      0.91       862\n",
            "           1       0.87      0.94      0.91      1001\n",
            "           2       0.88      0.83      0.85       885\n",
            "           3       0.80      0.82      0.81       949\n",
            "           4       0.85      0.80      0.83       870\n",
            "           5       0.80      0.75      0.77       785\n",
            "           6       0.91      0.90      0.91       906\n",
            "           7       0.92      0.87      0.89       939\n",
            "           8       0.76      0.77      0.76       908\n",
            "           9       0.75      0.83      0.79       895\n",
            "\n",
            "   micro avg       0.84      0.84      0.84      9000\n",
            "   macro avg       0.85      0.84      0.84      9000\n",
            "weighted avg       0.85      0.84      0.84      9000\n",
            "\n"
          ],
          "name": "stdout"
        }
      ]
    },
    {
      "cell_type": "markdown",
      "metadata": {
        "id": "cY4gNiuNLkUO",
        "colab_type": "text"
      },
      "source": [
        "### Answer\n",
        "\n",
        "Yes, I would expect an *alpha* value of 0.0 to generate the most accurate Bernoulli naive Bayes classifier.  In Question 7, we noted that the most accurate naive Bayes classifiers when trained against the MNIST training data were those with images where numerals were represented using fewer shades of gray; of those whose accuracies were measured, the Bernoulli classifier performed the best, as images were represented using just two values, 0 and 1.\n",
        "\n",
        "Increasing a classifier's *alpha* parameter smooths that data.  Smoothing will alter the image data by introducing additional image densities (i.e. shades of gray).  Therefore, it is no surprise that a classifier with an *alpha* value of 0.0 (presumably no smoothing) would perform with the best accuracy."
      ]
    },
    {
      "cell_type": "markdown",
      "metadata": {
        "id": "PNCf7eEKLkUP",
        "colab_type": "text"
      },
      "source": [
        "## Question 9\n",
        "\n",
        "(9) Try training a model using GuassianNB, which is intended for real-valued features, and evaluate on the dev data. You'll notice that it doesn't work so well. Try to diagnose the problem. You should be able to find a simple fix that returns the accuracy to around the same rate as BernoulliNB. Explain your solution.\n",
        "\n",
        "Hint: examine the parameters estimated by the fit() method, theta\\_ and sigma\\_."
      ]
    },
    {
      "cell_type": "markdown",
      "metadata": {
        "id": "k8_pcbgH_gpc",
        "colab_type": "text"
      },
      "source": [
        "### Gaussian Naive Bayes Redux\n",
        "\n",
        "Leveraging the Gaussian naive Bayes classifier generated in Question 7 (see \"Gaussian Naive Bayes - Unaltered Training Data\"), we can again print its accuracy:"
      ]
    },
    {
      "cell_type": "code",
      "metadata": {
        "id": "7mvGktkrLkUP",
        "colab_type": "code",
        "outputId": "e6c7886c-fd5b-49f5-aba5-3579a262b884",
        "colab": {
          "base_uri": "https://localhost:8080/",
          "height": 357
        }
      },
      "source": [
        "print classification_report(gnb_predicted_labels, classifier.predict(X = dev_data))\n",
        "\n",
        "print \"Images tested:\", len(gnb_predicted_labels)\n",
        "print \"Images incorrectly predicted:\", int(gnb_incorrect_count)\n",
        "print \"Classifier accuracy:\", 1 - gnb_incorrect_count / len(gnb_predicted_labels)"
      ],
      "execution_count": 0,
      "outputs": [
        {
          "output_type": "stream",
          "text": [
            "              precision    recall  f1-score   support\n",
            "\n",
            "           0       0.96      0.84      0.90       123\n",
            "           1       0.82      0.96      0.88       131\n",
            "           2       0.28      0.78      0.41        27\n",
            "           3       0.38      0.71      0.49        51\n",
            "           4       0.30      0.96      0.45        28\n",
            "           5       0.19      0.86      0.32        14\n",
            "           6       0.93      0.69      0.79       154\n",
            "           7       0.44      0.89      0.59        45\n",
            "           8       0.74      0.32      0.45       208\n",
            "           9       0.97      0.53      0.68       219\n",
            "\n",
            "   micro avg       0.65      0.65      0.65      1000\n",
            "   macro avg       0.60      0.75      0.60      1000\n",
            "weighted avg       0.79      0.65      0.67      1000\n",
            "\n",
            "Images tested: 1000\n",
            "Images incorrectly predicted: 414\n",
            "Classifier accuracy: 0.586\n"
          ],
          "name": "stdout"
        }
      ]
    },
    {
      "cell_type": "markdown",
      "metadata": {
        "id": "6o94c7MHD9VD",
        "colab_type": "text"
      },
      "source": [
        "### Attempt to Increase Accuracy\n",
        "\n"
      ]
    },
    {
      "cell_type": "code",
      "metadata": {
        "id": "rtKo9KheGnFU",
        "colab_type": "code",
        "outputId": "3b57f898-cbe1-4fcf-ecaa-f511ce54dd76",
        "colab": {
          "base_uri": "https://localhost:8080/",
          "height": 357
        }
      },
      "source": [
        "BISECTION = 1.0 / 2.0\n",
        "\n",
        "def bisect(d):\n",
        "    return 0 if d < BISECTION else 1\n",
        "\n",
        "classifier = GaussianNB(var_smoothing = 0.2)\n",
        "classifier.fit(X = train_data, y = train_labels)\n",
        "predicted_labels = classifier.predict(X = dev_data)\n",
        "\n",
        "print classification_report(dev_labels, predicted_labels)\n",
        "\n",
        "incorrect_count = 0.0\n",
        "for i in range(len(predicted_labels)):\n",
        "    if predicted_labels[i] != dev_labels[i]:\n",
        "        incorrect_count += 1.0\n",
        "        \n",
        "print \"Images tested:\", len(predicted_labels)\n",
        "print \"Images incorrectly predicted:\", int(incorrect_count)\n",
        "print \"Classifier accuracy:\", 1 - incorrect_count / len(predicted_labels)"
      ],
      "execution_count": 0,
      "outputs": [
        {
          "output_type": "stream",
          "text": [
            "              precision    recall  f1-score   support\n",
            "\n",
            "           0       0.92      0.92      0.92       106\n",
            "           1       0.73      0.96      0.83       118\n",
            "           2       0.88      0.62      0.73       106\n",
            "           3       0.76      0.74      0.75        97\n",
            "           4       0.79      0.78      0.79        92\n",
            "           5       0.94      0.66      0.77        88\n",
            "           6       0.82      0.91      0.86       102\n",
            "           7       0.97      0.86      0.91       102\n",
            "           8       0.65      0.63      0.64        94\n",
            "           9       0.69      0.87      0.77        95\n",
            "\n",
            "   micro avg       0.80      0.80      0.80      1000\n",
            "   macro avg       0.81      0.80      0.80      1000\n",
            "weighted avg       0.81      0.80      0.80      1000\n",
            "\n",
            "Images tested: 1000\n",
            "Images incorrectly predicted: 198\n",
            "Classifier accuracy: 0.802\n"
          ],
          "name": "stdout"
        }
      ]
    },
    {
      "cell_type": "markdown",
      "metadata": {
        "id": "-JBR4VJ6LkUR",
        "colab_type": "text"
      },
      "source": [
        "### Answer\n",
        "\n",
        "Adjusting the Laplace smoothing variability upon initializing the Gaussian naive Bayes classifier helped achieve accuracy similar to that achieved with the Bernoulli naive Bayes classifier."
      ]
    },
    {
      "cell_type": "markdown",
      "metadata": {
        "id": "VPRMFt9lLkUS",
        "colab_type": "text"
      },
      "source": [
        "## Question 10\n",
        "\n",
        "(10) Because Naive Bayes is a generative model, we can use the trained model to generate digits. Train a BernoulliNB model and then generate a 10x20 grid with 20 examples of each digit. Because you're using a Bernoulli model, each pixel output will be either 0 or 1. How do the generated digits compare to the training digits?\n",
        "\n",
        "- You can use np.random.rand() to generate random numbers from a uniform distribution\n",
        "- The estimated probability of each pixel is stored in feature\\_log\\_prob\\_. You'll need to use np.exp() to convert a log probability back to a probability."
      ]
    },
    {
      "cell_type": "markdown",
      "metadata": {
        "id": "JBlnY4sPLShF",
        "colab_type": "text"
      },
      "source": [
        "### Rendering Binarized Training Data Images\n",
        "\n",
        "To facilitate a visual comparison between binarized training data and images generated according to probabilities calculated by the Bernoulli naive Bayes model, we'll retrieve and render a random sample of training data."
      ]
    },
    {
      "cell_type": "code",
      "metadata": {
        "id": "ToJgTdxsLkUS",
        "colab_type": "code",
        "colab": {}
      },
      "source": [
        "# Number of images to render per digit (as required by Question 10)\n",
        "IMAGES_PER_DIGIT = 20\n",
        "\n",
        "# Reset the seed for random number generation\n",
        "np.random.seed()\n",
        "\n",
        "# Manually binarize the training data images.  It's necessary to perform this operation manually\n",
        "# as opposed to leveraging the \"binarize\" parameter of the Bernoulli naive Bayes classifier's\n",
        "# constructor, as we'll leverage the binarized training data throughout these operations.\n",
        "BISECTION = 1.0 / 2.0\n",
        "bisected_train_data = np.empty(shape = (len(train_data), 784))\n",
        "for i in range(len(train_data)):\n",
        "    for j in range(784):\n",
        "        if train_data[i][j] < BISECTION: \n",
        "            bisected_train_data[i][j] = 0\n",
        "        else:\n",
        "            bisected_train_data[i][j] = 1\n",
        "\n",
        "# Build and fit the Bernoulli naive Bayes classifier with binarized image data\n",
        "classifier = BernoulliNB()\n",
        "classifier.fit(X = bisected_train_data, y = train_labels)\n",
        "\n",
        "# Convert the pixel value probabilities calculated when training the naive Bayes classifier into\n",
        "# probability values between 0 and 1 (from their logarithmic representation in the model)\n",
        "pixel_probabilities = np.empty((10, 784))\n",
        "for i in range(10):\n",
        "    np.exp(classifier.feature_log_prob_[i], pixel_probabilities[i])\n",
        "\n",
        "# Retrieve the indices of images in the training set data associated with each digit (i.e. find\n",
        "# the indices of 20 instances of each digit, 0 to 9)\n",
        "digit_indices = get_example_digit_indices(\n",
        "    digit_list = train_labels, \n",
        "    num_examples = IMAGES_PER_DIGIT\n",
        ")"
      ],
      "execution_count": 0,
      "outputs": []
    },
    {
      "cell_type": "markdown",
      "metadata": {
        "id": "rfWq-WN4S4JE",
        "colab_type": "text"
      },
      "source": [
        "Create a larger representation of each training digit to eyeball its binarized representation.  Follow this with a 10 x 20 matrix with random, binarized training data."
      ]
    },
    {
      "cell_type": "code",
      "metadata": {
        "id": "1d9vA_riTGBw",
        "colab_type": "code",
        "outputId": "39deb702-135e-4796-ac9c-cc3296b675b0",
        "colab": {
          "base_uri": "https://localhost:8080/",
          "height": 521
        }
      },
      "source": [
        "# 2 column x 5 row matrix\n",
        "fig, ax = plt.subplots(nrows = 2, ncols = 5)\n",
        "\n",
        "for row in range(2):\n",
        "    for col in range(5):\n",
        "        ax[row][col].axis(\"off\")\n",
        "        ax[row][col].imshow(\n",
        "            X = np.reshape(bisected_train_data[digit_indices[(row * 5) + col][0]], (28, 28)),\n",
        "            aspect = \"auto\",\n",
        "            cmap = plt.get_cmap(\"Greys\")\n",
        "        )\n",
        "plt.show()\n",
        "\n",
        "# 20 column x 10 row matrix\n",
        "fig, ax = plt.subplots(nrows = 10, ncols = IMAGES_PER_DIGIT)\n",
        "\n",
        "for digit_idx in range(10):\n",
        "    for sample_idx in range(IMAGES_PER_DIGIT):\n",
        "        ax[digit_idx][sample_idx].axis(\"off\")\n",
        "        ax[digit_idx][sample_idx].imshow(\n",
        "            X = np.reshape(bisected_train_data[digit_indices[digit_idx][sample_idx]], (28, 28)),\n",
        "            aspect = \"auto\",\n",
        "            cmap = plt.get_cmap(\"Greys\")\n",
        "        )\n",
        "plt.show()"
      ],
      "execution_count": 0,
      "outputs": [
        {
          "output_type": "display_data",
          "data": {
            "image/png": "[encoded data removed]",
            "text/plain": [
              "<Figure size 432x288 with 10 Axes>"
            ]
          },
          "metadata": {
            "tags": []
          }
        },
        {
          "output_type": "display_data",
          "data": {
            "image/png": "[encoded data removed]",
            "text/plain": [
              "<Figure size 432x288 with 200 Axes>"
            ]
          },
          "metadata": {
            "tags": []
          }
        }
      ]
    },
    {
      "cell_type": "markdown",
      "metadata": {
        "id": "hzyvnu8Dc_wV",
        "colab_type": "text"
      },
      "source": [
        "### Rendering Generated Images\n",
        "\n",
        "For visual comparison with the binarized training data, generate images using the model's predicted values, and render the matrices accordingly."
      ]
    },
    {
      "cell_type": "code",
      "metadata": {
        "id": "q1SBj2z8dVvi",
        "colab_type": "code",
        "outputId": "bd0cac27-532c-460b-9e14-1266ba16050d",
        "colab": {
          "base_uri": "https://localhost:8080/",
          "height": 521
        }
      },
      "source": [
        "generated_image = np.empty(784)\n",
        "\n",
        "# 2 column x 5 row matrix\n",
        "fig, ax = plt.subplots(nrows = 2, ncols = 5)\n",
        "\n",
        "for row in range(2):\n",
        "    for col in range(5):\n",
        "    \n",
        "        for i in range(784):\n",
        "            generated_image[i] = np.random.choice(\n",
        "                2, # 0 or 1\n",
        "                p = [\n",
        "                    1.0 - pixel_probabilities[(row * 5) + col][i], \n",
        "                    pixel_probabilities[(row * 5) + col][i]\n",
        "                ]\n",
        "            )\n",
        "\n",
        "        ax[row][col].axis(\"off\")\n",
        "        ax[row][col].imshow(\n",
        "            X = np.reshape(generated_image, (28, 28)),\n",
        "            aspect = \"auto\",\n",
        "            cmap = plt.get_cmap(\"Greys\")\n",
        "        )\n",
        "        \n",
        "plt.show()\n",
        "\n",
        "# 20 column x 10 row matrix\n",
        "fig, ax = plt.subplots(nrows = 10, ncols = IMAGES_PER_DIGIT)\n",
        "\n",
        "for digit_idx in range(10):\n",
        "    for sample_idx in range(IMAGES_PER_DIGIT):\n",
        "\n",
        "        for i in range(784):\n",
        "            generated_image[i] = np.random.choice(\n",
        "                2, # 0 or 1\n",
        "                p = [\n",
        "                    1.0 - pixel_probabilities[digit_idx][i], \n",
        "                    pixel_probabilities[digit_idx][i]\n",
        "                ]\n",
        "            )\n",
        "\n",
        "        ax[digit_idx][sample_idx].axis(\"off\")\n",
        "        ax[digit_idx][sample_idx].imshow(\n",
        "            X = np.reshape(generated_image, (28, 28)),\n",
        "            aspect = \"auto\",\n",
        "            cmap = plt.get_cmap(\"Greys\")\n",
        "        )\n",
        "\n",
        "plt.show()"
      ],
      "execution_count": 0,
      "outputs": [
        {
          "output_type": "display_data",
          "data": {
            "image/png": "[encoded data removed]",
            "text/plain": [
              "<Figure size 432x288 with 10 Axes>"
            ]
          },
          "metadata": {
            "tags": []
          }
        },
        {
          "output_type": "display_data",
          "data": {
            "image/png": "[encoded data removed]",
            "text/plain": [
              "<Figure size 432x288 with 200 Axes>"
            ]
          },
          "metadata": {
            "tags": []
          }
        }
      ]
    },
    {
      "cell_type": "markdown",
      "metadata": {
        "id": "ipiQxRdCLkUV",
        "colab_type": "text"
      },
      "source": [
        "### Answer\n",
        "\n",
        "Generated digits certainly respect the outer perimeters of each digit's shape; e.g. zeros look like zeros, digits have an appropriate (and anticipated) amount of whitespace surrounding them.\n",
        "\n",
        "However, generated digits differ from the training digits in that the are more visually sparse.  This is anticipated, as rendering a training digit will always be using pixel data *associated with that specific training digit*.  In contrast, a generated digit will be choosing pixel data *based upon the probability for the pixel value calculated from the entire training set*."
      ]
    },
    {
      "cell_type": "markdown",
      "metadata": {
        "id": "ZU2voLvILkUX",
        "colab_type": "text"
      },
      "source": [
        "## Question 11\n",
        "\n",
        "(11) Remember that a strongly calibrated classifier is rougly 90% accurate when the posterior probability of the predicted class is 0.9. A weakly calibrated classifier is more accurate when the posterior is 90% than when it is 80%. A poorly calibrated classifier has no positive correlation between posterior and accuracy.\n",
        "\n",
        "Train a BernoulliNB model with a reasonable alpha value. For each posterior bucket (think of a bin in a histogram), you want to estimate the classifier's accuracy. So for each prediction, find the bucket the maximum posterior belongs to and update the \"correct\" and \"total\" counters.\n",
        "\n",
        "How would you characterize the calibration for the Naive Bayes model?"
      ]
    },
    {
      "cell_type": "code",
      "metadata": {
        "id": "0dsdaxrYLkUX",
        "colab_type": "code",
        "outputId": "32426f52-0e80-41e0-863f-ba35b3cbbf68",
        "colab": {
          "base_uri": "https://localhost:8080/",
          "height": 221
        }
      },
      "source": [
        "def get_bucket_idx(buckets, p):\n",
        "    '''\n",
        "    Identify the index of the bucket in which to bin the predicted probability.\n",
        "    '''\n",
        "    \n",
        "    assert (type(buckets) == list), \"buckets must be a list\"\n",
        "    assert (len(buckets) > 0), \"buckets must contain at least one value\"\n",
        "    assert (type(p) == np.float64), \"p must be of type numpy.float64\"\n",
        "    \n",
        "    for i in range(len(buckets)):\n",
        "        if (p <= buckets[i]):\n",
        "            return i\n",
        "    return len(buckets) - 1\n",
        "\n",
        "def P11(buckets, correct, total):\n",
        "    \n",
        "    # Create and train the Bernoulli naive Bayes classifier.  Predict values using the test data,\n",
        "    # and identify the associated posterior probabilities\n",
        "    classifier = BernoulliNB(alpha = 0.0)\n",
        "    classifier.fit(X = train_data, y = train_labels)\n",
        "    predicted_values = classifier.predict(X = dev_data)\n",
        "    pp_matrix = classifier.predict_proba(X = dev_data)\n",
        "    \n",
        "    # Iterate through predicted test values, and accumulate the total number of data elements \n",
        "    # whose maximum predicted probabilities fall beneath the (cumulative) prediction buckets, as\n",
        "    # well as whether the classifier identified each data element correctly.\n",
        "    for i in range(dev_data.shape[0]):\n",
        "        \n",
        "        # Retrieve probabilities for the current digit in the test data\n",
        "        pp_array = pp_matrix[i]\n",
        "        pp_max_idx = np.argmax(pp_array)\n",
        "        bucket_idx = get_bucket_idx(buckets, pp_array[pp_max_idx])\n",
        "        \n",
        "        \n",
        "        for j in range(bucket_idx, len(buckets)):\n",
        "            total[j] += 1.0\n",
        "        \n",
        "        if (int(dev_labels[i]) == int(predicted_values[i])):\n",
        "            for j in range(bucket_idx, len(buckets)):\n",
        "                correct[j] += 1.0\n",
        "\n",
        "buckets = [0.5, 0.6, 0.7, 0.8, 0.9, 0.999, 0.99999, 0.9999999, 0.999999999, 0.99999999999, 0.9999999999999, 1.0]\n",
        "correct = [0 for i in buckets]\n",
        "total = [0 for i in buckets]\n",
        "\n",
        "P11(buckets, correct, total)\n",
        "\n",
        "for i in range(len(buckets)):\n",
        "    \n",
        "    accuracy = correct[i] / total[i] if total[i] > 0 else 0.0\n",
        "    print('p(pred) <= %.13f    total = %4d    correct = %3d    accuracy = %.3f' %(buckets[i], total[i], correct[i], accuracy))\n"
      ],
      "execution_count": 0,
      "outputs": [
        {
          "output_type": "stream",
          "text": [
            "p(pred) <= 0.5000000000000    total =    0    correct =   0    accuracy = 0.000\n",
            "p(pred) <= 0.6000000000000    total =    7    correct =   2    accuracy = 0.286\n",
            "p(pred) <= 0.7000000000000    total =   14    correct =   4    accuracy = 0.286\n",
            "p(pred) <= 0.8000000000000    total =   27    correct =   8    accuracy = 0.296\n",
            "p(pred) <= 0.9000000000000    total =   34    correct =  14    accuracy = 0.412\n",
            "p(pred) <= 0.9990000000000    total =   98    correct =  46    accuracy = 0.469\n",
            "p(pred) <= 0.9999900000000    total =  155    correct =  79    accuracy = 0.510\n",
            "p(pred) <= 0.9999999000000    total =  198    correct = 105    accuracy = 0.530\n",
            "p(pred) <= 0.9999999990000    total =  248    correct = 138    accuracy = 0.556\n",
            "p(pred) <= 0.9999999999900    total =  298    correct = 177    accuracy = 0.594\n",
            "p(pred) <= 0.9999999999999    total =  363    correct = 225    accuracy = 0.620\n",
            "p(pred) <= 1.0000000000000    total = 1000    correct = 830    accuracy = 0.830\n"
          ],
          "name": "stdout"
        }
      ]
    },
    {
      "cell_type": "markdown",
      "metadata": {
        "id": "x44WGcXfLkUa",
        "colab_type": "text"
      },
      "source": [
        "### Answer\n",
        "\n",
        "It appears that the naive Bayes classifier performs the worst when its predicted probability is the lowest.  For example,\n",
        "\n",
        "* When the predicted probability is less than or equal to 0.6, the observed accuracy among the test data is 0.286.\n",
        "* When the predicted probability is less than or equal to 1.0 (representing all of the tested data), the observed accuracy among the test data is 0.830.\n",
        "\n",
        "The classifier appears to be particularly confident, but its accuracy doesn't exhibit this confidence.  For example, the greatest number of predicted probabilities in the test data was observed between probability values of 0.9999999999999 and 1.0; 637 of the test images had predicted probabilities in this range.  Still, accuracy remained at 0.830 over the entire test data set."
      ]
    },
    {
      "cell_type": "markdown",
      "metadata": {
        "id": "NPCGFg_yLkUa",
        "colab_type": "text"
      },
      "source": [
        "## Question 12\n",
        "\n",
        "(12) EXTRA CREDIT\n",
        "\n",
        "Try designing extra features to see if you can improve the performance of Naive Bayes on the dev set. Here are a few ideas to get you started:\n",
        "- Try summing the pixel values in each row and each column.\n",
        "- Try counting the number of enclosed regions; 8 usually has 2 enclosed regions, 9 usually has 1, and 7 usually has 0.\n",
        "\n",
        "Make sure you comment your code well!"
      ]
    },
    {
      "cell_type": "code",
      "metadata": {
        "id": "xjEcU7SULkUb",
        "colab_type": "code",
        "colab": {}
      },
      "source": [
        "#def P12():\n",
        "\n",
        "### STUDENT START ###\n",
        "\n",
        "\n",
        "### STUDENT END ###\n",
        "\n",
        "#P12()"
      ],
      "execution_count": 0,
      "outputs": []
    }
  ]
}