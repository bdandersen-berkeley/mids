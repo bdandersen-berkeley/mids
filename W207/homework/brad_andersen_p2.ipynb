{
  "nbformat": 4,
  "nbformat_minor": 0,
  "metadata": {
    "colab": {
      "name": "brad_andersen_p2.ipynb",
      "version": "0.3.2",
      "provenance": [],
      "toc_visible": true,
      "include_colab_link": true
    },
    "kernelspec": {
      "name": "python3",
      "display_name": "Python 3"
    }
  },
  "cells": [
    {
      "cell_type": "markdown",
      "metadata": {
        "id": "view-in-github",
        "colab_type": "text"
      },
      "source": [
        "<a href=\"https://colab.research.google.com/github/bdandersen-berkeley/mids/blob/working/W207/homework/brad_andersen_p2.ipynb\" target=\"_parent\"><img src=\"https://colab.research.google.com/assets/colab-badge.svg\" alt=\"Open In Colab\"/></a>"
      ]
    },
    {
      "cell_type": "markdown",
      "metadata": {
        "id": "z4WrYlX4Mi1j",
        "colab_type": "text"
      },
      "source": [
        "# Project 2: Topic Classification\n",
        "\n",
        "### Brad Andersen\n",
        "### MIDS W207\n",
        "### July 8, 2019 "
      ]
    },
    {
      "cell_type": "markdown",
      "metadata": {
        "id": "knx6wpetMi1k",
        "colab_type": "text"
      },
      "source": [
        "In this project, you'll work with text data from newsgroup postings on a variety of topics. You'll train classifiers to distinguish between the topics based on the text of the posts. Whereas with digit classification, the input is relatively dense: a 28x28 matrix of pixels, many of which are non-zero, here we'll represent each document with a \"bag-of-words\" model. As you'll see, this makes the feature representation quite sparse -- only a few words of the total vocabulary are active in any given document. The bag-of-words assumption here is that the label depends only on the words; their order is not important.\n",
        "\n",
        "The SK-learn documentation on feature extraction will prove useful:\n",
        "http://scikit-learn.org/stable/modules/feature_extraction.html\n",
        "\n",
        "Each problem can be addressed succinctly with the included packages -- please don't add any more. Grading will be based on writing clean, commented code, along with a few short answers.\n",
        "\n",
        "As always, you're welcome to work on the project in groups and discuss ideas on the course wall, but please prepare your own write-up and write your own code."
      ]
    },
    {
      "cell_type": "code",
      "metadata": {
        "id": "TNIMozL_Mi1l",
        "colab_type": "code",
        "colab": {}
      },
      "source": [
        "# This tells matplotlib not to try opening a new window for each plot.\n",
        "%matplotlib inline\n",
        "\n",
        "# General libraries.\n",
        "import re\n",
        "import numpy as np\n",
        "import matplotlib.pyplot as plt\n",
        "\n",
        "# SK-learn libraries for learning.\n",
        "from sklearn.pipeline import Pipeline\n",
        "from sklearn.neighbors import KNeighborsClassifier\n",
        "from sklearn.linear_model import LogisticRegression\n",
        "from sklearn.naive_bayes import BernoulliNB\n",
        "from sklearn.naive_bayes import MultinomialNB\n",
        "from sklearn.model_selection import GridSearchCV\n",
        "\n",
        "# SK-learn libraries for evaluation.\n",
        "from sklearn.metrics import confusion_matrix\n",
        "from sklearn import metrics\n",
        "from sklearn.metrics import classification_report\n",
        "\n",
        "# SK-learn library for importing the newsgroup data.\n",
        "from sklearn.datasets import fetch_20newsgroups\n",
        "\n",
        "# SK-learn libraries for feature extraction from text.\n",
        "from sklearn.feature_extraction.text import *"
      ],
      "execution_count": 0,
      "outputs": []
    },
    {
      "cell_type": "markdown",
      "metadata": {
        "id": "NN9RZ1Q8Mi1n",
        "colab_type": "text"
      },
      "source": [
        "Load the data, stripping out metadata so that we learn classifiers that only use textual features. By default, newsgroups data is split into train and test sets. We further split the test so we have a dev set. Note that we specify 4 categories to use for this project. If you remove the categories argument from the fetch function, you'll get all 20 categories."
      ]
    },
    {
      "cell_type": "code",
      "metadata": {
        "id": "D3dJ1N2JMi1o",
        "colab_type": "code",
        "outputId": "235ad793-4aaa-4c49-89b3-0a15d1a3b217",
        "colab": {
          "base_uri": "https://localhost:8080/",
          "height": 119
        }
      },
      "source": [
        "categories = ['alt.atheism', 'talk.religion.misc', 'comp.graphics', 'sci.space']\n",
        "newsgroups_train = fetch_20newsgroups(subset='train',\n",
        "                                      remove=('headers', 'footers', 'quotes'),\n",
        "                                      categories=categories)\n",
        "newsgroups_test = fetch_20newsgroups(subset='test',\n",
        "                                     remove=('headers', 'footers', 'quotes'),\n",
        "                                     categories=categories)\n",
        "\n",
        "num_test = len(newsgroups_test.target)\n",
        "test_data, test_labels = newsgroups_test.data[int(num_test/2):], newsgroups_test.target[int(num_test/2):]\n",
        "dev_data, dev_labels = newsgroups_test.data[:int(num_test/2)], newsgroups_test.target[:int(num_test/2)]\n",
        "train_data, train_labels = newsgroups_train.data, newsgroups_train.target\n",
        "\n",
        "print('training label shape:', train_labels.shape)\n",
        "print('test label shape:', test_labels.shape)\n",
        "print('dev label shape:', dev_labels.shape)\n",
        "print('labels names:', newsgroups_train.target_names)"
      ],
      "execution_count": 3,
      "outputs": [
        {
          "output_type": "stream",
          "text": [
            "Downloading 20news dataset. This may take a few minutes.\n",
            "Downloading dataset from https://ndownloader.figshare.com/files/5975967 (14 MB)\n"
          ],
          "name": "stderr"
        },
        {
          "output_type": "stream",
          "text": [
            "training label shape: (2034,)\n",
            "test label shape: (677,)\n",
            "dev label shape: (676,)\n",
            "labels names: ['alt.atheism', 'comp.graphics', 'sci.space', 'talk.religion.misc']\n"
          ],
          "name": "stdout"
        }
      ]
    },
    {
      "cell_type": "markdown",
      "metadata": {
        "id": "LqBeCLHPMi1s",
        "colab_type": "text"
      },
      "source": [
        "## Question 1\n",
        "\n",
        "For each of the first 5 training examples, print the text of the message along with the label."
      ]
    },
    {
      "cell_type": "code",
      "metadata": {
        "id": "ZQuj_ukYMi1t",
        "colab_type": "code",
        "outputId": "d7a02e57-3016-4476-e4b5-4f9741d582c8",
        "colab": {
          "base_uri": "https://localhost:8080/",
          "height": 1000
        }
      },
      "source": [
        "def head_training_data(num_examples = 5):\n",
        "    '''\n",
        "    Prints the first specified number of newsgroup training data labels and text.\n",
        "\n",
        "    Arguments\n",
        "    ---------\n",
        "    num_examples: int\n",
        "    \n",
        "    Number of newsgroup training data labels and text to print (default: 5)\n",
        "    '''\n",
        "\n",
        "    assert isinstance(num_examples, int), \"num_examples must be of type int\"\n",
        "    assert num_examples >= 0, \"num_examples must be greater than or equal to 0\"\n",
        "\n",
        "    for i in range(num_examples):\n",
        "        print(\"+++++ newsgroups_train[\", i, \"]\", sep = \"\")\n",
        "        print(\"Label:\", newsgroups_train.target_names[train_labels[i]])\n",
        "        print(\"Text:\\n-----\\n\", train_data[i], \"\\n-----\\n\")\n",
        "\n",
        "# Print the first five newsgroup training data's labels and text\n",
        "head_training_data()"
      ],
      "execution_count": 4,
      "outputs": [
        {
          "output_type": "stream",
          "text": [
            "+++++ newsgroups_train[0]\n",
            "Label: comp.graphics\n",
            "Text:\n",
            "-----\n",
            " Hi,\n",
            "\n",
            "I've noticed that if you only save a model (with all your mapping planes\n",
            "positioned carefully) to a .3DS file that when you reload it after restarting\n",
            "3DS, they are given a default position and orientation.  But if you save\n",
            "to a .PRJ file their positions/orientation are preserved.  Does anyone\n",
            "know why this information is not stored in the .3DS file?  Nothing is\n",
            "explicitly said in the manual about saving texture rules in the .PRJ file. \n",
            "I'd like to be able to read the texture rule information, does anyone have \n",
            "the format for the .PRJ file?\n",
            "\n",
            "Is the .CEL file format available from somewhere?\n",
            "\n",
            "Rych \n",
            "-----\n",
            "\n",
            "+++++ newsgroups_train[1]\n",
            "Label: talk.religion.misc\n",
            "Text:\n",
            "-----\n",
            " \n",
            "\n",
            "Seems to be, barring evidence to the contrary, that Koresh was simply\n",
            "another deranged fanatic who thought it neccessary to take a whole bunch of\n",
            "folks with him, children and all, to satisfy his delusional mania. Jim\n",
            "Jones, circa 1993.\n",
            "\n",
            "\n",
            "Nope - fruitcakes like Koresh have been demonstrating such evil corruption\n",
            "for centuries. \n",
            "-----\n",
            "\n",
            "+++++ newsgroups_train[2]\n",
            "Label: sci.space\n",
            "Text:\n",
            "-----\n",
            " \n",
            " >In article <1993Apr19.020359.26996@sq.sq.com>, msb@sq.sq.com (Mark Brader) \n",
            "\n",
            "MB>                                                             So the\n",
            "MB> 1970 figure seems unlikely to actually be anything but a perijove.\n",
            "\n",
            "JG>Sorry, _perijoves_...I'm not used to talking this language.\n",
            "\n",
            "Couldn't we just say periapsis or apoapsis?\n",
            "\n",
            "  \n",
            "-----\n",
            "\n",
            "+++++ newsgroups_train[3]\n",
            "Label: alt.atheism\n",
            "Text:\n",
            "-----\n",
            " I have a request for those who would like to see Charley Wingate\n",
            "respond to the \"Charley Challenges\" (and judging from my e-mail, there\n",
            "appear to be quite a few of you.)  \n",
            "\n",
            "It is clear that Mr. Wingate intends to continue to post tangential or\n",
            "unrelated articles while ingoring the Challenges themselves.  Between\n",
            "the last two re-postings of the Challenges, I noted perhaps a dozen or\n",
            "more posts by Mr. Wingate, none of which answered a single Challenge.  \n",
            "\n",
            "It seems unmistakable to me that Mr. Wingate hopes that the questions\n",
            "will just go away, and he is doing his level best to change the\n",
            "subject.  Given that this seems a rather common net.theist tactic, I\n",
            "would like to suggest that we impress upon him our desire for answers,\n",
            "in the following manner:\n",
            "\n",
            "1. Ignore any future articles by Mr. Wingate that do not address the\n",
            "Challenges, until he answers them or explictly announces that he\n",
            "refuses to do so.\n",
            "\n",
            "--or--\n",
            "\n",
            "2. If you must respond to one of his articles, include within it\n",
            "something similar to the following:\n",
            "\n",
            "    \"Please answer the questions posed to you in the Charley Challenges.\"\n",
            "\n",
            "Really, I'm not looking to humiliate anyone here, I just want some\n",
            "honest answers.  You wouldn't think that honesty would be too much to\n",
            "ask from a devout Christian, would you?  \n",
            "\n",
            "Nevermind, that was a rhetorical question. \n",
            "-----\n",
            "\n",
            "+++++ newsgroups_train[4]\n",
            "Label: sci.space\n",
            "Text:\n",
            "-----\n",
            " AW&ST  had a brief blurb on a Manned Lunar Exploration confernce\n",
            "May 7th  at Crystal City Virginia, under the auspices of AIAA.\n",
            "\n",
            "Does anyone know more about this?  How much, to attend????\n",
            "\n",
            "Anyone want to go? \n",
            "-----\n",
            "\n"
          ],
          "name": "stdout"
        }
      ]
    },
    {
      "cell_type": "markdown",
      "metadata": {
        "id": "SvnoOywCb5aT",
        "colab_type": "text"
      },
      "source": [
        "## Question 2\n",
        "\n",
        " Use CountVectorizer to turn the raw training text into feature vectors. You should use the fit_transform function, which makes 2 passes through the data: first it computes the vocabulary (\"fit\"), second it converts the raw text into feature vectors using the vocabulary (\"transform\").\n",
        "\n",
        "The vectorizer has a lot of options. To get familiar with some of them, write code to answer these questions:"
      ]
    },
    {
      "cell_type": "markdown",
      "metadata": {
        "id": "dpieIoDRMi1v",
        "colab_type": "text"
      },
      "source": [
        "### Question 2a\n",
        "\n",
        "The output of the transform (also of fit_transform) is a sparse matrix: http://docs.scipy.org/doc/scipy-0.14.0/reference/generated/scipy.sparse.csr_matrix.html. What is the size of the vocabulary? What is the average number of non-zero features per example? What fraction of the entries in the matrix are non-zero? Hint: use \"nnz\" and \"shape\" attributes.\n"
      ]
    },
    {
      "cell_type": "code",
      "metadata": {
        "id": "zeG85plxMi1v",
        "colab_type": "code",
        "outputId": "69b5d45e-59a4-443f-dce5-4de23c65daa3",
        "colab": {
          "base_uri": "https://localhost:8080/",
          "height": 68
        }
      },
      "source": [
        "# Learn the training vocabulary and create the training term matrix\n",
        "q2a_vectorizer = CountVectorizer()\n",
        "q2a_term_matrix = q2a_vectorizer.fit_transform(train_data)\n",
        "\n",
        "# What is the size of the vocabulary?\n",
        "print(\"Vocabulary size:\", len(q2a_vectorizer.vocabulary_), \"words\")\n",
        "\n",
        "# What is the average number of non-zero features per example?\n",
        "average_nonzero_features = q2a_term_matrix.data.sum() / len(train_data)\n",
        "print(\"Average number of non-zero features per example: %.4f\" % average_nonzero_features, \"features\")\n",
        "\n",
        "# What fraction of the entries in the matrix are non-zero?\n",
        "fraction_nonzero_entries = \\\n",
        "    q2a_term_matrix.nnz / (q2a_term_matrix.shape[0] * q2a_term_matrix.shape[1])\n",
        "print(\"Fraction of entries in matrix that are non-zero: %.4f\" % fraction_nonzero_entries)"
      ],
      "execution_count": 5,
      "outputs": [
        {
          "output_type": "stream",
          "text": [
            "Vocabulary size: 26879 words\n",
            "Average number of non-zero features per example: 185.4336 features\n",
            "Fraction of entries in matrix that are non-zero: 0.0036\n"
          ],
          "name": "stdout"
        }
      ]
    },
    {
      "cell_type": "markdown",
      "metadata": {
        "id": "EihzYnC3iueo",
        "colab_type": "text"
      },
      "source": [
        "### Question 2b\n",
        "\n",
        "What are the 0th and last feature strings (in alphabetical order)? Hint: use the vectorizer's get_feature_names function."
      ]
    },
    {
      "cell_type": "code",
      "metadata": {
        "id": "a3GnQmFfjSSl",
        "colab_type": "code",
        "outputId": "56489993-ec63-49ba-911d-20f638d726b9",
        "colab": {
          "base_uri": "https://localhost:8080/",
          "height": 51
        }
      },
      "source": [
        "# What are the 0th and last feature strings (in alphabetical order)?\n",
        "assert len(q2a_vectorizer.vocabulary_) > 0, \"No features exist\"\n",
        "print(\"First feature string:\", q2a_vectorizer.get_feature_names()[0])\n",
        "print(\"Last feature string:\", q2a_vectorizer.get_feature_names()[len(q2a_vectorizer.vocabulary_) - 1])"
      ],
      "execution_count": 6,
      "outputs": [
        {
          "output_type": "stream",
          "text": [
            "First feature string: 00\n",
            "Last feature string: zyxel\n"
          ],
          "name": "stdout"
        }
      ]
    },
    {
      "cell_type": "markdown",
      "metadata": {
        "id": "_Gv0c74BivQX",
        "colab_type": "text"
      },
      "source": [
        "### Question 2c\n",
        "\n",
        "Specify your own vocabulary with 4 words: [\"atheism\", \"graphics\", \"space\", \"religion\"]. Confirm the training vectors are appropriately shaped. Now what's the average number of non-zero features per example?"
      ]
    },
    {
      "cell_type": "code",
      "metadata": {
        "id": "VAxHzq5TjS8n",
        "colab_type": "code",
        "outputId": "74e3d27e-f87d-4ffe-d06a-4e0b89cee5ad",
        "colab": {
          "base_uri": "https://localhost:8080/",
          "height": 34
        }
      },
      "source": [
        "# Specify the training vocabulary and create the training term matrix\n",
        "q2c_vocabulary = [\"atheism\", \"graphics\", \"space\", \"religion\"]\n",
        "q2c_vectorizer = CountVectorizer(vocabulary =  q2c_vocabulary)\n",
        "q2c_term_matrix = q2c_vectorizer.fit_transform(train_data)\n",
        "\n",
        "# Confirm the training vectors are appropriately shaped.  The training term matrix should have\n",
        "# a shape whose first element is the same size as that of the previous training term matrix\n",
        "# (q2a_term_matrix), and whose second element should be the length of the specified vocabulary\n",
        "# (q2c_vocabulary).\n",
        "assert q2c_term_matrix.shape[0] == q2a_term_matrix.shape[0], \"Number of raw documents should be of same size\"\n",
        "assert q2c_term_matrix.shape[1] == len(q2c_vocabulary), \"Training term matrix shape does not correspond to the vocabulary length\"\n",
        "\n",
        "# What fraction of the entries in the matrix are non-zero?\n",
        "fraction_nonzero_entries = \\\n",
        "    q2c_term_matrix.nnz / (q2c_term_matrix.shape[0] * q2c_term_matrix.shape[1])\n",
        "print(\"Fraction of entries in matrix that are non-zero: %.4f\" % fraction_nonzero_entries)"
      ],
      "execution_count": 7,
      "outputs": [
        {
          "output_type": "stream",
          "text": [
            "Fraction of entries in matrix that are non-zero: 0.0671\n"
          ],
          "name": "stdout"
        }
      ]
    },
    {
      "cell_type": "markdown",
      "metadata": {
        "id": "EyVDHyAiiwH4",
        "colab_type": "text"
      },
      "source": [
        "### Question 2d\n",
        "\n",
        "Instead of extracting unigram word features, use \"analyzer\" and \"ngram_range\" to extract bigram and trigram character features. What size vocabulary does this yield?"
      ]
    },
    {
      "cell_type": "code",
      "metadata": {
        "id": "Q__R95AIjTtY",
        "colab_type": "code",
        "outputId": "acf9f970-fbb1-48ec-a7c5-d53ebd69d77c",
        "colab": {
          "base_uri": "https://localhost:8080/",
          "height": 68
        }
      },
      "source": [
        "# Ensure that the behavior of the \"analyzer\" and \"ngram_range\" parameters passed to the \n",
        "# CountVectorizer are understood.  Parameter values of \"word\" and (1, 1), respectively, should\n",
        "# yield the same size vocabulary as that identified in Question 2a.\n",
        "q2d_vectorizer = CountVectorizer(analyzer = \"word\", ngram_range = (1, 1))\n",
        "q2d_term_matrix = q2d_vectorizer.fit_transform(train_data)\n",
        "assert len(q2a_vectorizer.vocabulary_) == len(q2d_vectorizer.vocabulary_), \"Lengths of q2a and q2d vectorizer vocabularies are not equal\"\n",
        "\n",
        "# Initialize CountVectorizers with character ngram min and max lengths of (2, 2), (3, 3) and \n",
        "# (2, 3), and identify the size of the resulting vocabularies once trained on the training data\n",
        "for t in [(2, 2), (3, 3), (2, 3)]:\n",
        "    q2d_vectorizer = CountVectorizer(analyzer = \"char\", ngram_range = t)\n",
        "    q2d_term_matrix = q2d_vectorizer.fit_transform(train_data)\n",
        "    print(\"ngram limits (min and max characters):\", t, \"- Vocabulary size:\", \\\n",
        "        len(q2d_vectorizer.vocabulary_), \"ngrams\")"
      ],
      "execution_count": 8,
      "outputs": [
        {
          "output_type": "stream",
          "text": [
            "ngram limits (min and max characters): (2, 2) - Vocabulary size: 3291 ngrams\n",
            "ngram limits (min and max characters): (3, 3) - Vocabulary size: 32187 ngrams\n",
            "ngram limits (min and max characters): (2, 3) - Vocabulary size: 35478 ngrams\n"
          ],
          "name": "stdout"
        }
      ]
    },
    {
      "cell_type": "markdown",
      "metadata": {
        "id": "tVz3pxgwiwn3",
        "colab_type": "text"
      },
      "source": [
        "### Question 2e\n",
        "\n",
        "Use the \"min_df\" argument to prune words that appear in fewer than 10 documents. What size vocabulary does this yield?"
      ]
    },
    {
      "cell_type": "code",
      "metadata": {
        "id": "nHdctGffjUUh",
        "colab_type": "code",
        "outputId": "6b9c9cce-4049-48e8-caff-3e948bc866ed",
        "colab": {
          "base_uri": "https://localhost:8080/",
          "height": 34
        }
      },
      "source": [
        "# Create and train a vectorizer to prune words that appear in fewer than 10 documents \n",
        "q2e_vectorizer = CountVectorizer(min_df = 10)\n",
        "q2e_term_matrix = q2e_vectorizer.fit_transform(train_data)\n",
        "\n",
        "# What size vocabulary does this yield?\n",
        "print(\"Minimum document frequency: 10 words - Vocabulary size:\", \\\n",
        "    len(q2e_vectorizer.vocabulary_), \"words\")"
      ],
      "execution_count": 9,
      "outputs": [
        {
          "output_type": "stream",
          "text": [
            "Minimum document frequency: 10 words - Vocabulary size: 3064 words\n"
          ],
          "name": "stdout"
        }
      ]
    },
    {
      "cell_type": "markdown",
      "metadata": {
        "id": "A8PlNChMixIA",
        "colab_type": "text"
      },
      "source": [
        "### Question 2f\n",
        "\n",
        "Using the standard CountVectorizer, what fraction of the words in the dev data are missing from the vocabulary? Hint: build a vocabulary for both train and dev and look at the size of the difference."
      ]
    },
    {
      "cell_type": "code",
      "metadata": {
        "id": "KcKYDbR4jVTw",
        "colab_type": "code",
        "outputId": "dd2cb24e-381f-4f43-fabc-3390360b41a0",
        "colab": {
          "base_uri": "https://localhost:8080/",
          "height": 34
        }
      },
      "source": [
        "# Create and train vectorizers on both training and dev data \n",
        "q2f_train_vectorizer = CountVectorizer()\n",
        "q2f_dev_vectorizer = CountVectorizer()\n",
        "q2f_train_term_matrix = q2f_train_vectorizer.fit_transform(train_data)\n",
        "q2f_dev_term_matrix = q2f_dev_vectorizer.fit_transform(dev_data)\n",
        "\n",
        "# Identify how many words in the dev vocabulary do not exist in the training vocabulary\n",
        "missing_from_train_data = 0\n",
        "for w in q2f_dev_vectorizer.vocabulary_:\n",
        "    if w not in q2f_train_vectorizer.vocabulary_:\n",
        "        missing_from_train_data += 1 \n",
        "    else: \n",
        "        pass\n",
        "\n",
        "fraction_missing_from_train_data = missing_from_train_data / len(q2f_dev_vectorizer.vocabulary_)\n",
        "print(\"Fraction of words in dev data missing from training vocabulary: %.4f\" % \\\n",
        "    fraction_missing_from_train_data)"
      ],
      "execution_count": 10,
      "outputs": [
        {
          "output_type": "stream",
          "text": [
            "Fraction of words in dev data missing from training vocabulary: 0.2479\n"
          ],
          "name": "stdout"
        }
      ]
    },
    {
      "cell_type": "markdown",
      "metadata": {
        "id": "9g8xnR_kMi1x",
        "colab_type": "text"
      },
      "source": [
        "## Question 3\n"
      ]
    },
    {
      "cell_type": "markdown",
      "metadata": {
        "id": "dx2_hc55YvL-",
        "colab_type": "text"
      },
      "source": [
        "### K Nearest Neighbor Classifier\n",
        "\n",
        "Use the default CountVectorizer options and report the f1 score (use metrics.f1_score) for a k nearest neighbors classifier; find the optimal value for k.\n",
        "\n"
      ]
    },
    {
      "cell_type": "code",
      "metadata": {
        "id": "YZtKDETRY-hF",
        "colab_type": "code",
        "outputId": "865fa9e5-e653-47f9-8c42-0ff31b03f2eb",
        "colab": {
          "base_uri": "https://localhost:8080/",
          "height": 238
        }
      },
      "source": [
        "# Create and train a vanilla (i.e. default) count vectorizer for training data.  Transform test\n",
        "# data to a sparse matrix using the same vectorizer.\n",
        "q3_vectorizer = CountVectorizer()\n",
        "q3_train_term_matrix = q3_vectorizer.fit_transform(train_data)\n",
        "q3_test_term_matrix = q3_vectorizer.transform(test_data)\n",
        "\n",
        "# Calculate the f1 score for a k nearest neighbors classifier, where k = 5\n",
        "q3_knn_classifier = KNeighborsClassifier()\n",
        "q3_knn_classifier.fit(X = q3_train_term_matrix, y = train_labels)\n",
        "\n",
        "predicted_labels = q3_knn_classifier.predict(X = q3_test_term_matrix)\n",
        "print(\"KNN classifier f1 score (neighbors = 5): %.4f\" % \\\n",
        "      metrics.f1_score(y_true = test_labels, y_pred = predicted_labels, average = \"micro\"))\n",
        "print(\"Classification report:\\n\", \\\n",
        "     metrics.classification_report(y_true = test_labels, y_pred = predicted_labels, target_names = categories))"
      ],
      "execution_count": 11,
      "outputs": [
        {
          "output_type": "stream",
          "text": [
            "KNN classifier f1 score (neighbors = 5): 0.3885\n",
            "Classification report:\n",
            "                     precision    recall  f1-score   support\n",
            "\n",
            "       alt.atheism       0.31      0.47      0.38       154\n",
            "talk.religion.misc       0.60      0.41      0.48       204\n",
            "     comp.graphics       0.50      0.38      0.43       195\n",
            "         sci.space       0.21      0.27      0.24       124\n",
            "\n",
            "          accuracy                           0.39       677\n",
            "         macro avg       0.41      0.38      0.38       677\n",
            "      weighted avg       0.43      0.39      0.40       677\n",
            "\n"
          ],
          "name": "stdout"
        }
      ]
    },
    {
      "cell_type": "markdown",
      "metadata": {
        "id": "D7wu9Sszf3BI",
        "colab_type": "text"
      },
      "source": [
        "Assuming that the \"optimal value\" refers to the KNN classifier's f1 score, computing f1 scores for classifiers with k (i.e. neighbors) values less than and greater than the `KNeighborsClassifier` default value of 5 helps identify where the optimal value is likely to lie.\n",
        "\n",
        "Additionally, values associated with the size of the test data are leveraged."
      ]
    },
    {
      "cell_type": "code",
      "metadata": {
        "id": "QmPFauedgtQj",
        "colab_type": "code",
        "outputId": "b55107c8-1437-4f42-957c-f9f20d20f12d",
        "colab": {
          "base_uri": "https://localhost:8080/",
          "height": 153
        }
      },
      "source": [
        "TEST_K_VALUES = [1, 4, 6, 10, 50, len(test_labels) // 3, len(test_labels) // 2, len(test_labels) - 1]\n",
        "\n",
        "for k in TEST_K_VALUES:\n",
        "  test_knn_classifier = KNeighborsClassifier(n_neighbors = k)\n",
        "  test_knn_classifier.fit(X = q3_train_term_matrix, y = train_labels)\n",
        "  predicted_labels = test_knn_classifier.predict(X = q3_test_term_matrix)\n",
        "  print(\"KNN classifier f1 score (neighbors = %3d): %.4f\" % \\\n",
        "      (k, metrics.f1_score(y_true = test_labels, y_pred = predicted_labels, average = \"micro\")))\n"
      ],
      "execution_count": 12,
      "outputs": [
        {
          "output_type": "stream",
          "text": [
            "KNN classifier f1 score (neighbors =   1): 0.4151\n",
            "KNN classifier f1 score (neighbors =   4): 0.3914\n",
            "KNN classifier f1 score (neighbors =   6): 0.3826\n",
            "KNN classifier f1 score (neighbors =  10): 0.4047\n",
            "KNN classifier f1 score (neighbors =  50): 0.4417\n",
            "KNN classifier f1 score (neighbors = 225): 0.4727\n",
            "KNN classifier f1 score (neighbors = 338): 0.4564\n",
            "KNN classifier f1 score (neighbors = 676): 0.4106\n"
          ],
          "name": "stdout"
        }
      ]
    },
    {
      "cell_type": "markdown",
      "metadata": {
        "id": "yrFmj8pjpOW9",
        "colab_type": "text"
      },
      "source": [
        "I attempted to create an algorithm that identified the optimal k value by ascending and descending toward a higher f1 score based upon the prior k value's calculations, but the fact that the f1 score is non-linear made the algorithm more complicated than it was worth.  A simple line chart might suffice."
      ]
    },
    {
      "cell_type": "code",
      "metadata": {
        "id": "gpvQHmfEp_3f",
        "colab_type": "code",
        "outputId": "bf4b9d2b-309b-40ac-8771-0a65d17ed1af",
        "colab": {
          "base_uri": "https://localhost:8080/",
          "height": 312
        }
      },
      "source": [
        "k_f1 = []\n",
        "rough_optimal_k = 5\n",
        "rough_maximum_f1 = 0.0\n",
        "\n",
        "for k in range(rough_optimal_k, len(test_labels) // 2, 5):\n",
        "  test_knn_classifier = KNeighborsClassifier(n_neighbors = k)\n",
        "  test_knn_classifier.fit(X = q3_train_term_matrix, y = train_labels)\n",
        "  predicted_labels = test_knn_classifier.predict(X = q3_test_term_matrix)\n",
        "  f1 = metrics.f1_score(y_true = test_labels, y_pred = predicted_labels, average = \"micro\")\n",
        "  \n",
        "  # Append the k-f1 tuple to the list, and check whether a maximum f1 value has been identified\n",
        "  k_f1.append((k, f1))\n",
        "  if f1 > rough_maximum_f1:\n",
        "    rough_maximum_f1 = f1\n",
        "    rough_optimal_k = k\n",
        "\n",
        "plt.plot([x[0] for x in k_f1], [y[1] for y in k_f1])\n",
        "plt.xlabel(\"k (neighbors)\")\n",
        "plt.ylabel(\"f1 score\")\n",
        "plt.title(\"f1 Scores for KNN Classifiers\")\n",
        "plt.ylim(0.3, 0.6)\n",
        "plt.grid(True)\n",
        "plt.show()\n",
        "\n",
        "print(\"Rough optimal k value: %3d, KNN classifier's f1 value: %.4f\" % (rough_optimal_k, rough_maximum_f1))"
      ],
      "execution_count": 13,
      "outputs": [
        {
          "output_type": "display_data",
          "data": {
            "image/png": "[encoded data removed]",
            "text/plain": [
              "<Figure size 432x288 with 1 Axes>"
            ]
          },
          "metadata": {
            "tags": []
          }
        },
        {
          "output_type": "stream",
          "text": [
            "Rough optimal k value: 175, KNN classifier's f1 value: 0.5022\n"
          ],
          "name": "stdout"
        }
      ]
    },
    {
      "cell_type": "markdown",
      "metadata": {
        "id": "HMZmdXfX9uQ-",
        "colab_type": "text"
      },
      "source": [
        "Having identified the maximum f1 metric and its corresponding k value, we'll attempt to find a more accurate number of nearest neighbors for the classifier by calculating f1 values using classifiers with k values in a range around the previous, rough optimal k."
      ]
    },
    {
      "cell_type": "code",
      "metadata": {
        "id": "Zf7hqei7BD84",
        "colab_type": "code",
        "outputId": "c457bada-a2dd-46b8-c1cb-30768856c6f2",
        "colab": {
          "base_uri": "https://localhost:8080/",
          "height": 34
        }
      },
      "source": [
        "optimal_k = rough_optimal_k\n",
        "maximum_f1 = 0.0\n",
        "\n",
        "# Iterate through a range of k values to either side of the previously-identified (i.e. rough)\n",
        "# optimal k\n",
        "for k in range(rough_optimal_k - 10, rough_optimal_k + 10):\n",
        "  test_knn_classifier = KNeighborsClassifier(n_neighbors = k)\n",
        "  test_knn_classifier.fit(X = q3_train_term_matrix, y = train_labels)\n",
        "  predicted_labels = test_knn_classifier.predict(X = q3_test_term_matrix)\n",
        "  f1 = metrics.f1_score(y_true = test_labels, y_pred = predicted_labels, average = \"micro\")\n",
        "  \n",
        "  # Check whether a maximum f1 value has been identified\n",
        "  if f1 > maximum_f1:\n",
        "    maximum_f1 = f1\n",
        "    optimal_k = k\n",
        "\n",
        "print(\"Optimal k value: %3d, KNN classifier's f1 value: %.4f\" % (optimal_k, maximum_f1))"
      ],
      "execution_count": 14,
      "outputs": [
        {
          "output_type": "stream",
          "text": [
            "Optimal k value: 176, KNN classifier's f1 value: 0.5081\n"
          ],
          "name": "stdout"
        }
      ]
    },
    {
      "cell_type": "markdown",
      "metadata": {
        "id": "iQBZ5JkUDfzg",
        "colab_type": "text"
      },
      "source": [
        "### Multinomial Naive Bayes\n",
        "Also fit a Multinomial Naive Bayes model and find the optimal value for alpha."
      ]
    },
    {
      "cell_type": "code",
      "metadata": {
        "id": "KPyslW0XDsxP",
        "colab_type": "code",
        "outputId": "83245421-a21e-4439-f289-4b2e6830270a",
        "colab": {
          "base_uri": "https://localhost:8080/",
          "height": 238
        }
      },
      "source": [
        "# Calculate the f1 score for a vanilla multinomial naive Bayes classifier, where alpha = 1.0\n",
        "q3_nb_classifier = MultinomialNB()\n",
        "q3_nb_classifier.fit(X = q3_train_term_matrix, y = train_labels)\n",
        "\n",
        "predicted_labels = q3_nb_classifier.predict(X = q3_test_term_matrix)\n",
        "print(\"Mulnomial naive Bayes classifier f1 score (alpha = 1.0): %.6f\" % \\\n",
        "      metrics.f1_score(y_true = test_labels, y_pred = predicted_labels, average = \"micro\"))\n",
        "print(\"Classification report:\\n\", \\\n",
        "     metrics.classification_report(y_true = test_labels, y_pred = predicted_labels, target_names = categories))"
      ],
      "execution_count": 15,
      "outputs": [
        {
          "output_type": "stream",
          "text": [
            "Mulnomial naive Bayes classifier f1 score (alpha = 1.0): 0.766617\n",
            "Classification report:\n",
            "                     precision    recall  f1-score   support\n",
            "\n",
            "       alt.atheism       0.58      0.79      0.67       154\n",
            "talk.religion.misc       0.91      0.87      0.89       204\n",
            "     comp.graphics       0.87      0.81      0.84       195\n",
            "         sci.space       0.69      0.51      0.59       124\n",
            "\n",
            "          accuracy                           0.77       677\n",
            "         macro avg       0.76      0.74      0.74       677\n",
            "      weighted avg       0.78      0.77      0.77       677\n",
            "\n"
          ],
          "name": "stdout"
        }
      ]
    },
    {
      "cell_type": "markdown",
      "metadata": {
        "id": "MqHu4pTaGwCb",
        "colab_type": "text"
      },
      "source": [
        "As performed with the KNN classifier (above), computing f1 scores for classifiers with alpha values less than and greater than the alpha default value of 1.0 helps identify where the optimal value is likely to lie."
      ]
    },
    {
      "cell_type": "code",
      "metadata": {
        "id": "dIUv3VYIG_QM",
        "colab_type": "code",
        "outputId": "8d49633f-bf44-42eb-c70f-30b68ae40c7d",
        "colab": {
          "base_uri": "https://localhost:8080/",
          "height": 187
        }
      },
      "source": [
        "TEST_ALPHA_VALUES = [0.01, 0.1, 0.5, 0.9, 0.99, 1.01, 1.1, 1.5, 1.9, 5]\n",
        "\n",
        "for a in TEST_ALPHA_VALUES:\n",
        "  test_nb_classifier = MultinomialNB(alpha = a)\n",
        "  test_nb_classifier.fit(X = q3_train_term_matrix, y = train_labels)\n",
        "  predicted_labels = test_nb_classifier.predict(X = q3_test_term_matrix)\n",
        "  print(\"Mulnomial naive Bayes classifier f1 score (alpha = %.4f): %.6f\" % \\\n",
        "      (a, metrics.f1_score(y_true = test_labels, y_pred = predicted_labels, average = \"micro\")))"
      ],
      "execution_count": 16,
      "outputs": [
        {
          "output_type": "stream",
          "text": [
            "Mulnomial naive Bayes classifier f1 score (alpha = 0.0100): 0.781388\n",
            "Mulnomial naive Bayes classifier f1 score (alpha = 0.1000): 0.776957\n",
            "Mulnomial naive Bayes classifier f1 score (alpha = 0.5000): 0.769572\n",
            "Mulnomial naive Bayes classifier f1 score (alpha = 0.9000): 0.763663\n",
            "Mulnomial naive Bayes classifier f1 score (alpha = 0.9900): 0.766617\n",
            "Mulnomial naive Bayes classifier f1 score (alpha = 1.0100): 0.766617\n",
            "Mulnomial naive Bayes classifier f1 score (alpha = 1.1000): 0.765140\n",
            "Mulnomial naive Bayes classifier f1 score (alpha = 1.5000): 0.765140\n",
            "Mulnomial naive Bayes classifier f1 score (alpha = 1.9000): 0.760709\n",
            "Mulnomial naive Bayes classifier f1 score (alpha = 5.0000): 0.732644\n"
          ],
          "name": "stdout"
        }
      ]
    },
    {
      "cell_type": "markdown",
      "metadata": {
        "id": "U2llp5OJIdW1",
        "colab_type": "text"
      },
      "source": [
        "In a manner simlar to above, a line chart for multnomial naive Bayes classifiers whose alpha values surround that for the maximum f1 value will likely prove helpful."
      ]
    },
    {
      "cell_type": "code",
      "metadata": {
        "id": "gTADmP3vI4P_",
        "colab_type": "code",
        "outputId": "02b89c4c-e61a-4eaf-cbb1-e47e1328e488",
        "colab": {
          "base_uri": "https://localhost:8080/",
          "height": 312
        }
      },
      "source": [
        "a_f1 = []\n",
        "rough_optimal_a = 0.01 - 0.009\n",
        "rough_maximum_f1 = 0.0\n",
        "\n",
        "a = rough_optimal_a\n",
        "while a <= 0.01 + 0.009:\n",
        "  test_nb_classifier = MultinomialNB(alpha = a)\n",
        "  test_nb_classifier.fit(X = q3_train_term_matrix, y = train_labels)\n",
        "  predicted_labels = test_nb_classifier.predict(X = q3_test_term_matrix)\n",
        "  f1 = metrics.f1_score(y_true = test_labels, y_pred = predicted_labels, average = \"micro\")\n",
        "  \n",
        "  # Append the alpha-f1 tuple to the list, and check whether a maximum f1 value has been identified\n",
        "  a_f1.append((a, f1))\n",
        "  if f1 > rough_maximum_f1:\n",
        "    rough_maximum_f1 = f1\n",
        "    rough_optimal_a = a\n",
        "    \n",
        "  a += 0.001\n",
        "\n",
        "plt.plot([x[0] for x in a_f1], [y[1] for y in a_f1])\n",
        "plt.xlabel(\"alpha\")\n",
        "plt.ylabel(\"f1 score\")\n",
        "plt.title(\"f1 Scores for Multinomial Naive Bayes Classifiers\")\n",
        "plt.ylim(0.77, 0.79)\n",
        "plt.grid(True)\n",
        "plt.show()\n",
        "\n",
        "print(\"Rough optimal alpha value: %.4f, multinomial naive Bayes classifier's f1 value: %.6f\" % (rough_optimal_a, rough_maximum_f1))"
      ],
      "execution_count": 17,
      "outputs": [
        {
          "output_type": "display_data",
          "data": {
            "image/png": "[encoded data removed]",
            "text/plain": [
              "<Figure size 432x288 with 1 Axes>"
            ]
          },
          "metadata": {
            "tags": []
          }
        },
        {
          "output_type": "stream",
          "text": [
            "Rough optimal alpha value: 0.0090, multinomial naive Bayes classifier's f1 value: 0.782866\n"
          ],
          "name": "stdout"
        }
      ]
    },
    {
      "cell_type": "markdown",
      "metadata": {
        "id": "CXjM8baZL_69",
        "colab_type": "text"
      },
      "source": [
        "Again, having identified the maximum f1 metric and its corresponding alpha value, we'll attempt to find a more accurate smoothing value for the classifier by calculating f1 values using classifiers with alpha values in a range around the previous, rough optimal alpha.\n",
        "\n",
        "---\n",
        "\n"
      ]
    },
    {
      "cell_type": "code",
      "metadata": {
        "id": "qOSLFzePMTCR",
        "colab_type": "code",
        "outputId": "a4f0c1c3-bf3b-442c-ca41-c65dcc04f038",
        "colab": {
          "base_uri": "https://localhost:8080/",
          "height": 34
        }
      },
      "source": [
        "optimal_a = rough_optimal_a\n",
        "maximum_f1 = 0.0\n",
        "\n",
        "# Iterate through a range of alpha values to either side of the previously-identified (i.e. rough)\n",
        "# optimal a\n",
        "a = rough_optimal_a - ((rough_optimal_a / 100) * 99)\n",
        "while a <= rough_optimal_a + ((rough_optimal_a / 100) * 99):\n",
        "  test_nb_classifier = MultinomialNB(alpha = a)\n",
        "  test_nb_classifier.fit(X = q3_train_term_matrix, y = train_labels)\n",
        "  predicted_labels = test_nb_classifier.predict(X = q3_test_term_matrix)\n",
        "  f1 = metrics.f1_score(y_true = test_labels, y_pred = predicted_labels, average = \"micro\")\n",
        "  \n",
        "  # Check whether a maximum f1 value has been identified\n",
        "  if f1 > maximum_f1:\n",
        "    maximum_f1 = f1\n",
        "    optimal_a = a\n",
        "    \n",
        "  a += rough_optimal_a / 100\n",
        "\n",
        "print(\"Optimal alpha value: %.4f, multinomial naive Bayes classifier's f1 value: %.6f\" % (optimal_a, maximum_f1))"
      ],
      "execution_count": 18,
      "outputs": [
        {
          "output_type": "stream",
          "text": [
            "Optimal alpha value: 0.0082, multinomial naive Bayes classifier's f1 value: 0.782866\n"
          ],
          "name": "stdout"
        }
      ]
    },
    {
      "cell_type": "markdown",
      "metadata": {
        "id": "DJXc3aOVOgY4",
        "colab_type": "text"
      },
      "source": [
        "### Logistic Regression\n",
        "Finally, fit a logistic regression model and find the optimal value for the regularization strength C using l2 regularization. "
      ]
    },
    {
      "cell_type": "code",
      "metadata": {
        "id": "rbZDbKSTeSi6",
        "colab_type": "code",
        "outputId": "121f3fbc-06ed-41d8-f020-1d680f09d4c7",
        "colab": {
          "base_uri": "https://localhost:8080/",
          "height": 238
        }
      },
      "source": [
        "# Calculate the f1 score for a vanilla logistic regression classifier, where C = 1.0.  Note that\n",
        "# defaults for parameters 'solver' and 'nulti-class' are changing in scikit-learn, so they must be\n",
        "# explicitly specified (using the current default values) to silence the warning messages.\n",
        "q3_lr_classifier = LogisticRegression(solver = \"liblinear\", multi_class = \"ovr\")\n",
        "q3_lr_classifier.fit(X = q3_train_term_matrix, y = train_labels)\n",
        "\n",
        "predicted_labels = q3_lr_classifier.predict(X = q3_test_term_matrix)\n",
        "print(\"Logistic regression classifier f1 score (C = 1.0): %.6f\" % \\\n",
        "      metrics.f1_score(y_true = test_labels, y_pred = predicted_labels, average = \"micro\"))\n",
        "print(\"Classification report:\\n\", \\\n",
        "     metrics.classification_report(y_true = test_labels, y_pred = predicted_labels, target_names = categories))"
      ],
      "execution_count": 19,
      "outputs": [
        {
          "output_type": "stream",
          "text": [
            "Logistic regression classifier f1 score (C = 1.0): 0.738552\n",
            "Classification report:\n",
            "                     precision    recall  f1-score   support\n",
            "\n",
            "       alt.atheism       0.64      0.60      0.62       154\n",
            "talk.religion.misc       0.82      0.89      0.85       204\n",
            "     comp.graphics       0.78      0.80      0.79       195\n",
            "         sci.space       0.64      0.56      0.59       124\n",
            "\n",
            "          accuracy                           0.74       677\n",
            "         macro avg       0.72      0.71      0.71       677\n",
            "      weighted avg       0.73      0.74      0.73       677\n",
            "\n"
          ],
          "name": "stdout"
        }
      ]
    },
    {
      "cell_type": "markdown",
      "metadata": {
        "id": "eqoqGZ0QhHGS",
        "colab_type": "text"
      },
      "source": [
        "As performed with the KNN classifier and multinomial naive Bayes classifier (above), computing f1 scores for classifiers with C (i.e. regularization) values less than and greater than the regularization default value of 1.0 helps identify where the optimal value is likely to lie."
      ]
    },
    {
      "cell_type": "code",
      "metadata": {
        "id": "ow830_85hdwL",
        "colab_type": "code",
        "outputId": "3353376d-2b7f-4c68-dba7-e3aa869e8cc6",
        "colab": {
          "base_uri": "https://localhost:8080/",
          "height": 221
        }
      },
      "source": [
        "TEST_C_VALUES = [0.01, 0.1, 0.4, 0.5, 0.6, 0.9, 0.99, 1.01, 1.1, 1.5, 1.9, 5]\n",
        "\n",
        "for c in TEST_C_VALUES:\n",
        "  test_lr_classifier = LogisticRegression(C = c, solver = \"liblinear\", multi_class = \"ovr\")\n",
        "  test_lr_classifier.fit(X = q3_train_term_matrix, y = train_labels)\n",
        "  predicted_labels = test_lr_classifier.predict(X = q3_test_term_matrix)\n",
        "  print(\"Logistic regression classifier f1 score (C = %.4f): %.6f\" % \\\n",
        "      (c, metrics.f1_score(y_true = test_labels, y_pred = predicted_labels, average = \"micro\")))"
      ],
      "execution_count": 20,
      "outputs": [
        {
          "output_type": "stream",
          "text": [
            "Logistic regression classifier f1 score (C = 0.0100): 0.706056\n",
            "Logistic regression classifier f1 score (C = 0.1000): 0.744461\n",
            "Logistic regression classifier f1 score (C = 0.4000): 0.753323\n",
            "Logistic regression classifier f1 score (C = 0.5000): 0.753323\n",
            "Logistic regression classifier f1 score (C = 0.6000): 0.744461\n",
            "Logistic regression classifier f1 score (C = 0.9000): 0.742984\n",
            "Logistic regression classifier f1 score (C = 0.9900): 0.738552\n",
            "Logistic regression classifier f1 score (C = 1.0100): 0.738552\n",
            "Logistic regression classifier f1 score (C = 1.1000): 0.738552\n",
            "Logistic regression classifier f1 score (C = 1.5000): 0.735598\n",
            "Logistic regression classifier f1 score (C = 1.9000): 0.732644\n",
            "Logistic regression classifier f1 score (C = 5.0000): 0.723781\n"
          ],
          "name": "stdout"
        }
      ]
    },
    {
      "cell_type": "markdown",
      "metadata": {
        "id": "Obz1T4iliLZZ",
        "colab_type": "text"
      },
      "source": [
        "In a manner simlar to above, a line chart for logistic regression classifiers whose C values surround that for the maximum f1 value will likely prove helpful."
      ]
    },
    {
      "cell_type": "code",
      "metadata": {
        "id": "nwHZE2cxiZ05",
        "colab_type": "code",
        "outputId": "c350231b-831c-43e7-cfb8-cbe9d45e262a",
        "colab": {
          "base_uri": "https://localhost:8080/",
          "height": 312
        }
      },
      "source": [
        "c_f1 = []\n",
        "rough_optimal_c = 0.5 - 0.085\n",
        "rough_maximum_f1 = 0.0\n",
        "\n",
        "c = rough_optimal_c\n",
        "while c <= 0.5 + 0.085:\n",
        "  test_lr_classifier = LogisticRegression(C = c, solver = \"liblinear\", multi_class = \"ovr\")\n",
        "  test_lr_classifier.fit(X = q3_train_term_matrix, y = train_labels)\n",
        "  predicted_labels = test_lr_classifier.predict(X = q3_test_term_matrix)\n",
        "  f1 = metrics.f1_score(y_true = test_labels, y_pred = predicted_labels, average = \"micro\")\n",
        "  \n",
        "  # Append the C-f1 tuple to the list, and check whether a maximum f1 value has been identified\n",
        "  c_f1.append((c, f1))\n",
        "  if f1 > rough_maximum_f1:\n",
        "    rough_maximum_f1 = f1\n",
        "    rough_optimal_c = c\n",
        "    \n",
        "  c += 0.005\n",
        "\n",
        "plt.plot([x[0] for x in c_f1], [y[1] for y in c_f1])\n",
        "plt.xlabel(\"C (inverse regularization strength)\")\n",
        "plt.ylabel(\"f1 score\")\n",
        "plt.title(\"f1 Scores for Logistic Regression Classifiers\")\n",
        "plt.ylim(0.753, 0.755)\n",
        "plt.grid(True)\n",
        "plt.show()\n",
        "\n",
        "print(\"Rough optimal C value: %.4f, logistic regression classifier's f1 value: %.6f\" % (rough_optimal_c, rough_maximum_f1))"
      ],
      "execution_count": 21,
      "outputs": [
        {
          "output_type": "display_data",
          "data": {
            "image/png": "[encoded data removed]",
            "text/plain": [
              "<Figure size 432x288 with 1 Axes>"
            ]
          },
          "metadata": {
            "tags": []
          }
        },
        {
          "output_type": "stream",
          "text": [
            "Rough optimal C value: 0.4150, logistic regression classifier's f1 value: 0.753323\n"
          ],
          "name": "stdout"
        }
      ]
    },
    {
      "cell_type": "markdown",
      "metadata": {
        "id": "vgM6b6a-lEUf",
        "colab_type": "text"
      },
      "source": [
        "Again, having identified the maximum f1 metric and its corresponding C value, we'll attempt to find a more accurate regularization value for the classifier by calculating f1 values using classifiers with C values in a range around the previous, rough optimal value.\n"
      ]
    },
    {
      "cell_type": "code",
      "metadata": {
        "id": "tBCyJgS5lFF9",
        "colab_type": "code",
        "outputId": "0a7eaf4e-6d8b-443f-e8e4-adb233e3fd36",
        "colab": {
          "base_uri": "https://localhost:8080/",
          "height": 34
        }
      },
      "source": [
        "optimal_c = rough_optimal_c\n",
        "maximum_f1 = 0.0\n",
        "\n",
        "# Iterate through a range of C values to either side of the previously-identified (i.e. rough)\n",
        "# optimal C\n",
        "c = rough_optimal_c - ((rough_optimal_c / 100) * 20)\n",
        "while c <= rough_optimal_c + ((rough_optimal_c / 100) * 20):\n",
        "  test_lr_classifier = LogisticRegression(C = c, solver = \"liblinear\", multi_class = \"ovr\")\n",
        "  test_lr_classifier.fit(X = q3_train_term_matrix, y = train_labels)\n",
        "  predicted_labels = test_lr_classifier.predict(X = q3_test_term_matrix)\n",
        "  f1 = metrics.f1_score(y_true = test_labels, y_pred = predicted_labels, average = \"micro\")\n",
        "  \n",
        "  # Check whether a maximum f1 value has been identified\n",
        "  if f1 > maximum_f1:\n",
        "    maximum_f1 = f1\n",
        "    optimal_c = c\n",
        "    \n",
        "  c += rough_optimal_c / 100\n",
        "\n",
        "print(\"Optimal C value: %.4f, logistic regression's f1 value: %.6f\" % (optimal_c, maximum_f1))"
      ],
      "execution_count": 22,
      "outputs": [
        {
          "output_type": "stream",
          "text": [
            "Optimal C value: 0.3859, logistic regression's f1 value: 0.753323\n"
          ],
          "name": "stdout"
        }
      ]
    },
    {
      "cell_type": "markdown",
      "metadata": {
        "id": "uYDj-0wTOpjY",
        "colab_type": "text"
      },
      "source": [
        "### Question 3a\n",
        "**Why doesn't nearest neighbors work well for this problem?**\n",
        "\n",
        "I suspect that the reason that the K nearest neighbors classifier doesn't work well is associated with the relatively large number of features (here, the vocabulary of 26,879 words).  A larger feature set will likely lead to a more sparse feature-count matrix, and distances calculated between neighbors will be less significant (i.e. less similar).\n",
        "\n",
        "An interesting exercise to test this assumption would be to replace each word in every newsgroup message with a randomly-selected word from a smaller vocabulary (for example, a list of 500 or 1,000 words).  The term matrices built from the K nearest neighbors classifier will be smaller, less sparse, and the differences between neighboring words more similar -- all resulting in higher f1 values."
      ]
    },
    {
      "cell_type": "markdown",
      "metadata": {
        "id": "A7cxZvnyOvCM",
        "colab_type": "text"
      },
      "source": [
        "### Question 3b\n",
        "**Any ideas why logistic regression doesn't work as well as Naive Bayes?**\n",
        "\n",
        "I suspect that the reason that the naive Bayes classifier performs better than the logistic regression classifier is due to the notion central to the former classifier's *naivete*: the naive Bayes classifier is based upon the assumption that all of the features are conditionally independent.  Logistic regression relies upon functions dependent upon feature probability.  In theory, logistic regression is supposed to outperform naive Bayes given increasingly larger training sets.\n"
      ]
    },
    {
      "cell_type": "markdown",
      "metadata": {
        "id": "Xj49Lm-ROtJB",
        "colab_type": "text"
      },
      "source": [
        "### Question 3c\n",
        "Logistic regression estimates a weight vector for each class, which you can access with the coef_ attribute. Output the sum of the squared weight values for each class for each setting of the C parameter. Briefly explain the relationship between the sum and the value of C."
      ]
    },
    {
      "cell_type": "code",
      "metadata": {
        "id": "CLLXLSdY5gpi",
        "colab_type": "code",
        "outputId": "bf6f0071-3204-4d0f-87eb-0669bced3fd2",
        "colab": {
          "base_uri": "https://localhost:8080/",
          "height": 1000
        }
      },
      "source": [
        "for c in TEST_C_VALUES:\n",
        "  \n",
        "  test_lr_classifier = LogisticRegression(C = c, solver = \"liblinear\", multi_class = \"ovr\")\n",
        "  test_lr_classifier.fit(X = q3_train_term_matrix, y = train_labels)\n",
        "\n",
        "  print(\"\\nC value: %.4f\" % c)\n",
        "  print(\"Sum of squared weight values\")\n",
        "  for class_idx in test_lr_classifier.classes_:\n",
        "    \n",
        "    ss = 0.0\n",
        "    for weight in test_lr_classifier.coef_[class_idx]:\n",
        "      ss += weight * weight\n",
        "    print(\"  Class %d (%s): %.6f\" % (class_idx, newsgroups_train.target_names[class_idx], ss))"
      ],
      "execution_count": 23,
      "outputs": [
        {
          "output_type": "stream",
          "text": [
            "\n",
            "C value: 0.0100\n",
            "Sum of squared weight values\n",
            "  Class 0 (alt.atheism): 2.541531\n",
            "  Class 1 (comp.graphics): 2.939709\n",
            "  Class 2 (sci.space): 2.862469\n",
            "  Class 3 (talk.religion.misc): 2.250029\n",
            "\n",
            "C value: 0.1000\n",
            "Sum of squared weight values\n",
            "  Class 0 (alt.atheism): 27.132068\n",
            "  Class 1 (comp.graphics): 24.663104\n",
            "  Class 2 (sci.space): 27.458464\n",
            "  Class 3 (talk.religion.misc): 23.024893\n",
            "\n",
            "C value: 0.4000\n",
            "Sum of squared weight values\n",
            "  Class 0 (alt.atheism): 86.724273\n",
            "  Class 1 (comp.graphics): 71.149286\n",
            "  Class 2 (sci.space): 84.274795\n",
            "  Class 3 (talk.religion.misc): 75.019528\n",
            "\n",
            "C value: 0.5000\n",
            "Sum of squared weight values\n",
            "  Class 0 (alt.atheism): 102.602677\n",
            "  Class 1 (comp.graphics): 83.120671\n",
            "  Class 2 (sci.space): 99.060343\n",
            "  Class 3 (talk.religion.misc): 88.999640\n",
            "\n",
            "C value: 0.6000\n",
            "Sum of squared weight values\n",
            "  Class 0 (alt.atheism): 117.235869\n",
            "  Class 1 (comp.graphics): 94.046391\n",
            "  Class 2 (sci.space): 112.579099\n",
            "  Class 3 (talk.religion.misc): 101.870222\n",
            "\n",
            "C value: 0.9000\n",
            "Sum of squared weight values\n",
            "  Class 0 (alt.atheism): 155.614445\n",
            "  Class 1 (comp.graphics): 122.509282\n",
            "  Class 2 (sci.space): 147.588375\n",
            "  Class 3 (talk.religion.misc): 135.634329\n",
            "\n",
            "C value: 0.9900\n",
            "Sum of squared weight values\n",
            "  Class 0 (alt.atheism): 165.911635\n",
            "  Class 1 (comp.graphics): 130.086710\n",
            "  Class 2 (sci.space): 156.992642\n",
            "  Class 3 (talk.religion.misc): 144.728391\n",
            "\n",
            "C value: 1.0100\n",
            "Sum of squared weight values\n",
            "  Class 0 (alt.atheism): 168.020568\n",
            "  Class 1 (comp.graphics): 131.737621\n",
            "  Class 2 (sci.space): 158.978896\n",
            "  Class 3 (talk.religion.misc): 146.714436\n",
            "\n",
            "C value: 1.1000\n",
            "Sum of squared weight values\n",
            "  Class 0 (alt.atheism): 177.745966\n",
            "  Class 1 (comp.graphics): 138.887129\n",
            "  Class 2 (sci.space): 167.732114\n",
            "  Class 3 (talk.religion.misc): 155.343628\n",
            "\n",
            "C value: 1.5000\n",
            "Sum of squared weight values\n",
            "  Class 0 (alt.atheism): 216.606907\n",
            "  Class 1 (comp.graphics): 167.509028\n",
            "  Class 2 (sci.space): 202.821522\n",
            "  Class 3 (talk.religion.misc): 189.813448\n",
            "\n",
            "C value: 1.9000\n",
            "Sum of squared weight values\n",
            "  Class 0 (alt.atheism): 249.861025\n",
            "  Class 1 (comp.graphics): 192.172917\n",
            "  Class 2 (sci.space): 232.962135\n",
            "  Class 3 (talk.religion.misc): 219.637466\n",
            "\n",
            "C value: 5.0000\n",
            "Sum of squared weight values\n",
            "  Class 0 (alt.atheism): 423.075319\n",
            "  Class 1 (comp.graphics): 322.741258\n",
            "  Class 2 (sci.space): 389.937101\n",
            "  Class 3 (talk.religion.misc): 377.900503\n"
          ],
          "name": "stdout"
        }
      ]
    },
    {
      "cell_type": "markdown",
      "metadata": {
        "id": "uyOCSrwAHVVN",
        "colab_type": "text"
      },
      "source": [
        "According to the scikit-learn documentation, the `C` parameter in the `LogisticRegression` classifier's constructor represents the \"inverse of regularization strength\".  Regularization represents a penalty applied to values in order to reduce overfitting, or the learning of the classifier to more accurately fit the training data, reducing the classifier's ability to generalize.\n",
        "\n",
        "Larger regularization values are associated with smaller penalties; because `C` represents the *inverse* of the regularization strength, larger `C` values are associated with greater penalties.\n",
        "\n"
      ]
    },
    {
      "cell_type": "markdown",
      "metadata": {
        "id": "eUxjopZDMi11",
        "colab_type": "text"
      },
      "source": [
        "## Question 4\n",
        "\n",
        "Train a logistic regression model. Find the 5 features with the largest weights for each label -- 20 features in total. Create a table with 20 rows and 4 columns that shows the weight for each of these features for each of the labels. Create the table again with bigram features. Any surprising features in this table?"
      ]
    },
    {
      "cell_type": "code",
      "metadata": {
        "id": "bA3_SpjJMi12",
        "colab_type": "code",
        "outputId": "48848826-d65d-4cad-c3b1-e8c97f1f95e3",
        "colab": {
          "base_uri": "https://localhost:8080/",
          "height": 549
        }
      },
      "source": [
        "LARGEST_WEIGHTS_COUNT = 5\n",
        "\n",
        "def plot_largest_weights(vectorizer):\n",
        "    '''\n",
        "    '''\n",
        "    q4_train_term_matrix = vectorizer.fit_transform(train_data)\n",
        "\n",
        "    q4_lr_classifier = LogisticRegression(solver = \"liblinear\", multi_class = \"ovr\")\n",
        "    q4_lr_classifier.fit(X = q4_train_term_matrix, y = train_labels)\n",
        "\n",
        "    label_index_tuples = [()] * (len(q4_lr_classifier.classes_) * LARGEST_WEIGHTS_COUNT)\n",
        "    for class_idx in q4_lr_classifier.classes_:\n",
        "  \n",
        "        assert len(vectorizer.vocabulary_) >= LARGEST_WEIGHTS_COUNT, \"Classifier has an insufficient number of labels\"\n",
        "        sorted_weights = sorted(q4_lr_classifier.coef_[class_idx], reverse = True)\n",
        "        assert len(set(sorted_weights[0:LARGEST_WEIGHTS_COUNT])) == LARGEST_WEIGHTS_COUNT, \"Largest weights assigned to features are not unique\"\n",
        "  \n",
        "        label_indicies = []\n",
        "        for i in range(LARGEST_WEIGHTS_COUNT):\n",
        "            label_indicies.append(list(q4_lr_classifier.coef_[class_idx]).index(sorted_weights[i]))\n",
        "\n",
        "        labels = [None] * LARGEST_WEIGHTS_COUNT\n",
        "        for label in vectorizer.vocabulary_.keys():\n",
        "            if vectorizer.vocabulary_[label] in label_indicies:\n",
        "                offset = label_indicies.index(vectorizer.vocabulary_[label])\n",
        "                offset_idx = offset + (class_idx * LARGEST_WEIGHTS_COUNT)\n",
        "\n",
        "                label_index_tuples[offset_idx] = (label, vectorizer.vocabulary_[label])\n",
        "\n",
        "    label_data = []\n",
        "    for label_index_tuple in label_index_tuples:\n",
        "        label_weights_by_class = []\n",
        "        for class_idx in range(len(q4_lr_classifier.classes_)):\n",
        "            label_weights_by_class.append(str(q4_lr_classifier.coef_[class_idx][label_index_tuple[1]]))\n",
        "        label_data.append(label_weights_by_class)\n",
        "\n",
        "    columns = newsgroups_train.target_names\n",
        "    rows = []\n",
        "    for row in label_index_tuples:\n",
        "        rows.append(row[0])\n",
        "\n",
        "    plt.table(cellText = label_data, colLabels = columns, rowLabels = rows, loc = \"center\")\n",
        "    plt.axis(\"off\")\n",
        "    plt.show()\n",
        "\n",
        "plot_largest_weights(CountVectorizer())\n",
        "plot_largest_weights(CountVectorizer(analyzer = \"word\", ngram_range = (2, 2)))"
      ],
      "execution_count": 24,
      "outputs": [
        {
          "output_type": "display_data",
          "data": {
            "image/png": "[encoded data removed]",
            "text/plain": [
              "<Figure size 432x288 with 1 Axes>"
            ]
          },
          "metadata": {
            "tags": []
          }
        },
        {
          "output_type": "display_data",
          "data": {
            "image/png": "[encoded data removed]",
            "text/plain": [
              "<Figure size 432x288 with 1 Axes>"
            ]
          },
          "metadata": {
            "tags": []
          }
        }
      ]
    },
    {
      "cell_type": "markdown",
      "metadata": {
        "id": "XPSBSm6-Mi16",
        "colab_type": "text"
      },
      "source": [
        "ANSWER:"
      ]
    },
    {
      "cell_type": "markdown",
      "metadata": {
        "id": "JjrjrEN-Mi17",
        "colab_type": "text"
      },
      "source": [
        "## Question 5\n",
        "\n",
        "Try to improve the logistic regression classifier by passing a custom preprocessor to CountVectorizer. The preprocessing function runs on the raw text, before it is split into words by the tokenizer. Your preprocessor should try to normalize the input in various ways to improve generalization. For example, try lowercasing everything, replacing sequences of numbers with a single token, removing various other non-letter characters, and shortening long words. If you're not already familiar with regular expressions for manipulating strings, see https://docs.python.org/2/library/re.html, and re.sub() in particular. With your new preprocessor, how much did you reduce the size of the dictionary?\n",
        "\n",
        "For reference, I was able to improve dev F1 by 2 points."
      ]
    },
    {
      "cell_type": "code",
      "metadata": {
        "id": "Xd83BR65Mi18",
        "colab_type": "code",
        "colab": {
          "base_uri": "https://localhost:8080/",
          "height": 272
        },
        "outputId": "e1591250-1c1f-411f-8d33-62721cc0874e"
      },
      "source": [
        "def empty_preprocessor(s):\n",
        "    return s\n",
        "\n",
        "def better_preprocessor(s):\n",
        "    return re.sub(r\"\\W(\\w{1,3})\\W\", \" \", \\\n",
        "      re.sub(r\"\\W(\\w{13,})\\W\", \" \", \\\n",
        "        re.sub(r\"\\d+\", \" \", \\\n",
        "          re.sub(r\"\\W(a|able|about|across|after|all|almost|also|am|among|an|and|any|are|as|at|be|because|been|but|by|can|cannot|could|dear|did|do|does|either|else|ever|every|for|from|get|got|had|has|have|he|her|hers|him|his|how|however|i|if|in|into|is|it|its|just|least|let|like|likely|may|me|might|most|must|my|neither|no|nor|not|of|off|often|on|only|or|other|our|own|rather|said|say|says|she|should|since|so|some|than|that|the|their|them|then|there|these|they|this|tis|to|too|twas|us|wants|was|we|were|what|when|where|which|while|who|whom|why|will|with|would|yet|you|your)\\W\", \" \", \\\n",
        "            re.sub(r\"[\\.\\'\\-_\\?]\", \"\", s.lower())\n",
        "          )\n",
        "        )\n",
        "      )\n",
        "    )\n",
        "\n",
        "def test_custom_preprocessor(pp = None):\n",
        "    \n",
        "    # Create and train a vectorizer using a custom preprocessor, if specified\n",
        "    vectorizer = CountVectorizer() if pp is None else CountVectorizer(preprocessor = pp)\n",
        "    train_term_matrix = vectorizer.fit_transform(train_data)\n",
        "    test_term_matrix = vectorizer.transform(test_data)\n",
        "    \n",
        "    # Calculate the f1 score for a vanilla logistic regression classifier, where C = 1.0.  Note that\n",
        "    # defaults for parameters 'solver' and 'nulti-class' are changing in scikit-learn, so they must be\n",
        "    # explicitly specified (using the current default values) to silence the warning messages.\n",
        "    lr_classifier = LogisticRegression(solver = \"liblinear\", multi_class = \"ovr\")\n",
        "    lr_classifier.fit(X = train_term_matrix, y = train_labels)\n",
        "    \n",
        "    # Leverage the classifier to predict test data\n",
        "    predicted_labels = lr_classifier.predict(X = test_term_matrix)\n",
        "    \n",
        "    # Print results\n",
        "    pp_name = \"<default>\" if pp is None else pp.__name__\n",
        "    print(\"CountVectorizer preprocessor: %s\" % pp_name)\n",
        "    print(\"  Vocabulary length: %d\" % len(vectorizer.vocabulary_))\n",
        "    print(\"  Logistic regression classifier f1 score: %.6f\\n\" % \\\n",
        "      metrics.f1_score(y_true = test_labels, y_pred = predicted_labels, average = \"micro\"))\n",
        "    \n",
        "    return len(vectorizer.vocabulary_)\n",
        "\n",
        "vlen_default = test_custom_preprocessor()\n",
        "vlen_empty = test_custom_preprocessor(pp = empty_preprocessor)\n",
        "vlen_better = test_custom_preprocessor(pp = better_preprocessor)\n",
        "\n",
        "print(\"better_preprocessor - Differences in vocabulary lengths:\")\n",
        "print(\"  Default preprocessor: %d\" % (vlen_default - vlen_better))\n",
        "print(\"  empty_preprocessor: %d\" % (vlen_empty - vlen_better))\n"
      ],
      "execution_count": 30,
      "outputs": [
        {
          "output_type": "stream",
          "text": [
            "CountVectorizer preprocessor: <default>\n",
            "  Vocabulary length: 26879\n",
            "  Logistic regression classifier f1 score: 0.738552\n",
            "\n",
            "CountVectorizer preprocessor: empty_preprocessor\n",
            "  Vocabulary length: 33291\n",
            "  Logistic regression classifier f1 score: 0.711965\n",
            "\n",
            "CountVectorizer preprocessor: better_preprocessor\n",
            "  Vocabulary length: 23414\n",
            "  Logistic regression classifier f1 score: 0.762186\n",
            "\n",
            "better_preprocessor - Differences in vocabulary lengths:\n",
            "  Default preprocessor: 3465\n",
            "  empty_preprocessor: 9877\n"
          ],
          "name": "stdout"
        }
      ]
    },
    {
      "cell_type": "markdown",
      "metadata": {
        "id": "dSqdz3e0p4ad",
        "colab_type": "text"
      },
      "source": [
        "I experimented with the preprocessor enough to appreciate what is communicated in warnings typically associated with applying stop words: developing an effective preprocessor is likely a context-sensitive activity.  I took blind liberties with `better_preprocessor()` in an attempt to increase  the classifier's f1 score and decrease the vocabulary size (e.g. eliminating words of three or less characters).\n",
        "\n",
        "The order of regular expressions applied in the preprocessor was also obviously paramount to the classifier's performance.  There were some strange anomalies in the vocabulary when the preprocessor was complete -- some words were present that I thought would have been filtered by the regular expressions, but I didn't take the time to investigate further.\n",
        "\n",
        "Essentially, what I settled upon after experimenting was a preprocessor that:\n",
        "* Changed all characters to lower case\n",
        "* Removed a handful of punctuation characters\n",
        "* Filtered words gleaned from an English stop words list\n",
        "* Replaced instances of one or more digits with a space\n",
        "* Removed words longer than 13 characters in length\n",
        "* Removed words between 1 and 3 characters in length"
      ]
    },
    {
      "cell_type": "markdown",
      "metadata": {
        "id": "TbwWNF3SMi1-",
        "colab_type": "text"
      },
      "source": [
        "## Question 6\n",
        "\n",
        "The idea of regularization is to avoid learning very large weights (which are likely to fit the training data, but not generalize well) by adding a penalty to the total size of the learned weights. That is, logistic regression seeks the set of weights that minimizes errors in the training data AND has a small size. The default regularization, L2, computes this size as the sum of the squared weights (see P3, above). L1 regularization computes this size as the sum of the absolute values of the weights. The result is that whereas L2 regularization makes all the weights relatively small, L1 regularization drives lots of the weights to 0, effectively removing unimportant features.\n",
        "\n",
        "Train a logistic regression model using a \"l1\" penalty. Output the number of learned weights that are not equal to zero. How does this compare to the number of non-zero weights you get with \"l2\"? Now, reduce the size of the vocabulary by keeping only those features that have at least one non-zero weight and retrain a model using \"l2\".\n",
        "\n",
        "Make a plot showing accuracy of the re-trained model vs. the vocabulary size you get when pruning unused features by adjusting the C parameter.\n",
        "\n",
        "Note: The gradient descent code that trains the logistic regression model sometimes has trouble converging with extreme settings of the C parameter. Relax the convergence criteria by setting tol=.01 (the default is .0001)."
      ]
    },
    {
      "cell_type": "code",
      "metadata": {
        "id": "ZVo9cdmbMi1_",
        "colab_type": "code",
        "colab": {}
      },
      "source": [
        "#def P6():\n",
        "    # Keep this random seed here to make comparison easier.\n",
        "    #np.random.seed(0)\n",
        "\n",
        "    ### STUDENT START ###\n",
        "    \n",
        "    ### STUDENT END ###\n",
        "#P6()"
      ],
      "execution_count": 0,
      "outputs": []
    },
    {
      "cell_type": "markdown",
      "metadata": {
        "id": "SxkspPlKMi2B",
        "colab_type": "text"
      },
      "source": [
        "## Question 7\n",
        "\n",
        "Use the TfidfVectorizer -- how is this different from the CountVectorizer? Train a logistic regression model with C=100.\n",
        "\n",
        "Make predictions on the dev data and show the top 3 documents where the ratio R is largest, where R is:\n",
        "\n",
        "maximum predicted probability / predicted probability of the correct label\n",
        "\n",
        "What kinds of mistakes is the model making? Suggest a way to address one particular issue that you see."
      ]
    },
    {
      "cell_type": "code",
      "metadata": {
        "id": "nhuUEokjMi2C",
        "colab_type": "code",
        "colab": {}
      },
      "source": [
        "#def P7():\n",
        "### STUDENT START ###\n",
        "\n",
        "## STUDENT END ###\n",
        "#P7()"
      ],
      "execution_count": 0,
      "outputs": []
    },
    {
      "cell_type": "markdown",
      "metadata": {
        "id": "Ez5zyHwbMi2E",
        "colab_type": "text"
      },
      "source": [
        "ANSWER:"
      ]
    },
    {
      "cell_type": "markdown",
      "metadata": {
        "id": "7NIU727eMi2E",
        "colab_type": "text"
      },
      "source": [
        "## Question 8 - Extra Credit\n",
        "\n",
        "Try implementing one of your ideas based on your error analysis. Use logistic regression as your underlying model."
      ]
    },
    {
      "cell_type": "code",
      "metadata": {
        "id": "SGyrMIYmMi2F",
        "colab_type": "code",
        "colab": {}
      },
      "source": [
        ""
      ],
      "execution_count": 0,
      "outputs": []
    }
  ]
}