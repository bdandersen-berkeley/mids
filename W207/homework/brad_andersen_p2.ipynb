{
  "nbformat": 4,
  "nbformat_minor": 0,
  "metadata": {
    "colab": {
      "name": "brad_andersen_p2.ipynb",
      "version": "0.3.2",
      "provenance": [],
      "toc_visible": true,
      "include_colab_link": true
    },
    "kernelspec": {
      "name": "python3",
      "display_name": "Python 3"
    }
  },
  "cells": [
    {
      "cell_type": "markdown",
      "metadata": {
        "id": "view-in-github",
        "colab_type": "text"
      },
      "source": [
        "<a href=\"https://colab.research.google.com/github/bdandersen-berkeley/mids/blob/working/W207/homework/brad_andersen_p2.ipynb\" target=\"_parent\"><img src=\"https://colab.research.google.com/assets/colab-badge.svg\" alt=\"Open In Colab\"/></a>"
      ]
    },
    {
      "cell_type": "markdown",
      "metadata": {
        "id": "z4WrYlX4Mi1j",
        "colab_type": "text"
      },
      "source": [
        "# Project 2: Topic Classification\n",
        "\n",
        "### Brad Andersen\n",
        "### MIDS W207\n",
        "### July 8, 2019 "
      ]
    },
    {
      "cell_type": "markdown",
      "metadata": {
        "id": "knx6wpetMi1k",
        "colab_type": "text"
      },
      "source": [
        "In this project, you'll work with text data from newsgroup postings on a variety of topics. You'll train classifiers to distinguish between the topics based on the text of the posts. Whereas with digit classification, the input is relatively dense: a 28x28 matrix of pixels, many of which are non-zero, here we'll represent each document with a \"bag-of-words\" model. As you'll see, this makes the feature representation quite sparse -- only a few words of the total vocabulary are active in any given document. The bag-of-words assumption here is that the label depends only on the words; their order is not important.\n",
        "\n",
        "The SK-learn documentation on feature extraction will prove useful:\n",
        "http://scikit-learn.org/stable/modules/feature_extraction.html\n",
        "\n",
        "Each problem can be addressed succinctly with the included packages -- please don't add any more. Grading will be based on writing clean, commented code, along with a few short answers.\n",
        "\n",
        "As always, you're welcome to work on the project in groups and discuss ideas on the course wall, but please prepare your own write-up and write your own code."
      ]
    },
    {
      "cell_type": "code",
      "metadata": {
        "id": "TNIMozL_Mi1l",
        "colab_type": "code",
        "colab": {}
      },
      "source": [
        "# This tells matplotlib not to try opening a new window for each plot.\n",
        "%matplotlib inline\n",
        "\n",
        "# General libraries.\n",
        "import re\n",
        "import numpy as np\n",
        "import matplotlib.pyplot as plt\n",
        "\n",
        "# SK-learn libraries for learning.\n",
        "from sklearn.pipeline import Pipeline\n",
        "from sklearn.neighbors import KNeighborsClassifier\n",
        "from sklearn.linear_model import LogisticRegression\n",
        "from sklearn.naive_bayes import BernoulliNB\n",
        "from sklearn.naive_bayes import MultinomialNB\n",
        "from sklearn.model_selection import GridSearchCV\n",
        "\n",
        "# SK-learn libraries for evaluation.\n",
        "from sklearn.metrics import confusion_matrix\n",
        "from sklearn import metrics\n",
        "from sklearn.metrics import classification_report\n",
        "\n",
        "# SK-learn library for importing the newsgroup data.\n",
        "from sklearn.datasets import fetch_20newsgroups\n",
        "\n",
        "# SK-learn libraries for feature extraction from text.\n",
        "from sklearn.feature_extraction.text import *"
      ],
      "execution_count": 0,
      "outputs": []
    },
    {
      "cell_type": "markdown",
      "metadata": {
        "id": "NN9RZ1Q8Mi1n",
        "colab_type": "text"
      },
      "source": [
        "Load the data, stripping out metadata so that we learn classifiers that only use textual features. By default, newsgroups data is split into train and test sets. We further split the test so we have a dev set. Note that we specify 4 categories to use for this project. If you remove the categories argument from the fetch function, you'll get all 20 categories."
      ]
    },
    {
      "cell_type": "code",
      "metadata": {
        "id": "D3dJ1N2JMi1o",
        "colab_type": "code",
        "outputId": "808b52c4-bca9-49c1-91a7-a7c570eeeb3b",
        "colab": {
          "base_uri": "https://localhost:8080/",
          "height": 119
        }
      },
      "source": [
        "categories = ['alt.atheism', 'talk.religion.misc', 'comp.graphics', 'sci.space']\n",
        "newsgroups_train = fetch_20newsgroups(subset='train',\n",
        "                                      remove=('headers', 'footers', 'quotes'),\n",
        "                                      categories=categories)\n",
        "newsgroups_test = fetch_20newsgroups(subset='test',\n",
        "                                     remove=('headers', 'footers', 'quotes'),\n",
        "                                     categories=categories)\n",
        "\n",
        "num_test = len(newsgroups_test.target)\n",
        "test_data, test_labels = newsgroups_test.data[int(num_test/2):], newsgroups_test.target[int(num_test/2):]\n",
        "dev_data, dev_labels = newsgroups_test.data[:int(num_test/2)], newsgroups_test.target[:int(num_test/2)]\n",
        "train_data, train_labels = newsgroups_train.data, newsgroups_train.target\n",
        "\n",
        "print('training label shape:', train_labels.shape)\n",
        "print('test label shape:', test_labels.shape)\n",
        "print('dev label shape:', dev_labels.shape)\n",
        "print('labels names:', newsgroups_train.target_names)"
      ],
      "execution_count": 2,
      "outputs": [
        {
          "output_type": "stream",
          "text": [
            "Downloading 20news dataset. This may take a few minutes.\n",
            "Downloading dataset from https://ndownloader.figshare.com/files/5975967 (14 MB)\n"
          ],
          "name": "stderr"
        },
        {
          "output_type": "stream",
          "text": [
            "training label shape: (2034,)\n",
            "test label shape: (677,)\n",
            "dev label shape: (676,)\n",
            "labels names: ['alt.atheism', 'comp.graphics', 'sci.space', 'talk.religion.misc']\n"
          ],
          "name": "stdout"
        }
      ]
    },
    {
      "cell_type": "markdown",
      "metadata": {
        "id": "LqBeCLHPMi1s",
        "colab_type": "text"
      },
      "source": [
        "## Question 1\n",
        "\n",
        "For each of the first 5 training examples, print the text of the message along with the label."
      ]
    },
    {
      "cell_type": "code",
      "metadata": {
        "id": "ZQuj_ukYMi1t",
        "colab_type": "code",
        "outputId": "7e9f48af-5d24-4f15-b687-ea8f6334509f",
        "colab": {
          "base_uri": "https://localhost:8080/",
          "height": 1000
        }
      },
      "source": [
        "def head_training_data(num_examples = 5):\n",
        "    '''\n",
        "    Prints the first specified number of newsgroup training data labels and text.\n",
        "\n",
        "    Arguments\n",
        "    ---------\n",
        "    num_examples: int\n",
        "    \n",
        "    Number of newsgroup training data labels and text to print (default: 5)\n",
        "    '''\n",
        "\n",
        "    assert isinstance(num_examples, int), \"num_examples must be of type int\"\n",
        "    assert num_examples >= 0, \"num_examples must be greater than or equal to 0\"\n",
        "\n",
        "    for i in range(num_examples):\n",
        "        print(\"+++++ newsgroups_train[\", i, \"]\", sep = \"\")\n",
        "        print(\"Label:\", newsgroups_train.target_names[train_labels[i]])\n",
        "        print(\"Text:\\n-----\\n\", train_data[i], \"\\n-----\\n\")\n",
        "\n",
        "# Print the first five newsgroup training data's labels and text\n",
        "head_training_data()"
      ],
      "execution_count": 3,
      "outputs": [
        {
          "output_type": "stream",
          "text": [
            "+++++ newsgroups_train[0]\n",
            "Label: comp.graphics\n",
            "Text:\n",
            "-----\n",
            " Hi,\n",
            "\n",
            "I've noticed that if you only save a model (with all your mapping planes\n",
            "positioned carefully) to a .3DS file that when you reload it after restarting\n",
            "3DS, they are given a default position and orientation.  But if you save\n",
            "to a .PRJ file their positions/orientation are preserved.  Does anyone\n",
            "know why this information is not stored in the .3DS file?  Nothing is\n",
            "explicitly said in the manual about saving texture rules in the .PRJ file. \n",
            "I'd like to be able to read the texture rule information, does anyone have \n",
            "the format for the .PRJ file?\n",
            "\n",
            "Is the .CEL file format available from somewhere?\n",
            "\n",
            "Rych \n",
            "-----\n",
            "\n",
            "+++++ newsgroups_train[1]\n",
            "Label: talk.religion.misc\n",
            "Text:\n",
            "-----\n",
            " \n",
            "\n",
            "Seems to be, barring evidence to the contrary, that Koresh was simply\n",
            "another deranged fanatic who thought it neccessary to take a whole bunch of\n",
            "folks with him, children and all, to satisfy his delusional mania. Jim\n",
            "Jones, circa 1993.\n",
            "\n",
            "\n",
            "Nope - fruitcakes like Koresh have been demonstrating such evil corruption\n",
            "for centuries. \n",
            "-----\n",
            "\n",
            "+++++ newsgroups_train[2]\n",
            "Label: sci.space\n",
            "Text:\n",
            "-----\n",
            " \n",
            " >In article <1993Apr19.020359.26996@sq.sq.com>, msb@sq.sq.com (Mark Brader) \n",
            "\n",
            "MB>                                                             So the\n",
            "MB> 1970 figure seems unlikely to actually be anything but a perijove.\n",
            "\n",
            "JG>Sorry, _perijoves_...I'm not used to talking this language.\n",
            "\n",
            "Couldn't we just say periapsis or apoapsis?\n",
            "\n",
            "  \n",
            "-----\n",
            "\n",
            "+++++ newsgroups_train[3]\n",
            "Label: alt.atheism\n",
            "Text:\n",
            "-----\n",
            " I have a request for those who would like to see Charley Wingate\n",
            "respond to the \"Charley Challenges\" (and judging from my e-mail, there\n",
            "appear to be quite a few of you.)  \n",
            "\n",
            "It is clear that Mr. Wingate intends to continue to post tangential or\n",
            "unrelated articles while ingoring the Challenges themselves.  Between\n",
            "the last two re-postings of the Challenges, I noted perhaps a dozen or\n",
            "more posts by Mr. Wingate, none of which answered a single Challenge.  \n",
            "\n",
            "It seems unmistakable to me that Mr. Wingate hopes that the questions\n",
            "will just go away, and he is doing his level best to change the\n",
            "subject.  Given that this seems a rather common net.theist tactic, I\n",
            "would like to suggest that we impress upon him our desire for answers,\n",
            "in the following manner:\n",
            "\n",
            "1. Ignore any future articles by Mr. Wingate that do not address the\n",
            "Challenges, until he answers them or explictly announces that he\n",
            "refuses to do so.\n",
            "\n",
            "--or--\n",
            "\n",
            "2. If you must respond to one of his articles, include within it\n",
            "something similar to the following:\n",
            "\n",
            "    \"Please answer the questions posed to you in the Charley Challenges.\"\n",
            "\n",
            "Really, I'm not looking to humiliate anyone here, I just want some\n",
            "honest answers.  You wouldn't think that honesty would be too much to\n",
            "ask from a devout Christian, would you?  \n",
            "\n",
            "Nevermind, that was a rhetorical question. \n",
            "-----\n",
            "\n",
            "+++++ newsgroups_train[4]\n",
            "Label: sci.space\n",
            "Text:\n",
            "-----\n",
            " AW&ST  had a brief blurb on a Manned Lunar Exploration confernce\n",
            "May 7th  at Crystal City Virginia, under the auspices of AIAA.\n",
            "\n",
            "Does anyone know more about this?  How much, to attend????\n",
            "\n",
            "Anyone want to go? \n",
            "-----\n",
            "\n"
          ],
          "name": "stdout"
        }
      ]
    },
    {
      "cell_type": "markdown",
      "metadata": {
        "id": "SvnoOywCb5aT",
        "colab_type": "text"
      },
      "source": [
        "## Question 2\n",
        "\n",
        " Use CountVectorizer to turn the raw training text into feature vectors. You should use the fit_transform function, which makes 2 passes through the data: first it computes the vocabulary (\"fit\"), second it converts the raw text into feature vectors using the vocabulary (\"transform\").\n",
        "\n",
        "The vectorizer has a lot of options. To get familiar with some of them, write code to answer these questions:"
      ]
    },
    {
      "cell_type": "markdown",
      "metadata": {
        "id": "dpieIoDRMi1v",
        "colab_type": "text"
      },
      "source": [
        "### Question 2a\n",
        "\n",
        "The output of the transform (also of fit_transform) is a sparse matrix: http://docs.scipy.org/doc/scipy-0.14.0/reference/generated/scipy.sparse.csr_matrix.html. What is the size of the vocabulary? What is the average number of non-zero features per example? What fraction of the entries in the matrix are non-zero? Hint: use \"nnz\" and \"shape\" attributes.\n"
      ]
    },
    {
      "cell_type": "code",
      "metadata": {
        "id": "zeG85plxMi1v",
        "colab_type": "code",
        "outputId": "48d5e748-a886-4a45-a8fc-ffc4f9cb1ef7",
        "colab": {
          "base_uri": "https://localhost:8080/",
          "height": 68
        }
      },
      "source": [
        "# Learn the training vocabulary and create the training term matrix\n",
        "q2a_vectorizer = CountVectorizer()\n",
        "q2a_term_matrix = q2a_vectorizer.fit_transform(train_data)\n",
        "\n",
        "# What is the size of the vocabulary?\n",
        "print(\"Vocabulary size:\", len(q2a_vectorizer.vocabulary_), \"words\")\n",
        "\n",
        "# What is the average number of non-zero features per example?\n",
        "average_nonzero_features = q2a_term_matrix.data.sum() / len(train_data)\n",
        "print(\"Average number of non-zero features per example: %.4f\" % average_nonzero_features, \"features\")\n",
        "\n",
        "# What fraction of the entries in the matrix are non-zero?\n",
        "fraction_nonzero_entries = \\\n",
        "    q2a_term_matrix.nnz / (q2a_term_matrix.shape[0] * q2a_term_matrix.shape[1])\n",
        "print(\"Fraction of entries in matrix that are non-zero: %.4f\" % fraction_nonzero_entries)"
      ],
      "execution_count": 4,
      "outputs": [
        {
          "output_type": "stream",
          "text": [
            "Vocabulary size: 26879 words\n",
            "Average number of non-zero features per example: 185.4336 features\n",
            "Fraction of entries in matrix that are non-zero: 0.0036\n"
          ],
          "name": "stdout"
        }
      ]
    },
    {
      "cell_type": "markdown",
      "metadata": {
        "id": "EihzYnC3iueo",
        "colab_type": "text"
      },
      "source": [
        "### Question 2b\n",
        "\n",
        "What are the 0th and last feature strings (in alphabetical order)? Hint: use the vectorizer's get_feature_names function."
      ]
    },
    {
      "cell_type": "code",
      "metadata": {
        "id": "a3GnQmFfjSSl",
        "colab_type": "code",
        "outputId": "90ae4463-8ee1-464f-fff7-447e24f0edab",
        "colab": {
          "base_uri": "https://localhost:8080/",
          "height": 51
        }
      },
      "source": [
        "# What are the 0th and last feature strings (in alphabetical order)?\n",
        "assert len(q2a_vectorizer.vocabulary_) > 0, \"No features exist\"\n",
        "print(\"First feature string:\", q2a_vectorizer.get_feature_names()[0])\n",
        "print(\"Last feature string:\", q2a_vectorizer.get_feature_names()[len(q2a_vectorizer.vocabulary_) - 1])"
      ],
      "execution_count": 5,
      "outputs": [
        {
          "output_type": "stream",
          "text": [
            "First feature string: 00\n",
            "Last feature string: zyxel\n"
          ],
          "name": "stdout"
        }
      ]
    },
    {
      "cell_type": "markdown",
      "metadata": {
        "id": "_Gv0c74BivQX",
        "colab_type": "text"
      },
      "source": [
        "### Question 2c\n",
        "\n",
        "Specify your own vocabulary with 4 words: [\"atheism\", \"graphics\", \"space\", \"religion\"]. Confirm the training vectors are appropriately shaped. Now what's the average number of non-zero features per example?"
      ]
    },
    {
      "cell_type": "code",
      "metadata": {
        "id": "VAxHzq5TjS8n",
        "colab_type": "code",
        "outputId": "5d8c2071-2536-4b57-846d-4339992a07c4",
        "colab": {
          "base_uri": "https://localhost:8080/",
          "height": 34
        }
      },
      "source": [
        "# Specify the training vocabulary and create the training term matrix\n",
        "q2c_vocabulary = [\"atheism\", \"graphics\", \"space\", \"religion\"]\n",
        "q2c_vectorizer = CountVectorizer(vocabulary =  q2c_vocabulary)\n",
        "q2c_term_matrix = q2c_vectorizer.fit_transform(train_data)\n",
        "\n",
        "# Confirm the training vectors are appropriately shaped.  The training term matrix should have\n",
        "# a shape whose first element is the same size as that of the previous training term matrix\n",
        "# (q2a_term_matrix), and whose second element should be the length of the specified vocabulary\n",
        "# (q2c_vocabulary).\n",
        "assert q2c_term_matrix.shape[0] == q2a_term_matrix.shape[0], \"Number of raw documents should be of same size\"\n",
        "assert q2c_term_matrix.shape[1] == len(q2c_vocabulary), \"Training term matrix shape does not correspond to the vocabulary length\"\n",
        "\n",
        "# What fraction of the entries in the matrix are non-zero?\n",
        "fraction_nonzero_entries = \\\n",
        "    q2c_term_matrix.nnz / (q2c_term_matrix.shape[0] * q2c_term_matrix.shape[1])\n",
        "print(\"Fraction of entries in matrix that are non-zero: %.4f\" % fraction_nonzero_entries)"
      ],
      "execution_count": 6,
      "outputs": [
        {
          "output_type": "stream",
          "text": [
            "Fraction of entries in matrix that are non-zero: 0.0671\n"
          ],
          "name": "stdout"
        }
      ]
    },
    {
      "cell_type": "markdown",
      "metadata": {
        "id": "EyVDHyAiiwH4",
        "colab_type": "text"
      },
      "source": [
        "### Question 2d\n",
        "\n",
        "Instead of extracting unigram word features, use \"analyzer\" and \"ngram_range\" to extract bigram and trigram character features. What size vocabulary does this yield?"
      ]
    },
    {
      "cell_type": "code",
      "metadata": {
        "id": "Q__R95AIjTtY",
        "colab_type": "code",
        "outputId": "f219eebf-77bf-4afc-d614-c9e6815c378c",
        "colab": {
          "base_uri": "https://localhost:8080/",
          "height": 68
        }
      },
      "source": [
        "# Ensure that the behavior of the \"analyzer\" and \"ngram_range\" parameters passed to the \n",
        "# CountVectorizer are understood.  Parameter values of \"word\" and (1, 1), respectively, should\n",
        "# yield the same size vocabulary as that identified in Question 2a.\n",
        "q2d_vectorizer = CountVectorizer(analyzer = \"word\", ngram_range = (1, 1))\n",
        "q2d_term_matrix = q2d_vectorizer.fit_transform(train_data)\n",
        "assert len(q2a_vectorizer.vocabulary_) == len(q2d_vectorizer.vocabulary_), \"Lengths of q2a and q2d vectorizer vocabularies are not equal\"\n",
        "\n",
        "# Initialize CountVectorizers with character ngram min and max lengths of (2, 2), (3, 3) and \n",
        "# (2, 3), and identify the size of the resulting vocabularies once trained on the training data\n",
        "for t in [(2, 2), (3, 3), (2, 3)]:\n",
        "    q2d_vectorizer = CountVectorizer(analyzer = \"char\", ngram_range = t)\n",
        "    q2d_term_matrix = q2d_vectorizer.fit_transform(train_data)\n",
        "    print(\"ngram limits (min and max characters):\", t, \"- Vocabulary size:\", \\\n",
        "        len(q2d_vectorizer.vocabulary_), \"ngrams\")"
      ],
      "execution_count": 7,
      "outputs": [
        {
          "output_type": "stream",
          "text": [
            "ngram limits (min and max characters): (2, 2) - Vocabulary size: 3291 ngrams\n",
            "ngram limits (min and max characters): (3, 3) - Vocabulary size: 32187 ngrams\n",
            "ngram limits (min and max characters): (2, 3) - Vocabulary size: 35478 ngrams\n"
          ],
          "name": "stdout"
        }
      ]
    },
    {
      "cell_type": "markdown",
      "metadata": {
        "id": "tVz3pxgwiwn3",
        "colab_type": "text"
      },
      "source": [
        "### Question 2e\n",
        "\n",
        "Use the \"min_df\" argument to prune words that appear in fewer than 10 documents. What size vocabulary does this yield?"
      ]
    },
    {
      "cell_type": "code",
      "metadata": {
        "id": "nHdctGffjUUh",
        "colab_type": "code",
        "outputId": "e55e1515-420a-4c88-f189-dd098fbd052a",
        "colab": {
          "base_uri": "https://localhost:8080/",
          "height": 34
        }
      },
      "source": [
        "# Create and train a vectorizer to prune words that appear in fewer than 10 documents \n",
        "q2e_vectorizer = CountVectorizer(min_df = 10)\n",
        "q2e_term_matrix = q2e_vectorizer.fit_transform(train_data)\n",
        "\n",
        "# What size vocabulary does this yield?\n",
        "print(\"Minimum document frequency: 10 words - Vocabulary size:\", \\\n",
        "    len(q2e_vectorizer.vocabulary_), \"words\")"
      ],
      "execution_count": 8,
      "outputs": [
        {
          "output_type": "stream",
          "text": [
            "Minimum document frequency: 10 words - Vocabulary size: 3064 words\n"
          ],
          "name": "stdout"
        }
      ]
    },
    {
      "cell_type": "markdown",
      "metadata": {
        "id": "A8PlNChMixIA",
        "colab_type": "text"
      },
      "source": [
        "### Question 2f\n",
        "\n",
        "Using the standard CountVectorizer, what fraction of the words in the dev data are missing from the vocabulary? Hint: build a vocabulary for both train and dev and look at the size of the difference."
      ]
    },
    {
      "cell_type": "code",
      "metadata": {
        "id": "KcKYDbR4jVTw",
        "colab_type": "code",
        "outputId": "c2d6055f-4940-47a4-c148-f11e8c9484c0",
        "colab": {
          "base_uri": "https://localhost:8080/",
          "height": 34
        }
      },
      "source": [
        "# Create and train vectorizers on both training and dev data \n",
        "q2f_train_vectorizer = CountVectorizer()\n",
        "q2f_dev_vectorizer = CountVectorizer()\n",
        "q2f_train_term_matrix = q2f_train_vectorizer.fit_transform(train_data)\n",
        "q2f_dev_term_matrix = q2f_dev_vectorizer.fit_transform(dev_data)\n",
        "\n",
        "# Identify how many words in the dev vocabulary do not exist in the training vocabulary\n",
        "missing_from_train_data = 0\n",
        "for w in q2f_dev_vectorizer.vocabulary_:\n",
        "    if w not in q2f_train_vectorizer.vocabulary_:\n",
        "        missing_from_train_data += 1 \n",
        "    else: \n",
        "        pass\n",
        "\n",
        "fraction_missing_from_train_data = missing_from_train_data / len(q2f_dev_vectorizer.vocabulary_)\n",
        "print(\"Fraction of words in dev data missing from training vocabulary: %.4f\" % \\\n",
        "    fraction_missing_from_train_data)"
      ],
      "execution_count": 9,
      "outputs": [
        {
          "output_type": "stream",
          "text": [
            "Fraction of words in dev data missing from training vocabulary: 0.2479\n"
          ],
          "name": "stdout"
        }
      ]
    },
    {
      "cell_type": "markdown",
      "metadata": {
        "id": "9g8xnR_kMi1x",
        "colab_type": "text"
      },
      "source": [
        "## Question 3\n"
      ]
    },
    {
      "cell_type": "markdown",
      "metadata": {
        "id": "dx2_hc55YvL-",
        "colab_type": "text"
      },
      "source": [
        "### K Nearest Neighbor Classifier\n",
        "\n",
        "Use the default CountVectorizer options and report the f1 score (use metrics.f1_score) for a k nearest neighbors classifier; find the optimal value for k.\n",
        "\n"
      ]
    },
    {
      "cell_type": "code",
      "metadata": {
        "id": "YZtKDETRY-hF",
        "colab_type": "code",
        "colab": {
          "base_uri": "https://localhost:8080/",
          "height": 238
        },
        "outputId": "31f585f3-f8c3-4e8f-d1b6-97ef287e6a9d"
      },
      "source": [
        "# Create and train a vanilla (i.e. default) count vectorizer for training data.  Transform test\n",
        "# data to a sparse matrix using the same vectorizer.\n",
        "q3_vectorizer = CountVectorizer()\n",
        "q3_train_term_matrix = q3_vectorizer.fit_transform(train_data)\n",
        "q3_test_term_matrix = q3_vectorizer.transform(test_data)\n",
        "\n",
        "# Report the f1 score (use metrics.f1_score) for a k nearest neighbors classifier\n",
        "q3_knn_classifier = KNeighborsClassifier()\n",
        "q3_knn_classifier.fit(X = q3_train_term_matrix, y = train_labels)\n",
        "\n",
        "predicted_labels = q3_knn_classifier.predict(X = q3_test_term_matrix)\n",
        "print(\"KNN classifier f1 score (neighbors = 5): %.4f\" % \\\n",
        "      metrics.f1_score(y_true = test_labels, y_pred = predicted_labels, average = \"micro\"))\n",
        "print(\"Classification report:\\n\", \\\n",
        "     metrics.classification_report(y_true = test_labels, y_pred = predicted_labels, target_names = categories))"
      ],
      "execution_count": 11,
      "outputs": [
        {
          "output_type": "stream",
          "text": [
            "KNN classifier f1 score (neighbors = 5): 0.3885\n",
            "Classification report:\n",
            "                     precision    recall  f1-score   support\n",
            "\n",
            "       alt.atheism       0.31      0.47      0.38       154\n",
            "talk.religion.misc       0.60      0.41      0.48       204\n",
            "     comp.graphics       0.50      0.38      0.43       195\n",
            "         sci.space       0.21      0.27      0.24       124\n",
            "\n",
            "          accuracy                           0.39       677\n",
            "         macro avg       0.41      0.38      0.38       677\n",
            "      weighted avg       0.43      0.39      0.40       677\n",
            "\n"
          ],
          "name": "stdout"
        }
      ]
    },
    {
      "cell_type": "markdown",
      "metadata": {
        "id": "D7wu9Sszf3BI",
        "colab_type": "text"
      },
      "source": [
        "Assuming that the \"optimal value\" refers to the KNN classifier's f1 score, computing f1 scores for classifiers with k (i.e. neighbors) values less than and greater than the `KNeighborsClassifier` default value of 5 helps identify where the optimal value is likely to lie.\n",
        "\n",
        "Additionally, values associated with the size of the test data are leveraged."
      ]
    },
    {
      "cell_type": "code",
      "metadata": {
        "id": "QmPFauedgtQj",
        "colab_type": "code",
        "colab": {
          "base_uri": "https://localhost:8080/",
          "height": 153
        },
        "outputId": "ce541691-fb45-4c14-877d-697bd97d3f54"
      },
      "source": [
        "TEST_K_VALUES = [1, 4, 6, 10, 50, len(test_labels) // 3, len(test_labels) // 2, len(test_labels) - 1]\n",
        "\n",
        "for k in TEST_K_VALUES:\n",
        "  test_knn_classifier = KNeighborsClassifier(n_neighbors = k)\n",
        "  test_knn_classifier.fit(X = q3_train_term_matrix, y = train_labels)\n",
        "  predicted_labels = test_knn_classifier.predict(X = q3_test_term_matrix)\n",
        "  print(\"KNN classifier f1 score (neighbors = %3d): %.4f\" % \\\n",
        "      (k, metrics.f1_score(y_true = test_labels, y_pred = predicted_labels, average = \"micro\")))\n"
      ],
      "execution_count": 23,
      "outputs": [
        {
          "output_type": "stream",
          "text": [
            "KNN classifier f1 score (neighbors =   1): 0.4151\n",
            "KNN classifier f1 score (neighbors =   4): 0.3914\n",
            "KNN classifier f1 score (neighbors =   6): 0.3826\n",
            "KNN classifier f1 score (neighbors =  10): 0.4047\n",
            "KNN classifier f1 score (neighbors =  50): 0.4417\n",
            "KNN classifier f1 score (neighbors = 225): 0.4727\n",
            "KNN classifier f1 score (neighbors = 338): 0.4564\n",
            "KNN classifier f1 score (neighbors = 676): 0.4106\n"
          ],
          "name": "stdout"
        }
      ]
    },
    {
      "cell_type": "markdown",
      "metadata": {
        "id": "yrFmj8pjpOW9",
        "colab_type": "text"
      },
      "source": [
        "I attempted to create an algorithm that identified the optimal k value by ascending and descending toward a higher f1 score based upon the prior k value's calculations, but the fact that the f1 score is non-linear made the algorithm more complicated than it was worth.  A simple line chart might suffice."
      ]
    },
    {
      "cell_type": "code",
      "metadata": {
        "id": "gpvQHmfEp_3f",
        "colab_type": "code",
        "colab": {
          "base_uri": "https://localhost:8080/",
          "height": 312
        },
        "outputId": "47fd1829-d2d0-42f1-cdec-9f926a003e1b"
      },
      "source": [
        "k_f1 = []\n",
        "rough_optimal_k = 5\n",
        "rough_maximum_f1 = 0.0\n",
        "\n",
        "for k in range(rough_optimal_k, len(test_labels) // 2, 5):\n",
        "  test_knn_classifier = KNeighborsClassifier(n_neighbors = k)\n",
        "  test_knn_classifier.fit(X = q3_train_term_matrix, y = train_labels)\n",
        "  predicted_labels = test_knn_classifier.predict(X = q3_test_term_matrix)\n",
        "  f1 = metrics.f1_score(y_true = test_labels, y_pred = predicted_labels, average = \"micro\")\n",
        "  \n",
        "  # Append the k-f1 tuple to the list, and check whether a maximum f1 value has been identified\n",
        "  k_f1.append((k, f1))\n",
        "  if f1 > rough_maximum_f1:\n",
        "    rough_maximum_f1 = f1\n",
        "    rough_optimal_k = k\n",
        "\n",
        "plt.plot([x[0] for x in k_f1], [y[1] for y in k_f1])\n",
        "plt.xlabel(\"k (neighbors)\")\n",
        "plt.ylabel(\"f1 score\")\n",
        "plt.title(\"f1 Scores for KNN Classifiers\")\n",
        "plt.ylim(0.3, 0.6)\n",
        "plt.grid(True)\n",
        "plt.show()\n",
        "\n",
        "print(\"Rough optimal k value: %3d, KNN classifier's f1 value: %.4f\" % (rough_optimal_k, rough_maximum_f1))"
      ],
      "execution_count": 58,
      "outputs": [
        {
          "output_type": "display_data",
          "data": {
            "image/png": "[encoded data removed]",
            "text/plain": [
              "<Figure size 432x288 with 1 Axes>"
            ]
          },
          "metadata": {
            "tags": []
          }
        },
        {
          "output_type": "stream",
          "text": [
            "Rough optimal k value: 175, KNN classifier's f1 value: 0.5022\n"
          ],
          "name": "stdout"
        }
      ]
    },
    {
      "cell_type": "markdown",
      "metadata": {
        "id": "HMZmdXfX9uQ-",
        "colab_type": "text"
      },
      "source": [
        "Having identified the maximum f1 metric and its corresponding k value, we'll attempt to find a more accurate number of nearest neighbors for the classifier by calculating f1 values using classifiers with k values in a range around the previous, rough optimal k."
      ]
    },
    {
      "cell_type": "code",
      "metadata": {
        "id": "Zf7hqei7BD84",
        "colab_type": "code",
        "colab": {
          "base_uri": "https://localhost:8080/",
          "height": 34
        },
        "outputId": "8ada9081-cca9-4526-ffe8-ce0d12f3373f"
      },
      "source": [
        "optimal_k = rough_optimal_k\n",
        "maximum_f1 = 0.0\n",
        "\n",
        "# Iterate through a range of k values to either side of the previously-identified (i.e. rough)\n",
        "# optimal k\n",
        "for k in range(rough_optimal_k - 10, rough_optimal_k + 10):\n",
        "  test_knn_classifier = KNeighborsClassifier(n_neighbors = k)\n",
        "  test_knn_classifier.fit(X = q3_train_term_matrix, y = train_labels)\n",
        "  predicted_labels = test_knn_classifier.predict(X = q3_test_term_matrix)\n",
        "  f1 = metrics.f1_score(y_true = test_labels, y_pred = predicted_labels, average = \"micro\")\n",
        "  \n",
        "  # Check whether a maximum f1 value has been identified\n",
        "  if f1 > maximum_f1:\n",
        "    maximum_f1 = f1\n",
        "    optimal_k = k\n",
        "\n",
        "print(\"Optimal k value: %3d, KNN classifier's f1 value: %.4f\" % (optimal_k, maximum_f1))"
      ],
      "execution_count": 59,
      "outputs": [
        {
          "output_type": "stream",
          "text": [
            "Optimal k value: 176, KNN classifier's f1 value: 0.5081\n"
          ],
          "name": "stdout"
        }
      ]
    },
    {
      "cell_type": "markdown",
      "metadata": {
        "id": "iQBZ5JkUDfzg",
        "colab_type": "text"
      },
      "source": [
        "### Multinomial Naive Bayes\n",
        "Also fit a Multinomial Naive Bayes model and find the optimal value for alpha."
      ]
    },
    {
      "cell_type": "code",
      "metadata": {
        "id": "KPyslW0XDsxP",
        "colab_type": "code",
        "colab": {
          "base_uri": "https://localhost:8080/",
          "height": 238
        },
        "outputId": "591c53f2-af43-4f2e-ba72-c01785e2e8fb"
      },
      "source": [
        "# Report the f1 score (use metrics.f1_score) for a vanilla multinomial naive Bayes classifier,\n",
        "# where alpha = 1.0\n",
        "q3_nb_classifier = MultinomialNB()\n",
        "q3_nb_classifier.fit(X = q3_train_term_matrix, y = train_labels)\n",
        "\n",
        "predicted_labels = q3_nb_classifier.predict(X = q3_test_term_matrix)\n",
        "print(\"Mulnomial naive Bayes classifier f1 score (alpha = 1.0): %.6f\" % \\\n",
        "      metrics.f1_score(y_true = test_labels, y_pred = predicted_labels, average = \"micro\"))\n",
        "print(\"Classification report:\\n\", \\\n",
        "     metrics.classification_report(y_true = test_labels, y_pred = predicted_labels, target_names = categories))"
      ],
      "execution_count": 63,
      "outputs": [
        {
          "output_type": "stream",
          "text": [
            "Mulnomial naive Bayes classifier f1 score (alpha = 1.0): 0.766617\n",
            "Classification report:\n",
            "                     precision    recall  f1-score   support\n",
            "\n",
            "       alt.atheism       0.58      0.79      0.67       154\n",
            "talk.religion.misc       0.91      0.87      0.89       204\n",
            "     comp.graphics       0.87      0.81      0.84       195\n",
            "         sci.space       0.69      0.51      0.59       124\n",
            "\n",
            "          accuracy                           0.77       677\n",
            "         macro avg       0.76      0.74      0.74       677\n",
            "      weighted avg       0.78      0.77      0.77       677\n",
            "\n"
          ],
          "name": "stdout"
        }
      ]
    },
    {
      "cell_type": "markdown",
      "metadata": {
        "id": "MqHu4pTaGwCb",
        "colab_type": "text"
      },
      "source": [
        "As performed with the KNN classifier (above), computing f1 scores for classifiers with alpha values less than and greater than the alpha default value of 1.0 helps identify where the optimal value is likely to lie."
      ]
    },
    {
      "cell_type": "code",
      "metadata": {
        "id": "dIUv3VYIG_QM",
        "colab_type": "code",
        "colab": {
          "base_uri": "https://localhost:8080/",
          "height": 187
        },
        "outputId": "68d914f9-9bfb-4ec1-c41a-be4039fb720c"
      },
      "source": [
        "TEST_ALPHA_VALUES = [0.01, 0.1, 0.5, 0.9, 0.99, 1.01, 1.1, 1.5, 1.9, 5]\n",
        "\n",
        "for a in TEST_ALPHA_VALUES:\n",
        "  test_nb_classifier = MultinomialNB(alpha = a)\n",
        "  test_nb_classifier.fit(X = q3_train_term_matrix, y = train_labels)\n",
        "  predicted_labels = test_nb_classifier.predict(X = q3_test_term_matrix)\n",
        "  print(\"Mulnomial naive Bayes classifier f1 score (alpha = %.4f): %.6f\" % \\\n",
        "      (a, metrics.f1_score(y_true = test_labels, y_pred = predicted_labels, average = \"micro\")))"
      ],
      "execution_count": 64,
      "outputs": [
        {
          "output_type": "stream",
          "text": [
            "Mulnomial naive Bayes classifier f1 score (alpha = 0.0100): 0.781388\n",
            "Mulnomial naive Bayes classifier f1 score (alpha = 0.1000): 0.776957\n",
            "Mulnomial naive Bayes classifier f1 score (alpha = 0.5000): 0.769572\n",
            "Mulnomial naive Bayes classifier f1 score (alpha = 0.9000): 0.763663\n",
            "Mulnomial naive Bayes classifier f1 score (alpha = 0.9900): 0.766617\n",
            "Mulnomial naive Bayes classifier f1 score (alpha = 1.0100): 0.766617\n",
            "Mulnomial naive Bayes classifier f1 score (alpha = 1.1000): 0.765140\n",
            "Mulnomial naive Bayes classifier f1 score (alpha = 1.5000): 0.765140\n",
            "Mulnomial naive Bayes classifier f1 score (alpha = 1.9000): 0.760709\n",
            "Mulnomial naive Bayes classifier f1 score (alpha = 5.0000): 0.732644\n"
          ],
          "name": "stdout"
        }
      ]
    },
    {
      "cell_type": "markdown",
      "metadata": {
        "id": "U2llp5OJIdW1",
        "colab_type": "text"
      },
      "source": [
        "In a manner simlar to above, a line chart for multnomial naive Bayes classifiers whose alpha values surround that for the maximum f1 value will likely prove helpful."
      ]
    },
    {
      "cell_type": "code",
      "metadata": {
        "id": "gTADmP3vI4P_",
        "colab_type": "code",
        "colab": {
          "base_uri": "https://localhost:8080/",
          "height": 312
        },
        "outputId": "51b6b67c-19d7-4206-d4fd-0e01dccc56dd"
      },
      "source": [
        "a_f1 = []\n",
        "rough_optimal_a = 0.01 - 0.009\n",
        "rough_maximum_f1 = 0.0\n",
        "\n",
        "a = rough_optimal_a\n",
        "while a < 0.01 + 0.009:\n",
        "  test_nb_classifier = MultinomialNB(alpha = a)\n",
        "  test_nb_classifier.fit(X = q3_train_term_matrix, y = train_labels)\n",
        "  predicted_labels = test_nb_classifier.predict(X = q3_test_term_matrix)\n",
        "  f1 = metrics.f1_score(y_true = test_labels, y_pred = predicted_labels, average = \"micro\")\n",
        "  \n",
        "  # Append the k-f1 tuple to the list, and check whether a maximum f1 value has been identified\n",
        "  a_f1.append((a, f1))\n",
        "  if f1 > rough_maximum_f1:\n",
        "    rough_maximum_f1 = f1\n",
        "    rough_optimal_a = a\n",
        "    \n",
        "  a += 0.001\n",
        "\n",
        "plt.plot([x[0] for x in a_f1], [y[1] for y in a_f1])\n",
        "plt.xlabel(\"alpha\")\n",
        "plt.ylabel(\"f1 score\")\n",
        "plt.title(\"f1 Scores for Multinomial Naive Bayes Classifiers\")\n",
        "plt.ylim(0.77, 0.79)\n",
        "plt.grid(True)\n",
        "plt.show()\n",
        "\n",
        "print(\"Rough optimal alpha value: %.4f, multinomial naive Bayes classifier's f1 value: %.6f\" % (rough_optimal_a, rough_maximum_f1))"
      ],
      "execution_count": 65,
      "outputs": [
        {
          "output_type": "display_data",
          "data": {
            "image/png": "[encoded data removed]",
            "text/plain": [
              "<Figure size 432x288 with 1 Axes>"
            ]
          },
          "metadata": {
            "tags": []
          }
        },
        {
          "output_type": "stream",
          "text": [
            "Rough optimal alpha value: 0.0090, multinomial naive Bayes classifier's f1 value: 0.782866\n"
          ],
          "name": "stdout"
        }
      ]
    },
    {
      "cell_type": "markdown",
      "metadata": {
        "id": "CXjM8baZL_69",
        "colab_type": "text"
      },
      "source": [
        "Again, having identified the maximum f1 metric and its corresponding alpha value, we'll attempt to find a more accurate smoothing value for the classifier by calculating f1 values using classifiers with alpha values in a range around the previous, rough optimal alpha."
      ]
    },
    {
      "cell_type": "code",
      "metadata": {
        "id": "qOSLFzePMTCR",
        "colab_type": "code",
        "colab": {
          "base_uri": "https://localhost:8080/",
          "height": 34
        },
        "outputId": "1a387ffe-cdac-4492-b9b5-5bc4828c7742"
      },
      "source": [
        "optimal_a = rough_optimal_a\n",
        "maximum_f1 = 0.0\n",
        "\n",
        "# Iterate through a range of alpha values to either side of the previously-identified (i.e. rough)\n",
        "# optimal a\n",
        "a = rough_optimal_a - ((rough_optimal_a / 100) * 99)\n",
        "while a < rough_optimal_a + ((rough_optimal_a / 100) * 99):\n",
        "  test_nb_classifier = MultinomialNB(alpha = a)\n",
        "  test_nb_classifier.fit(X = q3_train_term_matrix, y = train_labels)\n",
        "  predicted_labels = test_nb_classifier.predict(X = q3_test_term_matrix)\n",
        "  f1 = metrics.f1_score(y_true = test_labels, y_pred = predicted_labels, average = \"micro\")\n",
        "  \n",
        "  # Check whether a maximum f1 value has been identified\n",
        "  if f1 > maximum_f1:\n",
        "    maximum_f1 = f1\n",
        "    optimal_a = a\n",
        "    \n",
        "  a += rough_optimal_a / 100\n",
        "\n",
        "print(\"Optimal alpha value: %.4f, multinomial naive Bayes classifier's f1 value: %.6f\" % (optimal_a, maximum_f1))"
      ],
      "execution_count": 66,
      "outputs": [
        {
          "output_type": "stream",
          "text": [
            "Optimal alpha value: 0.0082, multinomial naive Bayes classifier's f1 value: 0.782866\n"
          ],
          "name": "stdout"
        }
      ]
    },
    {
      "cell_type": "markdown",
      "metadata": {
        "id": "DJXc3aOVOgY4",
        "colab_type": "text"
      },
      "source": [
        "### Logistic Regression\n",
        "Finally, fit a logistic regression model and find the optimal value for the regularization strength C using l2 regularization. "
      ]
    },
    {
      "cell_type": "markdown",
      "metadata": {
        "id": "uYDj-0wTOpjY",
        "colab_type": "text"
      },
      "source": [
        "### Question 3a\n",
        "Why doesn't nearest neighbors work well for this problem?"
      ]
    },
    {
      "cell_type": "markdown",
      "metadata": {
        "id": "A7cxZvnyOvCM",
        "colab_type": "text"
      },
      "source": [
        "### Question 3b\n",
        "Any ideas why logistic regression doesn't work as well as Naive Bayes?"
      ]
    },
    {
      "cell_type": "markdown",
      "metadata": {
        "id": "Xj49Lm-ROtJB",
        "colab_type": "text"
      },
      "source": [
        "### Question 3c\n",
        "Logistic regression estimates a weight vector for each class, which you can access with the coef_ attribute. Output the sum of the squared weight values for each class for each setting of the C parameter. Briefly explain the relationship between the sum and the value of C."
      ]
    },
    {
      "cell_type": "markdown",
      "metadata": {
        "id": "eUxjopZDMi11",
        "colab_type": "text"
      },
      "source": [
        "## Question 4\n",
        "\n",
        "Train a logistic regression model. Find the 5 features with the largest weights for each label -- 20 features in total. Create a table with 20 rows and 4 columns that shows the weight for each of these features for each of the labels. Create the table again with bigram features. Any surprising features in this table?"
      ]
    },
    {
      "cell_type": "code",
      "metadata": {
        "id": "bA3_SpjJMi12",
        "colab_type": "code",
        "colab": {}
      },
      "source": [
        "#def P4():\n",
        "### STUDENT START ###\n",
        "\n",
        "### STUDENT END ###\n",
        "#P4()"
      ],
      "execution_count": 0,
      "outputs": []
    },
    {
      "cell_type": "markdown",
      "metadata": {
        "id": "XPSBSm6-Mi16",
        "colab_type": "text"
      },
      "source": [
        "ANSWER:"
      ]
    },
    {
      "cell_type": "markdown",
      "metadata": {
        "id": "JjrjrEN-Mi17",
        "colab_type": "text"
      },
      "source": [
        "## Question 5\n",
        "\n",
        "Try to improve the logistic regression classifier by passing a custom preprocessor to CountVectorizer. The preprocessing function runs on the raw text, before it is split into words by the tokenizer. Your preprocessor should try to normalize the input in various ways to improve generalization. For example, try lowercasing everything, replacing sequences of numbers with a single token, removing various other non-letter characters, and shortening long words. If you're not already familiar with regular expressions for manipulating strings, see https://docs.python.org/2/library/re.html, and re.sub() in particular. With your new preprocessor, how much did you reduce the size of the dictionary?\n",
        "\n",
        "For reference, I was able to improve dev F1 by 2 points."
      ]
    },
    {
      "cell_type": "code",
      "metadata": {
        "id": "Xd83BR65Mi18",
        "colab_type": "code",
        "colab": {}
      },
      "source": [
        "#def empty_preprocessor(s):\n",
        "#    return s\n",
        "\n",
        "#def better_preprocessor(s):\n",
        "### STUDENT START ###\n",
        "\n",
        "### STUDENT END ###\n",
        "\n",
        "#def P5():\n",
        "### STUDENT START ###\n",
        "\n",
        "### STUDENT END ###\n",
        "#P5()"
      ],
      "execution_count": 0,
      "outputs": []
    },
    {
      "cell_type": "markdown",
      "metadata": {
        "id": "TbwWNF3SMi1-",
        "colab_type": "text"
      },
      "source": [
        "## Question 6\n",
        "\n",
        "The idea of regularization is to avoid learning very large weights (which are likely to fit the training data, but not generalize well) by adding a penalty to the total size of the learned weights. That is, logistic regression seeks the set of weights that minimizes errors in the training data AND has a small size. The default regularization, L2, computes this size as the sum of the squared weights (see P3, above). L1 regularization computes this size as the sum of the absolute values of the weights. The result is that whereas L2 regularization makes all the weights relatively small, L1 regularization drives lots of the weights to 0, effectively removing unimportant features.\n",
        "\n",
        "Train a logistic regression model using a \"l1\" penalty. Output the number of learned weights that are not equal to zero. How does this compare to the number of non-zero weights you get with \"l2\"? Now, reduce the size of the vocabulary by keeping only those features that have at least one non-zero weight and retrain a model using \"l2\".\n",
        "\n",
        "Make a plot showing accuracy of the re-trained model vs. the vocabulary size you get when pruning unused features by adjusting the C parameter.\n",
        "\n",
        "Note: The gradient descent code that trains the logistic regression model sometimes has trouble converging with extreme settings of the C parameter. Relax the convergence criteria by setting tol=.01 (the default is .0001)."
      ]
    },
    {
      "cell_type": "code",
      "metadata": {
        "id": "ZVo9cdmbMi1_",
        "colab_type": "code",
        "colab": {}
      },
      "source": [
        "#def P6():\n",
        "    # Keep this random seed here to make comparison easier.\n",
        "    #np.random.seed(0)\n",
        "\n",
        "    ### STUDENT START ###\n",
        "    \n",
        "    ### STUDENT END ###\n",
        "#P6()"
      ],
      "execution_count": 0,
      "outputs": []
    },
    {
      "cell_type": "markdown",
      "metadata": {
        "id": "SxkspPlKMi2B",
        "colab_type": "text"
      },
      "source": [
        "## Question 7\n",
        "\n",
        "Use the TfidfVectorizer -- how is this different from the CountVectorizer? Train a logistic regression model with C=100.\n",
        "\n",
        "Make predictions on the dev data and show the top 3 documents where the ratio R is largest, where R is:\n",
        "\n",
        "maximum predicted probability / predicted probability of the correct label\n",
        "\n",
        "What kinds of mistakes is the model making? Suggest a way to address one particular issue that you see."
      ]
    },
    {
      "cell_type": "code",
      "metadata": {
        "id": "nhuUEokjMi2C",
        "colab_type": "code",
        "colab": {}
      },
      "source": [
        "#def P7():\n",
        "### STUDENT START ###\n",
        "\n",
        "## STUDENT END ###\n",
        "#P7()"
      ],
      "execution_count": 0,
      "outputs": []
    },
    {
      "cell_type": "markdown",
      "metadata": {
        "id": "Ez5zyHwbMi2E",
        "colab_type": "text"
      },
      "source": [
        "ANSWER:"
      ]
    },
    {
      "cell_type": "markdown",
      "metadata": {
        "id": "7NIU727eMi2E",
        "colab_type": "text"
      },
      "source": [
        "## Question 8 - Extra Credit\n",
        "\n",
        "Try implementing one of your ideas based on your error analysis. Use logistic regression as your underlying model."
      ]
    },
    {
      "cell_type": "code",
      "metadata": {
        "id": "SGyrMIYmMi2F",
        "colab_type": "code",
        "colab": {}
      },
      "source": [
        ""
      ],
      "execution_count": 0,
      "outputs": []
    }
  ]
}