{
  "nbformat": 4,
  "nbformat_minor": 0,
  "metadata": {
    "colab": {
      "name": "brad_andersen_p3.ipynb",
      "version": "0.3.2",
      "provenance": [],
      "collapsed_sections": [],
      "include_colab_link": true
    },
    "language_info": {
      "codemirror_mode": {
        "name": "ipython",
        "version": 2
      },
      "file_extension": ".py",
      "mimetype": "text/x-python",
      "name": "python",
      "nbconvert_exporter": "python",
      "pygments_lexer": "ipython2",
      "version": "2.7.6"
    },
    "kernelspec": {
      "display_name": "Python 2",
      "language": "python",
      "name": "python2"
    }
  },
  "cells": [
    {
      "cell_type": "markdown",
      "metadata": {
        "id": "view-in-github",
        "colab_type": "text"
      },
      "source": [
        "<a href=\"https://colab.research.google.com/github/bdandersen-berkeley/mids/blob/master/W207/homework/brad_andersen_p3.ipynb\" target=\"_parent\"><img src=\"https://colab.research.google.com/assets/colab-badge.svg\" alt=\"Open In Colab\"/></a>"
      ]
    },
    {
      "cell_type": "markdown",
      "metadata": {
        "id": "_BKhNmnxLRMt",
        "colab_type": "text"
      },
      "source": [
        "# Project 3: Poisonous mushrooms"
      ]
    },
    {
      "cell_type": "markdown",
      "metadata": {
        "id": "IXZcAMpVLRMu",
        "colab_type": "text"
      },
      "source": [
        "In this project, you'll investigate properties of mushrooms. This classic dataset contains over 8000 observations, where each mushroom is described by a variety of features like color, odor, etc., and the target variable is an indicator for whether the mushroom is poisonous. Since all the observations are categorical, I've binarized the feature space. Look at the feature_names below to see all 126 binary names.\n",
        "\n",
        "You'll start by running PCA to reduce the dimensionality from 126 down to 2 so that you can easily visualize the data. In general, PCA is very useful for visualization (though sklearn.manifold.tsne is known to produce better visualizations). Recall that PCA is a linear transformation. The 1st projected dimension is the linear combination of all 126 original features that captures as much of the variance in the data as possible. The 2nd projected dimension is the linear combination of all 126 original features that captures as much of the remaining variance as possible. The idea of dense low dimensional representations is crucial to machine learning!\n",
        "\n",
        "Once you've projected the data to 2 dimensions, you'll experiment with clustering using KMeans and density estimation with Gaussian Mixture Models. Finally, you'll train a classifier by fitting a GMM for the positive class and a GMM for the negative class, and perform inference by comparing the probabilities output by each model.\n",
        "\n",
        "As always, you're welcome to work on the project in groups and discuss ideas on the course wall, but please prepare your own write-up and write your own code."
      ]
    },
    {
      "cell_type": "code",
      "metadata": {
        "id": "pCFoHg5dLRMv",
        "colab_type": "code",
        "colab": {}
      },
      "source": [
        "%matplotlib inline\n",
        "\n",
        "import numpy as np\n",
        "import matplotlib.pyplot as plt\n",
        "from sklearn import metrics\n",
        "from sklearn.decomposition import PCA\n",
        "from sklearn.cluster import KMeans\n",
        "from sklearn.mixture import GMM\n",
        "from matplotlib.colors import LogNorm"
      ],
      "execution_count": 0,
      "outputs": []
    },
    {
      "cell_type": "markdown",
      "metadata": {
        "id": "ZslsYMixLRMx",
        "colab_type": "text"
      },
      "source": [
        "Load feature names."
      ]
    },
    {
      "cell_type": "code",
      "metadata": {
        "id": "Jn0GTGD_LRMy",
        "colab_type": "code",
        "outputId": "c3213690-0ce4-4899-b3f1-3b9fb028dcbe",
        "colab": {}
      },
      "source": [
        "feature_names = []\n",
        "with open('../Data/mushroom.map') as fmap:\n",
        "    for line in fmap:\n",
        "        [index, name, junk] = line.split()\n",
        "        feature_names.append(name)\n",
        "\n",
        "print 'Loaded feature names:', len(feature_names)"
      ],
      "execution_count": 0,
      "outputs": [
        {
          "output_type": "stream",
          "text": [
            "Loaded feature names: 126\n"
          ],
          "name": "stdout"
        }
      ]
    },
    {
      "cell_type": "markdown",
      "metadata": {
        "id": "tyz4AZwILRM3",
        "colab_type": "text"
      },
      "source": [
        "Load data. The data is sparse in the input file, but there aren't too many features, so we'll use a dense representation, which is supported by all sklearn objects."
      ]
    },
    {
      "cell_type": "code",
      "metadata": {
        "id": "yloV9KQRLRM4",
        "colab_type": "code",
        "outputId": "ef9e2df3-5206-40b6-eb76-75b8a8b0f4be",
        "colab": {}
      },
      "source": [
        "X, Y = [], []\n",
        "\n",
        "with open('../Data/mushroom.data') as fdata:\n",
        "    for line in fdata:\n",
        "        items = line.split()\n",
        "        Y.append(int(items.pop(0)))\n",
        "        x = np.zeros(len(feature_names))\n",
        "        for item in items:\n",
        "            feature = int(item.split(':')[0])\n",
        "            x[feature] = 1\n",
        "        X.append(x)\n",
        "\n",
        "# Convert these lists to numpy arrays.\n",
        "X = np.array(X)\n",
        "Y = np.array(Y)\n",
        "\n",
        "# Split into train and test data.\n",
        "train_data, train_labels = X[:7000], Y[:7000]\n",
        "test_data, test_labels = X[7000:], Y[7000:]\n",
        "\n",
        "# Check that the shapes look right.\n",
        "print train_data.shape, test_data.shape"
      ],
      "execution_count": 0,
      "outputs": [
        {
          "output_type": "stream",
          "text": [
            "(7000, 126) (1124, 126)\n"
          ],
          "name": "stdout"
        }
      ]
    },
    {
      "cell_type": "markdown",
      "metadata": {
        "id": "1QvGIhomLRM8",
        "colab_type": "text"
      },
      "source": [
        "(1) Run Principal Components Analysis on the data. Show what fraction of the total variance in the training data is explained by the first k principal components, for k in [1, 50]."
      ]
    },
    {
      "cell_type": "code",
      "metadata": {
        "id": "ZXtYiVD6LRM9",
        "colab_type": "code",
        "colab": {}
      },
      "source": [
        "#def P1():\n",
        "### STUDENT START ###\n",
        "\n",
        "### STUDENT END ###\n",
        "\n",
        "#P1()"
      ],
      "execution_count": 0,
      "outputs": []
    },
    {
      "cell_type": "markdown",
      "metadata": {
        "id": "zA4g6AoXLRM_",
        "colab_type": "text"
      },
      "source": [
        "(2) PCA can be very useful for visualizing data. Project the training data down to 2 dimensions and plot it. Show the positive (poisonous) cases in blue and the negative (non-poisonous) in red. Here's a reference for plotting: http://matplotlib.org/users/pyplot_tutorial.html"
      ]
    },
    {
      "cell_type": "code",
      "metadata": {
        "id": "utiJ0vQrLRNA",
        "colab_type": "code",
        "colab": {}
      },
      "source": [
        "#def P2():\n",
        "### STUDENT START ###\n",
        "\n",
        "### STUDENT END ###\n",
        "\n",
        "#P2()"
      ],
      "execution_count": 0,
      "outputs": []
    },
    {
      "cell_type": "markdown",
      "metadata": {
        "id": "0EQdft3WLRNC",
        "colab_type": "text"
      },
      "source": [
        "(3) Run KMeans with [1,16] clusters over the 2d projected data. Mark each centroid cluster and plot a circle that goes through the most distant point assigned to each cluster."
      ]
    },
    {
      "cell_type": "code",
      "metadata": {
        "id": "Z-3iSlvOLRND",
        "colab_type": "code",
        "colab": {}
      },
      "source": [
        "#def P3():\n",
        "### STUDENT START ###\n",
        "\n",
        "### STUDENT END ###\n",
        "\n",
        "#P3()"
      ],
      "execution_count": 0,
      "outputs": []
    },
    {
      "cell_type": "markdown",
      "metadata": {
        "id": "PqLONh_LLRNH",
        "colab_type": "text"
      },
      "source": [
        "(4) Fit a Gaussian Mixture Model for the positive examples in your 2d projected data. Plot the estimated density contours as shown here: http://scikit-learn.org/stable/auto_examples/mixture/plot_gmm_pdf.html#example-mixture-plot-gmm-pdf-py. Vary the number of mixture components from 1-4 and the covariance matrix type ('spherical', 'diag', 'tied', 'full')."
      ]
    },
    {
      "cell_type": "code",
      "metadata": {
        "id": "eQmzuesxLRNI",
        "colab_type": "code",
        "colab": {}
      },
      "source": [
        "#def P4():\n",
        "### STUDENT START ###\n",
        "\n",
        "### STUDENT END ###\n",
        "\n",
        "#P4()"
      ],
      "execution_count": 0,
      "outputs": []
    },
    {
      "cell_type": "markdown",
      "metadata": {
        "id": "oPrbM5w2LRNL",
        "colab_type": "text"
      },
      "source": [
        "(5) Fit two 4-component full covariance GMMs, one for the positive examples and one for the negative examples in your 2d projected data. Predict the test examples by choosing the label for which the model gives a larger probability (use GMM.score). What is the accuracy?"
      ]
    },
    {
      "cell_type": "code",
      "metadata": {
        "id": "8lQg3nqDLRNM",
        "colab_type": "code",
        "colab": {}
      },
      "source": [
        "#def P5():\n",
        "### STUDENT START ###\n",
        "\n",
        "### STUDENT END ###\n",
        "\n",
        "#P5()"
      ],
      "execution_count": 0,
      "outputs": []
    },
    {
      "cell_type": "markdown",
      "metadata": {
        "id": "LeRfQqXXLRNO",
        "colab_type": "text"
      },
      "source": [
        "(6) Ideally, we'd like a model that gives the best accuracy with the fewest parameters. Run a series of experiments to find the model that gives the best accuracy with no more than 50 parameters. For example, with 3 PCA components and 2-component diagonal covariance GMMs, you'd have:\n",
        "\n",
        "( (3 mean vector + 3 covariance matrix) x 2 components ) x 2 classes = 24 parameters\n",
        "\n",
        "You should vary the number of PCA components, the number of GMM components, and the covariance type."
      ]
    },
    {
      "cell_type": "code",
      "metadata": {
        "id": "KWj69cRwLRNO",
        "colab_type": "code",
        "colab": {}
      },
      "source": [
        "#def P6():\n",
        "### STUDENT START ###\n",
        "\n",
        "### STUDENT END ###\n",
        "\n",
        "#P6()"
      ],
      "execution_count": 0,
      "outputs": []
    },
    {
      "cell_type": "code",
      "metadata": {
        "id": "1jRlFCH_LRNQ",
        "colab_type": "code",
        "colab": {}
      },
      "source": [
        ""
      ],
      "execution_count": 0,
      "outputs": []
    }
  ]
}