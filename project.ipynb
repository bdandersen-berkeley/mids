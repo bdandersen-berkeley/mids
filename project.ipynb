{
  "nbformat": 4,
  "nbformat_minor": 0,
  "metadata": {
    "colab": {
      "name": "project.ipynb",
      "version": "0.3.2",
      "provenance": [],
      "collapsed_sections": [],
      "include_colab_link": true
    },
    "kernelspec": {
      "name": "python3",
      "display_name": "Python 3"
    }
  },
  "cells": [
    {
      "cell_type": "markdown",
      "metadata": {
        "id": "view-in-github",
        "colab_type": "text"
      },
      "source": [
        "<a href=\"https://colab.research.google.com/github/bdandersen-berkeley/mids/blob/master/project.ipynb\" target=\"_parent\"><img src=\"https://colab.research.google.com/assets/colab-badge.svg\" alt=\"Open In Colab\"/></a>"
      ]
    },
    {
      "cell_type": "markdown",
      "metadata": {
        "id": "tOEg3tXY59hr",
        "colab_type": "text"
      },
      "source": [
        "# MIDS W207 Group 9 - Final Project"
      ]
    },
    {
      "cell_type": "code",
      "metadata": {
        "id": "HMCoR-2F46V5",
        "colab_type": "code",
        "colab": {
          "base_uri": "https://localhost:8080/",
          "height": 221
        },
        "outputId": "83c7bba9-30cf-4bfc-aba4-131d9d53b385"
      },
      "source": [
        "import re\n",
        "from os.path import basename\n",
        "\n",
        "import numpy as np\n",
        "from scipy.io import loadmat\n",
        "\n",
        "# Regular expression representing the EEG data file naming conventions\n",
        "CLIP_FILENAME_REGEX = r'((Patient|Dog)_\\d+)_(\\w+)_segment_(\\d+)\\.mat$'\n",
        "clip_filename_pattern = re.compile(CLIP_FILENAME_REGEX)\n",
        "\n",
        "def clip_summary(mat_clip_pathname):\n",
        "    '''\n",
        "    Prints summary of data maintained in EEG clip file\n",
        "\n",
        "    The specified EEG clip file is expected to be formatted as a Matlab data file.  Attempts to\n",
        "    load the data from a file of any other format will throw an exception.\n",
        "\n",
        "    Arguments:\n",
        "    ----------\n",
        "\n",
        "    mat_clip_pathname -- Pathname of an EEG clip file whose data to summarize (required).\n",
        "    '''\n",
        "\n",
        "    assert mat_clip_pathname is not None, \"Parameter mat_clip_pathname is not specified\"\n",
        "\n",
        "    # Check whether the EEG clip filename conforms to naming conventions\n",
        "    clip_filename_compiled = clip_filename_pattern.match(basename(mat_clip_pathname))\n",
        "    if (clip_filename_compiled is None):\n",
        "        print(\"Clip filename does not follow EEG data naming conventions\")\n",
        "\n",
        "    # Attempt to load the EEG clip data, anticipating that it is in Matlab format\n",
        "    clip = loadmat(mat_clip_pathname)\n",
        "\n",
        "    # Print the summary\n",
        "    unknown = \"unknown\"\n",
        "    column_spec = \"{0:18}  {1}\"\n",
        "    data_column_spec = \"  {0:16}  {1}\"\n",
        "    print(column_spec.format(\"Filename:\", basename(mat_clip_pathname)))\n",
        "    print(column_spec.format(\"Subject:\", unknown if not clip_filename_compiled else clip_filename_compiled.group(1)))\n",
        "    print(column_spec.format(\"Data class:\", unknown if not clip_filename_compiled else clip_filename_compiled.group(3)))\n",
        "    print(column_spec.format(\"Segment:\", unknown if not clip_filename_compiled else clip_filename_compiled.group(4)))\n",
        "    print(\"Data:\")\n",
        "    print(data_column_spec.format(\"Shape:\", unknown if \"data\" not in clip else clip[\"data\"].shape))\n",
        "    print(data_column_spec.format(\"Min (volts):\", unknown if \"data\" not in clip else \"%.4f\" % clip[\"data\"].min()))\n",
        "    print(data_column_spec.format(\"Max (volts):\", unknown if \"data\" not in clip else \"%.4f\" % clip[\"data\"].max()))\n",
        "    print(data_column_spec.format(\"Duration (sec):\", unknown if \"data_length_sec\" not in clip else \"%.4f\" % clip[\"data_length_sec\"]))\n",
        "    print(column_spec.format(\"Latency (sec):\", unknown if \"latency\" not in clip else \"%.4f\" % clip[\"latency\"]))\n",
        "    print(column_spec.format(\"Samples:\", unknown if \"sampling_frequency\" not in clip else clip[\"sampling_frequency\"]))\n",
        "    print(column_spec.format(\"Electrodes:\", unknown if \"data\" not in clip else clip[\"data\"].shape[0]))\n",
        "\n",
        "# clip_summary(\"sample_clip.mat\")\n",
        "clip_summary(\"Dog_4_interictal_segment_1012.mat\")"
      ],
      "execution_count": 5,
      "outputs": [
        {
          "output_type": "stream",
          "text": [
            "Filename:           Dog_4_interictal_segment_1012.mat\n",
            "Subject:            Dog_4\n",
            "Data class:         interictal\n",
            "Segment:            1012\n",
            "Data:\n",
            "  Shape:            (16, 400)\n",
            "  Min (volts):      -339.1075\n",
            "  Max (volts):      233.9075\n",
            "  Duration (sec):   unknown\n",
            "Latency (sec):      unknown\n",
            "Samples:            unknown\n",
            "Electrodes:         16\n"
          ],
          "name": "stdout"
        }
      ]
    }
  ]
}