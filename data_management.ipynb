{
  "nbformat": 4,
  "nbformat_minor": 0,
  "metadata": {
    "colab": {
      "name": "data_management.ipynb",
      "version": "0.3.2",
      "provenance": [],
      "include_colab_link": true
    },
    "kernelspec": {
      "name": "python3",
      "display_name": "Python 3"
    }
  },
  "cells": [
    {
      "cell_type": "markdown",
      "metadata": {
        "id": "view-in-github",
        "colab_type": "text"
      },
      "source": [
        "<a href=\"https://colab.research.google.com/github/bdandersen-berkeley/mids/blob/master/data_management.ipynb\" target=\"_parent\"><img src=\"https://colab.research.google.com/assets/colab-badge.svg\" alt=\"Open In Colab\"/></a>"
      ]
    },
    {
      "cell_type": "markdown",
      "metadata": {
        "id": "4uKGLHpX1D-9",
        "colab_type": "text"
      },
      "source": [
        "# MIDS W207 Group 9 - Final Project - Data Management"
      ]
    },
    {
      "cell_type": "markdown",
      "metadata": {
        "id": "-68HKeaR1XaF",
        "colab_type": "text"
      },
      "source": [
        "## Colaboratory Notebook Preconditions\n",
        "\n",
        "**This Colab notebook requires access to a Google Drive.**  Project data is retrieved from a folder on the Google Drive associated with the Google account with which this notebook is executing.\n",
        "\n",
        "This data folder may exist anywhere beneath the Google Drive.  Unfortunately, mounted Google Drives do not have access to folders and files shared by others.\n",
        "\n",
        "If the project data files do not reside on the Google Drive of the current Google account, please contact any of the following Group 9 members for assistance:\n",
        "\n",
        "* Brad Andersen - bdandersen@berkeley.edu\n",
        "* Stephanie Mather - stephanie.mather@berkeley.edu\n",
        "* Sonal Thakkar - sonalthakkar@berkeley.edu"
      ]
    },
    {
      "cell_type": "code",
      "metadata": {
        "id": "2Lb1IziO1hVo",
        "colab_type": "code",
        "colab": {
          "base_uri": "https://localhost:8080/",
          "height": 34
        },
        "outputId": "62f04c4d-45c3-4fd7-8c6a-53e284d818b1"
      },
      "source": [
        "import sys\n",
        "print(\"Python runtime:\", sys.version_info)\n",
        "assert 3 == sys.version_info.major and 6 == sys.version_info.minor, \"Python runtime must be version 3.6.x\""
      ],
      "execution_count": 1,
      "outputs": [
        {
          "output_type": "stream",
          "text": [
            "Python runtime: sys.version_info(major=3, minor=6, micro=8, releaselevel='final', serial=0)\n"
          ],
          "name": "stdout"
        }
      ]
    },
    {
      "cell_type": "markdown",
      "metadata": {
        "colab_type": "text",
        "id": "cHtySrpd1ahX"
      },
      "source": [
        "### Identifying the Pathname for Project Resources\n",
        "\n",
        "This Colab notebook will mount the current user's Google Drive beneath `/content/drive`.   Please specify the pathname of the project resource folder as it is maintained on the current user's Google Drive.\n",
        "\n",
        "*This is the folder beneath which subfolders **data** and **py** are located.*"
      ]
    },
    {
      "cell_type": "code",
      "metadata": {
        "id": "QBEkLTd8205m",
        "colab_type": "code",
        "colab": {}
      },
      "source": [
        "gdrive_project_pathname = '/My Drive/MIDS/W207/Final Project'  #@param {type: \"string\"}"
      ],
      "execution_count": 0,
      "outputs": []
    },
    {
      "cell_type": "code",
      "metadata": {
        "id": "i6nBZsze24eI",
        "colab_type": "code",
        "colab": {
          "base_uri": "https://localhost:8080/",
          "height": 173
        },
        "outputId": "fcbe6a1f-4edf-4bed-a031-d9a67092aa0c"
      },
      "source": [
        "import os.path\n",
        "from google.colab import drive\n",
        "\n",
        "# Mount the current user's Google Drive\n",
        "GOOGLE_DRIVE_MOUNT_POINT = \"/content/drive\"\n",
        "print(\"Mounting Google Drive beneath %s\" % GOOGLE_DRIVE_MOUNT_POINT)\n",
        "drive.mount(GOOGLE_DRIVE_MOUNT_POINT, force_remount = True)\n",
        "\n",
        "# Build the pathname to the project's folder residing beneath the current user's Google Drive\n",
        "if not gdrive_project_pathname.startswith(\"/\"):\n",
        "  gdrive_project_pathname = \"/\" + gdrive_project_pathname\n",
        "abs_project_pathname = GOOGLE_DRIVE_MOUNT_POINT + gdrive_project_pathname\n",
        "print(\"Project folder: %s\" % gdrive_project_pathname)\n",
        "\n",
        "# Check that the subdirectories anticipated beneath the Google Drive project folder exist\n",
        "# by checking for the presence of the DO_NOT_DELETE.txt file\n",
        "for subfolder in [\"data\", \"py\"]:\n",
        "    if not os.path.exists(abs_project_pathname + \"/\" + subfolder + \"/DO_NOT_DELETE.txt\"):\n",
        "        raise FileNotFoundError(\"Required subfolder '\" + subfolder + \"' does not exist beneath the Google Drive project folder\")\n",
        "print(\"Project subfolders successfully verified\")\n",
        "\n",
        "abs_data_pathname = abs_project_pathname + \"/data\"\n",
        "abs_py_pathname = abs_project_pathname + \"/py\""
      ],
      "execution_count": 4,
      "outputs": [
        {
          "output_type": "stream",
          "text": [
            "Mounting Google Drive beneath /content/drive\n",
            "Go to this URL in a browser: https://accounts.google.com/o/oauth2/auth?client_id=947318989803-6bn6qk8qdgf4n4g3pfee6491hc0brc4i.apps.googleusercontent.com&redirect_uri=urn%3Aietf%3Awg%3Aoauth%3A2.0%3Aoob&scope=email%20https%3A%2F%2Fwww.googleapis.com%2Fauth%2Fdocs.test%20https%3A%2F%2Fwww.googleapis.com%2Fauth%2Fdrive%20https%3A%2F%2Fwww.googleapis.com%2Fauth%2Fdrive.photos.readonly%20https%3A%2F%2Fwww.googleapis.com%2Fauth%2Fpeopleapi.readonly&response_type=code\n",
            "\n",
            "Enter your authorization code:\n",
            "··········\n",
            "Mounted at /content/drive\n",
            "Project folder: /My Drive/MIDS/W207/Final Project\n",
            "Project subfolders successfully verified\n"
          ],
          "name": "stdout"
        }
      ]
    },
    {
      "cell_type": "markdown",
      "metadata": {
        "id": "8E_ZknVL416B",
        "colab_type": "text"
      },
      "source": [
        "## EDA of Seizure Dataset "
      ]
    },
    {
      "cell_type": "markdown",
      "metadata": {
        "id": "H4JUCWh97Ckh",
        "colab_type": "text"
      },
      "source": [
        "## Dependencies"
      ]
    },
    {
      "cell_type": "code",
      "metadata": {
        "id": "N5IWl8eL7FRX",
        "colab_type": "code",
        "colab": {
          "base_uri": "https://localhost:8080/",
          "height": 204
        },
        "outputId": "3aaea0f9-fd5a-49d5-8c5d-0a79c4a70e31"
      },
      "source": [
        "import IPython\n",
        "\n",
        "! pip install -U mne\n",
        "\n",
        "sys.path.append(abs_py_pathname)\n",
        "import data\n",
        "import eda\n",
        "import ml_utl"
      ],
      "execution_count": 7,
      "outputs": [
        {
          "output_type": "stream",
          "text": [
            "Collecting mne\n",
            "\u001b[?25l  Downloading https://files.pythonhosted.org/packages/42/ec/08afc26ea6204473031f786d0f3034119a5a138d40062b37fbf578c81c01/mne-0.18.2.tar.gz (6.3MB)\n",
            "\u001b[K     |████████████████████████████████| 6.3MB 4.9MB/s \n",
            "\u001b[?25hRequirement already satisfied, skipping upgrade: numpy>=1.11.3 in /usr/local/lib/python3.6/dist-packages (from mne) (1.16.4)\n",
            "Requirement already satisfied, skipping upgrade: scipy>=0.17.1 in /usr/local/lib/python3.6/dist-packages (from mne) (1.3.0)\n",
            "Building wheels for collected packages: mne\n",
            "  Building wheel for mne (setup.py) ... \u001b[?25l\u001b[?25hdone\n",
            "  Stored in directory: /root/.cache/pip/wheels/71/40/30/fb9a9bdeac02c6b3b144be66ac345c5b5587a7d7610564535b\n",
            "Successfully built mne\n",
            "Installing collected packages: mne\n",
            "Successfully installed mne-0.18.2\n"
          ],
          "name": "stdout"
        }
      ]
    },
    {
      "cell_type": "markdown",
      "metadata": {
        "id": "NnCZcaBD46Ja",
        "colab_type": "text"
      },
      "source": [
        "## Accessing Seizure Data\n",
        "The data used in this project is  clips.tar.gz is available from **UPenn and Mayo Clinic's Seizure Detection Challenge** https://www.kaggle.com/c/seizure-detection/overview\n",
        "\n",
        "Note:  clips.tar.gz has been broken down into a single zip file for each subject for storage on Google Drive.\n",
        "\n",
        "Example of Data Retrievalfor Patient 1\n"
      ]
    },
    {
      "cell_type": "markdown",
      "metadata": {
        "id": "qWELZXgU22N3",
        "colab_type": "text"
      },
      "source": [
        "## Data Structure\n",
        "The dataset is from the UPenn and Mayo Clinic's Seizure Detection Challenge to detect seizures in intracranial EEG recordings.\n",
        "\n",
        "The data is made up of 1-second EEG clips from 4 dogs and 7 patients. Each test subject has threee types of clip:\n",
        "\n",
        "* \"Ictal\" for seizure data segments\n",
        "* \"Interictal\" for non-seizure data segments\n",
        "* \"test\" for test data segments\n",
        "\n",
        "The data is stored as a .mat file. This is an output from Matlab.\n",
        "\n",
        "The Kaggle competion reported that each clip contained the following information:\n",
        "\n",
        "* **data:** a matrix of EEG sample values arranged row x column as electrode x time.\n",
        "* **data_length_sec:** the time duration of each data row (1 second for all data in this case).\n",
        "* **latency:** the time in seconds between the expert-marked seizure onset and the first data point in the data  segment (in ictal training segments only).\n",
        "* **sampling_frequency:** the number of data samples representing 1 second of EEG data. (Non-integer values represent an average across the full data record and may reflect missing EEG samples).\n",
        "* **channels**: a list of electrode names corresponding to the rows in the data field.\n",
        "\n",
        "\n",
        "\n",
        "A summary of the data is shown below:"
      ]
    },
    {
      "cell_type": "code",
      "metadata": {
        "id": "NZoEKi0Z5Kgx",
        "colab_type": "code",
        "colab": {
          "base_uri": "https://localhost:8080/",
          "height": 221
        },
        "outputId": "a14ebf34-a3c7-461d-ef13-59bfb691b71a"
      },
      "source": [
        "eda.clip_summary(abs_data_pathname, \"Patient_2_ictal_segment_1.mat\")"
      ],
      "execution_count": 8,
      "outputs": [
        {
          "output_type": "stream",
          "text": [
            "Filename:           Patient_2_ictal_segment_1.mat\n",
            "Subject:            Patient_2\n",
            "Data class:         ictal\n",
            "Segment:            1\n",
            "Data:\n",
            "  Shape:            (16, 5000)\n",
            "  Min (volts):      -313.1382\n",
            "  Max (volts):      351.8618\n",
            "  Duration (sec):   unknown\n",
            "Latency (sec):      0.0000\n",
            "Samples:            unknown\n",
            "Electrodes:         16\n"
          ],
          "name": "stdout"
        }
      ]
    },
    {
      "cell_type": "markdown",
      "metadata": {
        "id": "yKyWyM9F5OgT",
        "colab_type": "text"
      },
      "source": [
        "Futher exploration of the .mat file revealed the data structure reported by the kaggle file is slightly incorrect. Additional information was also added by the loadmat function used to bring the data into python for the EDA.\n",
        "\n",
        "The resulting data structure is as follows:\n",
        "\n",
        "* **data:** a matrix of EEG sample values arranged row x column as electrode x time.\n",
        "* **data_length_sec:** *missing* The competition pre-amble sates that all clips are 1 sec long.\n",
        "* **latency:** the time in seconds between the expert-marked seizure onset and the first data point in the data  segment (in ictal training segments only) \n",
        "* **freq:** the number of data samples representing 1 second of EEG data. (Non-integer values represent an average across the full data record and may reflect missing EEG samples)\n",
        "* **channels**: a list of electrode names corresponding to the rows in the data field\n",
        "\n"
      ]
    },
    {
      "cell_type": "code",
      "metadata": {
        "id": "t97ioD2b5Tnd",
        "colab_type": "code",
        "colab": {
          "base_uri": "https://localhost:8080/",
          "height": 34
        },
        "outputId": "db599ec2-fb87-49d7-e69c-26a9d7c86267"
      },
      "source": [
        "clip_example = eda.clip_load(abs_data_pathname, \"Patient_1_ictal_segment_1.mat\")\n",
        "\n",
        "clip_example.keys()"
      ],
      "execution_count": 9,
      "outputs": [
        {
          "output_type": "execute_result",
          "data": {
            "text/plain": [
              "dict_keys(['__header__', '__version__', '__globals__', 'data', 'freq', 'channels', 'latency'])"
            ]
          },
          "metadata": {
            "tags": []
          },
          "execution_count": 9
        }
      ]
    },
    {
      "cell_type": "markdown",
      "metadata": {
        "id": "E3apDIzV5agp",
        "colab_type": "text"
      },
      "source": [
        "Accessing some of the data structures created by loadmat() were difficult to extract, especially the channel data. For now, the channel names have been extracted as a list of strings, however this may have led to some loss of positional data when integrating the clip file with traditional EEG visualisation tools."
      ]
    },
    {
      "cell_type": "code",
      "metadata": {
        "id": "bALynXHd5fX6",
        "colab_type": "code",
        "colab": {
          "base_uri": "https://localhost:8080/",
          "height": 71
        },
        "outputId": "aa73832a-4b1d-4c19-ae80-2e82f0740e6a"
      },
      "source": [
        "clip_example[\"channels\"]"
      ],
      "execution_count": 10,
      "outputs": [
        {
          "output_type": "execute_result",
          "data": {
            "text/plain": [
              "array([[(array(['LFG1'], dtype='<U4'), array(['LFG10'], dtype='<U5'), array(['LFG11'], dtype='<U5'), array(['LFG12'], dtype='<U5'), array(['LFG13'], dtype='<U5'), array(['LFG14'], dtype='<U5'), array(['LFG15'], dtype='<U5'), array(['LFG16'], dtype='<U5'), array(['LFG17'], dtype='<U5'), array(['LFG18'], dtype='<U5'), array(['LFG19'], dtype='<U5'), array(['LFG2'], dtype='<U4'), array(['LFG20'], dtype='<U5'), array(['LFG21'], dtype='<U5'), array(['LFG22'], dtype='<U5'), array(['LFG23'], dtype='<U5'), array(['LFG24'], dtype='<U5'), array(['LFG25'], dtype='<U5'), array(['LFG26'], dtype='<U5'), array(['LFG27'], dtype='<U5'), array(['LFG28'], dtype='<U5'), array(['LFG29'], dtype='<U5'), array(['LFG3'], dtype='<U4'), array(['LFG30'], dtype='<U5'), array(['LFG31'], dtype='<U5'), array(['LFG32'], dtype='<U5'), array(['LFG33'], dtype='<U5'), array(['LFG34'], dtype='<U5'), array(['LFG35'], dtype='<U5'), array(['LFG36'], dtype='<U5'), array(['LFG37'], dtype='<U5'), array(['LFG38'], dtype='<U5'), array(['LFG39'], dtype='<U5'), array(['LFG4'], dtype='<U4'), array(['LFG40'], dtype='<U5'), array(['LFG41'], dtype='<U5'), array(['LFG42'], dtype='<U5'), array(['LFG43'], dtype='<U5'), array(['LFG44'], dtype='<U5'), array(['LFG45'], dtype='<U5'), array(['LFG46'], dtype='<U5'), array(['LFG47'], dtype='<U5'), array(['LFG48'], dtype='<U5'), array(['LFG49'], dtype='<U5'), array(['LFG5'], dtype='<U4'), array(['LFG50'], dtype='<U5'), array(['LFG51'], dtype='<U5'), array(['LFG52'], dtype='<U5'), array(['LFG53'], dtype='<U5'), array(['LFG54'], dtype='<U5'), array(['LFG55'], dtype='<U5'), array(['LFG56'], dtype='<U5'), array(['LFG57'], dtype='<U5'), array(['LFG58'], dtype='<U5'), array(['LFG59'], dtype='<U5'), array(['LFG6'], dtype='<U4'), array(['LFG60'], dtype='<U5'), array(['LFG61'], dtype='<U5'), array(['LFG62'], dtype='<U5'), array(['LFG63'], dtype='<U5'), array(['LFG64'], dtype='<U5'), array(['LFG7'], dtype='<U4'), array(['LFG8'], dtype='<U4'), array(['LFG9'], dtype='<U4'), array(['LFS1'], dtype='<U4'), array(['LFS2'], dtype='<U4'), array(['LFS3'], dtype='<U4'), array(['LFS4'], dtype='<U4'))]],\n",
              "      dtype=[('X.LFG1.', 'O'), ('X.LFG10.', 'O'), ('X.LFG11.', 'O'), ('X.LFG12.', 'O'), ('X.LFG13.', 'O'), ('X.LFG14.', 'O'), ('X.LFG15.', 'O'), ('X.LFG16.', 'O'), ('X.LFG17.', 'O'), ('X.LFG18.', 'O'), ('X.LFG19.', 'O'), ('X.LFG2.', 'O'), ('X.LFG20.', 'O'), ('X.LFG21.', 'O'), ('X.LFG22.', 'O'), ('X.LFG23.', 'O'), ('X.LFG24.', 'O'), ('X.LFG25.', 'O'), ('X.LFG26.', 'O'), ('X.LFG27.', 'O'), ('X.LFG28.', 'O'), ('X.LFG29.', 'O'), ('X.LFG3.', 'O'), ('X.LFG30.', 'O'), ('X.LFG31.', 'O'), ('X.LFG32.', 'O'), ('X.LFG33.', 'O'), ('X.LFG34.', 'O'), ('X.LFG35.', 'O'), ('X.LFG36.', 'O'), ('X.LFG37.', 'O'), ('X.LFG38.', 'O'), ('X.LFG39.', 'O'), ('X.LFG4.', 'O'), ('X.LFG40.', 'O'), ('X.LFG41.', 'O'), ('X.LFG42.', 'O'), ('X.LFG43.', 'O'), ('X.LFG44.', 'O'), ('X.LFG45.', 'O'), ('X.LFG46.', 'O'), ('X.LFG47.', 'O'), ('X.LFG48.', 'O'), ('X.LFG49.', 'O'), ('X.LFG5.', 'O'), ('X.LFG50.', 'O'), ('X.LFG51.', 'O'), ('X.LFG52.', 'O'), ('X.LFG53.', 'O'), ('X.LFG54.', 'O'), ('X.LFG55.', 'O'), ('X.LFG56.', 'O'), ('X.LFG57.', 'O'), ('X.LFG58.', 'O'), ('X.LFG59.', 'O'), ('X.LFG6.', 'O'), ('X.LFG60.', 'O'), ('X.LFG61.', 'O'), ('X.LFG62.', 'O'), ('X.LFG63.', 'O'), ('X.LFG64.', 'O'), ('X.LFG7.', 'O'), ('X.LFG8.', 'O'), ('X.LFG9.', 'O'), ('X.LFS1.', 'O'), ('X.LFS2.', 'O'), ('X.LFS3.', 'O'), ('X.LFS4.', 'O')])"
            ]
          },
          "metadata": {
            "tags": []
          },
          "execution_count": 10
        }
      ]
    },
    {
      "cell_type": "code",
      "metadata": {
        "id": "b8ZbzEcB5jSO",
        "colab_type": "code",
        "colab": {
          "base_uri": "https://localhost:8080/",
          "height": 173
        },
        "outputId": "533dcffd-7c49-47ee-9ccc-5e1e0286bc71"
      },
      "source": [
        "print(\"The raw EEG data is:\\n\",clip_example[\"data\"][0][0])\n",
        "print(\"The shape of the raw EEG data is:\\n\",clip_example[\"data\"].shape)\n",
        "\n",
        "print(\"The sampling frequency is:\\n\",clip_example[\"freq\"])\n",
        "\n",
        "\n",
        "## How to access data inside array inside list?\n",
        "print(\"The channels are:\\n\",[((clip_example[\"channels\"][0][0][i][0])) for i in range(68)])"
      ],
      "execution_count": 11,
      "outputs": [
        {
          "output_type": "stream",
          "text": [
            "The raw EEG data is:\n",
            " 204.98399999999998\n",
            "The shape of the raw EEG data is:\n",
            " (68, 500)\n",
            "The sampling frequency is:\n",
            " [499.906994]\n",
            "The channels are:\n",
            " ['LFG1', 'LFG10', 'LFG11', 'LFG12', 'LFG13', 'LFG14', 'LFG15', 'LFG16', 'LFG17', 'LFG18', 'LFG19', 'LFG2', 'LFG20', 'LFG21', 'LFG22', 'LFG23', 'LFG24', 'LFG25', 'LFG26', 'LFG27', 'LFG28', 'LFG29', 'LFG3', 'LFG30', 'LFG31', 'LFG32', 'LFG33', 'LFG34', 'LFG35', 'LFG36', 'LFG37', 'LFG38', 'LFG39', 'LFG4', 'LFG40', 'LFG41', 'LFG42', 'LFG43', 'LFG44', 'LFG45', 'LFG46', 'LFG47', 'LFG48', 'LFG49', 'LFG5', 'LFG50', 'LFG51', 'LFG52', 'LFG53', 'LFG54', 'LFG55', 'LFG56', 'LFG57', 'LFG58', 'LFG59', 'LFG6', 'LFG60', 'LFG61', 'LFG62', 'LFG63', 'LFG64', 'LFG7', 'LFG8', 'LFG9', 'LFS1', 'LFS2', 'LFS3', 'LFS4']\n"
          ],
          "name": "stdout"
        }
      ]
    },
    {
      "cell_type": "code",
      "metadata": {
        "id": "ixQloGY_5oO4",
        "colab_type": "code",
        "colab": {
          "base_uri": "https://localhost:8080/",
          "height": 253
        },
        "outputId": "885b0a10-6545-401d-ed2d-cf6952b55d25"
      },
      "source": [
        "clip_data_df = eda.create_clip_df(abs_data_pathname, \"Patient_1_ictal_segment_1.mat\")\n",
        "clip_data_df[0].head()"
      ],
      "execution_count": 12,
      "outputs": [
        {
          "output_type": "execute_result",
          "data": {
            "text/html": [
              "<div>\n",
              "<style scoped>\n",
              "    .dataframe tbody tr th:only-of-type {\n",
              "        vertical-align: middle;\n",
              "    }\n",
              "\n",
              "    .dataframe tbody tr th {\n",
              "        vertical-align: top;\n",
              "    }\n",
              "\n",
              "    .dataframe thead th {\n",
              "        text-align: right;\n",
              "    }\n",
              "</style>\n",
              "<table border=\"1\" class=\"dataframe\">\n",
              "  <thead>\n",
              "    <tr style=\"text-align: right;\">\n",
              "      <th></th>\n",
              "      <th>0</th>\n",
              "      <th>1</th>\n",
              "      <th>2</th>\n",
              "      <th>3</th>\n",
              "      <th>4</th>\n",
              "      <th>5</th>\n",
              "      <th>6</th>\n",
              "      <th>7</th>\n",
              "      <th>8</th>\n",
              "      <th>9</th>\n",
              "      <th>10</th>\n",
              "      <th>11</th>\n",
              "      <th>12</th>\n",
              "      <th>13</th>\n",
              "      <th>14</th>\n",
              "      <th>15</th>\n",
              "      <th>16</th>\n",
              "      <th>17</th>\n",
              "      <th>18</th>\n",
              "      <th>19</th>\n",
              "      <th>20</th>\n",
              "      <th>21</th>\n",
              "      <th>22</th>\n",
              "      <th>23</th>\n",
              "      <th>24</th>\n",
              "      <th>25</th>\n",
              "      <th>26</th>\n",
              "      <th>27</th>\n",
              "      <th>28</th>\n",
              "      <th>29</th>\n",
              "      <th>30</th>\n",
              "      <th>31</th>\n",
              "      <th>32</th>\n",
              "      <th>33</th>\n",
              "      <th>34</th>\n",
              "      <th>35</th>\n",
              "      <th>36</th>\n",
              "      <th>37</th>\n",
              "      <th>38</th>\n",
              "      <th>39</th>\n",
              "      <th>...</th>\n",
              "      <th>460</th>\n",
              "      <th>461</th>\n",
              "      <th>462</th>\n",
              "      <th>463</th>\n",
              "      <th>464</th>\n",
              "      <th>465</th>\n",
              "      <th>466</th>\n",
              "      <th>467</th>\n",
              "      <th>468</th>\n",
              "      <th>469</th>\n",
              "      <th>470</th>\n",
              "      <th>471</th>\n",
              "      <th>472</th>\n",
              "      <th>473</th>\n",
              "      <th>474</th>\n",
              "      <th>475</th>\n",
              "      <th>476</th>\n",
              "      <th>477</th>\n",
              "      <th>478</th>\n",
              "      <th>479</th>\n",
              "      <th>480</th>\n",
              "      <th>481</th>\n",
              "      <th>482</th>\n",
              "      <th>483</th>\n",
              "      <th>484</th>\n",
              "      <th>485</th>\n",
              "      <th>486</th>\n",
              "      <th>487</th>\n",
              "      <th>488</th>\n",
              "      <th>489</th>\n",
              "      <th>490</th>\n",
              "      <th>491</th>\n",
              "      <th>492</th>\n",
              "      <th>493</th>\n",
              "      <th>494</th>\n",
              "      <th>495</th>\n",
              "      <th>496</th>\n",
              "      <th>497</th>\n",
              "      <th>498</th>\n",
              "      <th>499</th>\n",
              "    </tr>\n",
              "  </thead>\n",
              "  <tbody>\n",
              "    <tr>\n",
              "      <th>LFG1</th>\n",
              "      <td>204.984</td>\n",
              "      <td>213.984</td>\n",
              "      <td>217.984</td>\n",
              "      <td>197.984</td>\n",
              "      <td>186.984</td>\n",
              "      <td>177.984</td>\n",
              "      <td>174.984</td>\n",
              "      <td>173.984</td>\n",
              "      <td>156.984</td>\n",
              "      <td>141.984</td>\n",
              "      <td>143.984</td>\n",
              "      <td>128.984</td>\n",
              "      <td>119.984</td>\n",
              "      <td>102.984</td>\n",
              "      <td>99.984</td>\n",
              "      <td>92.984</td>\n",
              "      <td>80.984</td>\n",
              "      <td>97.984</td>\n",
              "      <td>112.984</td>\n",
              "      <td>143.984</td>\n",
              "      <td>161.984</td>\n",
              "      <td>183.984</td>\n",
              "      <td>178.984</td>\n",
              "      <td>175.984</td>\n",
              "      <td>187.984</td>\n",
              "      <td>180.984</td>\n",
              "      <td>162.984</td>\n",
              "      <td>152.984</td>\n",
              "      <td>137.984</td>\n",
              "      <td>144.984</td>\n",
              "      <td>145.984</td>\n",
              "      <td>149.984</td>\n",
              "      <td>165.984</td>\n",
              "      <td>178.984</td>\n",
              "      <td>192.984</td>\n",
              "      <td>190.984</td>\n",
              "      <td>158.984</td>\n",
              "      <td>112.984</td>\n",
              "      <td>54.984</td>\n",
              "      <td>46.984</td>\n",
              "      <td>...</td>\n",
              "      <td>-280.016</td>\n",
              "      <td>-292.016</td>\n",
              "      <td>-303.016</td>\n",
              "      <td>-295.016</td>\n",
              "      <td>-264.016</td>\n",
              "      <td>-254.016</td>\n",
              "      <td>-246.016</td>\n",
              "      <td>-228.016</td>\n",
              "      <td>-221.016</td>\n",
              "      <td>-212.016</td>\n",
              "      <td>-226.016</td>\n",
              "      <td>-248.016</td>\n",
              "      <td>-240.016</td>\n",
              "      <td>-262.016</td>\n",
              "      <td>-239.016</td>\n",
              "      <td>-205.016</td>\n",
              "      <td>-190.016</td>\n",
              "      <td>-177.016</td>\n",
              "      <td>-167.016</td>\n",
              "      <td>-169.016</td>\n",
              "      <td>-156.016</td>\n",
              "      <td>-154.016</td>\n",
              "      <td>-152.016</td>\n",
              "      <td>-113.016</td>\n",
              "      <td>-79.016</td>\n",
              "      <td>-58.016</td>\n",
              "      <td>-53.016</td>\n",
              "      <td>-75.016</td>\n",
              "      <td>-88.016</td>\n",
              "      <td>-85.016</td>\n",
              "      <td>-119.016</td>\n",
              "      <td>-112.016</td>\n",
              "      <td>-105.016</td>\n",
              "      <td>-120.016</td>\n",
              "      <td>-115.016</td>\n",
              "      <td>-142.016</td>\n",
              "      <td>-179.016</td>\n",
              "      <td>-195.016</td>\n",
              "      <td>-216.016</td>\n",
              "      <td>-214.016</td>\n",
              "    </tr>\n",
              "    <tr>\n",
              "      <th>LFG10</th>\n",
              "      <td>-138.314</td>\n",
              "      <td>-127.314</td>\n",
              "      <td>-111.314</td>\n",
              "      <td>-148.314</td>\n",
              "      <td>-179.314</td>\n",
              "      <td>-201.314</td>\n",
              "      <td>-210.314</td>\n",
              "      <td>-198.314</td>\n",
              "      <td>-210.314</td>\n",
              "      <td>-211.314</td>\n",
              "      <td>-230.314</td>\n",
              "      <td>-260.314</td>\n",
              "      <td>-285.314</td>\n",
              "      <td>-290.314</td>\n",
              "      <td>-300.314</td>\n",
              "      <td>-272.314</td>\n",
              "      <td>-223.314</td>\n",
              "      <td>-173.314</td>\n",
              "      <td>-135.314</td>\n",
              "      <td>-117.314</td>\n",
              "      <td>-127.314</td>\n",
              "      <td>-131.314</td>\n",
              "      <td>-139.314</td>\n",
              "      <td>-156.314</td>\n",
              "      <td>-175.314</td>\n",
              "      <td>-207.314</td>\n",
              "      <td>-236.314</td>\n",
              "      <td>-237.314</td>\n",
              "      <td>-237.314</td>\n",
              "      <td>-238.314</td>\n",
              "      <td>-236.314</td>\n",
              "      <td>-199.314</td>\n",
              "      <td>-127.314</td>\n",
              "      <td>-72.314</td>\n",
              "      <td>-35.314</td>\n",
              "      <td>-23.314</td>\n",
              "      <td>-8.314</td>\n",
              "      <td>-1.314</td>\n",
              "      <td>-5.314</td>\n",
              "      <td>9.686</td>\n",
              "      <td>...</td>\n",
              "      <td>-250.314</td>\n",
              "      <td>-259.314</td>\n",
              "      <td>-273.314</td>\n",
              "      <td>-275.314</td>\n",
              "      <td>-249.314</td>\n",
              "      <td>-236.314</td>\n",
              "      <td>-235.314</td>\n",
              "      <td>-240.314</td>\n",
              "      <td>-223.314</td>\n",
              "      <td>-204.314</td>\n",
              "      <td>-163.314</td>\n",
              "      <td>-141.314</td>\n",
              "      <td>-118.314</td>\n",
              "      <td>-125.314</td>\n",
              "      <td>-127.314</td>\n",
              "      <td>-143.314</td>\n",
              "      <td>-153.314</td>\n",
              "      <td>-152.314</td>\n",
              "      <td>-159.314</td>\n",
              "      <td>-154.314</td>\n",
              "      <td>-161.314</td>\n",
              "      <td>-166.314</td>\n",
              "      <td>-159.314</td>\n",
              "      <td>-156.314</td>\n",
              "      <td>-161.314</td>\n",
              "      <td>-158.314</td>\n",
              "      <td>-158.314</td>\n",
              "      <td>-145.314</td>\n",
              "      <td>-118.314</td>\n",
              "      <td>-81.314</td>\n",
              "      <td>-37.314</td>\n",
              "      <td>14.686</td>\n",
              "      <td>68.686</td>\n",
              "      <td>93.686</td>\n",
              "      <td>117.686</td>\n",
              "      <td>105.686</td>\n",
              "      <td>63.686</td>\n",
              "      <td>17.686</td>\n",
              "      <td>-17.314</td>\n",
              "      <td>-40.314</td>\n",
              "    </tr>\n",
              "    <tr>\n",
              "      <th>LFG11</th>\n",
              "      <td>-64.030</td>\n",
              "      <td>-57.030</td>\n",
              "      <td>-28.030</td>\n",
              "      <td>-50.030</td>\n",
              "      <td>-117.030</td>\n",
              "      <td>-162.030</td>\n",
              "      <td>-196.030</td>\n",
              "      <td>-189.030</td>\n",
              "      <td>-216.030</td>\n",
              "      <td>-222.030</td>\n",
              "      <td>-229.030</td>\n",
              "      <td>-240.030</td>\n",
              "      <td>-243.030</td>\n",
              "      <td>-255.030</td>\n",
              "      <td>-247.030</td>\n",
              "      <td>-233.030</td>\n",
              "      <td>-226.030</td>\n",
              "      <td>-214.030</td>\n",
              "      <td>-222.030</td>\n",
              "      <td>-213.030</td>\n",
              "      <td>-233.030</td>\n",
              "      <td>-231.030</td>\n",
              "      <td>-232.030</td>\n",
              "      <td>-220.030</td>\n",
              "      <td>-215.030</td>\n",
              "      <td>-220.030</td>\n",
              "      <td>-231.030</td>\n",
              "      <td>-266.030</td>\n",
              "      <td>-301.030</td>\n",
              "      <td>-315.030</td>\n",
              "      <td>-307.030</td>\n",
              "      <td>-270.030</td>\n",
              "      <td>-240.030</td>\n",
              "      <td>-225.030</td>\n",
              "      <td>-189.030</td>\n",
              "      <td>-174.030</td>\n",
              "      <td>-165.030</td>\n",
              "      <td>-169.030</td>\n",
              "      <td>-191.030</td>\n",
              "      <td>-195.030</td>\n",
              "      <td>...</td>\n",
              "      <td>-119.030</td>\n",
              "      <td>-129.030</td>\n",
              "      <td>-158.030</td>\n",
              "      <td>-182.030</td>\n",
              "      <td>-167.030</td>\n",
              "      <td>-128.030</td>\n",
              "      <td>-62.030</td>\n",
              "      <td>-40.030</td>\n",
              "      <td>-45.030</td>\n",
              "      <td>-47.030</td>\n",
              "      <td>-69.030</td>\n",
              "      <td>-85.030</td>\n",
              "      <td>-59.030</td>\n",
              "      <td>-74.030</td>\n",
              "      <td>-72.030</td>\n",
              "      <td>-91.030</td>\n",
              "      <td>-93.030</td>\n",
              "      <td>-79.030</td>\n",
              "      <td>-99.030</td>\n",
              "      <td>-101.030</td>\n",
              "      <td>-88.030</td>\n",
              "      <td>-61.030</td>\n",
              "      <td>-14.030</td>\n",
              "      <td>-13.030</td>\n",
              "      <td>-37.030</td>\n",
              "      <td>-41.030</td>\n",
              "      <td>-62.030</td>\n",
              "      <td>-70.030</td>\n",
              "      <td>-65.030</td>\n",
              "      <td>-46.030</td>\n",
              "      <td>-60.030</td>\n",
              "      <td>-47.030</td>\n",
              "      <td>-34.030</td>\n",
              "      <td>-52.030</td>\n",
              "      <td>-39.030</td>\n",
              "      <td>-40.030</td>\n",
              "      <td>-46.030</td>\n",
              "      <td>-55.030</td>\n",
              "      <td>-83.030</td>\n",
              "      <td>-66.030</td>\n",
              "    </tr>\n",
              "    <tr>\n",
              "      <th>LFG12</th>\n",
              "      <td>-167.764</td>\n",
              "      <td>-152.764</td>\n",
              "      <td>-158.764</td>\n",
              "      <td>-187.764</td>\n",
              "      <td>-195.764</td>\n",
              "      <td>-220.764</td>\n",
              "      <td>-259.764</td>\n",
              "      <td>-299.764</td>\n",
              "      <td>-332.764</td>\n",
              "      <td>-373.764</td>\n",
              "      <td>-420.764</td>\n",
              "      <td>-435.764</td>\n",
              "      <td>-436.764</td>\n",
              "      <td>-442.764</td>\n",
              "      <td>-423.764</td>\n",
              "      <td>-388.764</td>\n",
              "      <td>-368.764</td>\n",
              "      <td>-350.764</td>\n",
              "      <td>-339.764</td>\n",
              "      <td>-368.764</td>\n",
              "      <td>-415.764</td>\n",
              "      <td>-424.764</td>\n",
              "      <td>-440.764</td>\n",
              "      <td>-460.764</td>\n",
              "      <td>-451.764</td>\n",
              "      <td>-415.764</td>\n",
              "      <td>-363.764</td>\n",
              "      <td>-325.764</td>\n",
              "      <td>-349.764</td>\n",
              "      <td>-365.764</td>\n",
              "      <td>-362.764</td>\n",
              "      <td>-349.764</td>\n",
              "      <td>-324.764</td>\n",
              "      <td>-271.764</td>\n",
              "      <td>-193.764</td>\n",
              "      <td>-176.764</td>\n",
              "      <td>-197.764</td>\n",
              "      <td>-216.764</td>\n",
              "      <td>-247.764</td>\n",
              "      <td>-245.764</td>\n",
              "      <td>...</td>\n",
              "      <td>-160.764</td>\n",
              "      <td>-213.764</td>\n",
              "      <td>-284.764</td>\n",
              "      <td>-320.764</td>\n",
              "      <td>-265.764</td>\n",
              "      <td>-218.764</td>\n",
              "      <td>-185.764</td>\n",
              "      <td>-152.764</td>\n",
              "      <td>-170.764</td>\n",
              "      <td>-170.764</td>\n",
              "      <td>-127.764</td>\n",
              "      <td>-111.764</td>\n",
              "      <td>-78.764</td>\n",
              "      <td>-29.764</td>\n",
              "      <td>45.236</td>\n",
              "      <td>127.236</td>\n",
              "      <td>159.236</td>\n",
              "      <td>187.236</td>\n",
              "      <td>191.236</td>\n",
              "      <td>261.236</td>\n",
              "      <td>270.236</td>\n",
              "      <td>240.236</td>\n",
              "      <td>237.236</td>\n",
              "      <td>193.236</td>\n",
              "      <td>156.236</td>\n",
              "      <td>141.236</td>\n",
              "      <td>147.236</td>\n",
              "      <td>152.236</td>\n",
              "      <td>157.236</td>\n",
              "      <td>182.236</td>\n",
              "      <td>180.236</td>\n",
              "      <td>175.236</td>\n",
              "      <td>171.236</td>\n",
              "      <td>154.236</td>\n",
              "      <td>174.236</td>\n",
              "      <td>172.236</td>\n",
              "      <td>196.236</td>\n",
              "      <td>234.236</td>\n",
              "      <td>257.236</td>\n",
              "      <td>293.236</td>\n",
              "    </tr>\n",
              "    <tr>\n",
              "      <th>LFG13</th>\n",
              "      <td>-139.808</td>\n",
              "      <td>-118.808</td>\n",
              "      <td>-87.808</td>\n",
              "      <td>-102.808</td>\n",
              "      <td>-94.808</td>\n",
              "      <td>-116.808</td>\n",
              "      <td>-126.808</td>\n",
              "      <td>-147.808</td>\n",
              "      <td>-177.808</td>\n",
              "      <td>-196.808</td>\n",
              "      <td>-201.808</td>\n",
              "      <td>-219.808</td>\n",
              "      <td>-267.808</td>\n",
              "      <td>-316.808</td>\n",
              "      <td>-330.808</td>\n",
              "      <td>-298.808</td>\n",
              "      <td>-231.808</td>\n",
              "      <td>-151.808</td>\n",
              "      <td>-85.808</td>\n",
              "      <td>-45.808</td>\n",
              "      <td>-54.808</td>\n",
              "      <td>-78.808</td>\n",
              "      <td>-118.808</td>\n",
              "      <td>-142.808</td>\n",
              "      <td>-118.808</td>\n",
              "      <td>-72.808</td>\n",
              "      <td>-40.808</td>\n",
              "      <td>-20.808</td>\n",
              "      <td>-6.808</td>\n",
              "      <td>-6.808</td>\n",
              "      <td>-25.808</td>\n",
              "      <td>-37.808</td>\n",
              "      <td>-72.808</td>\n",
              "      <td>-67.808</td>\n",
              "      <td>-43.808</td>\n",
              "      <td>-48.808</td>\n",
              "      <td>-46.808</td>\n",
              "      <td>-49.808</td>\n",
              "      <td>-65.808</td>\n",
              "      <td>-42.808</td>\n",
              "      <td>...</td>\n",
              "      <td>-89.808</td>\n",
              "      <td>-114.808</td>\n",
              "      <td>-155.808</td>\n",
              "      <td>-170.808</td>\n",
              "      <td>-151.808</td>\n",
              "      <td>-141.808</td>\n",
              "      <td>-118.808</td>\n",
              "      <td>-106.808</td>\n",
              "      <td>-97.808</td>\n",
              "      <td>-74.808</td>\n",
              "      <td>-54.808</td>\n",
              "      <td>-42.808</td>\n",
              "      <td>-12.808</td>\n",
              "      <td>3.192</td>\n",
              "      <td>57.192</td>\n",
              "      <td>77.192</td>\n",
              "      <td>100.192</td>\n",
              "      <td>140.192</td>\n",
              "      <td>171.192</td>\n",
              "      <td>207.192</td>\n",
              "      <td>213.192</td>\n",
              "      <td>195.192</td>\n",
              "      <td>190.192</td>\n",
              "      <td>176.192</td>\n",
              "      <td>151.192</td>\n",
              "      <td>154.192</td>\n",
              "      <td>152.192</td>\n",
              "      <td>143.192</td>\n",
              "      <td>143.192</td>\n",
              "      <td>139.192</td>\n",
              "      <td>147.192</td>\n",
              "      <td>176.192</td>\n",
              "      <td>205.192</td>\n",
              "      <td>204.192</td>\n",
              "      <td>220.192</td>\n",
              "      <td>217.192</td>\n",
              "      <td>211.192</td>\n",
              "      <td>228.192</td>\n",
              "      <td>248.192</td>\n",
              "      <td>286.192</td>\n",
              "    </tr>\n",
              "  </tbody>\n",
              "</table>\n",
              "<p>5 rows × 500 columns</p>\n",
              "</div>"
            ],
            "text/plain": [
              "           0        1        2        3    ...      496      497      498      499\n",
              "LFG1   204.984  213.984  217.984  197.984  ... -179.016 -195.016 -216.016 -214.016\n",
              "LFG10 -138.314 -127.314 -111.314 -148.314  ...   63.686   17.686  -17.314  -40.314\n",
              "LFG11  -64.030  -57.030  -28.030  -50.030  ...  -46.030  -55.030  -83.030  -66.030\n",
              "LFG12 -167.764 -152.764 -158.764 -187.764  ...  196.236  234.236  257.236  293.236\n",
              "LFG13 -139.808 -118.808  -87.808 -102.808  ...  211.192  228.192  248.192  286.192\n",
              "\n",
              "[5 rows x 500 columns]"
            ]
          },
          "metadata": {
            "tags": []
          },
          "execution_count": 12
        }
      ]
    }
  ]
}